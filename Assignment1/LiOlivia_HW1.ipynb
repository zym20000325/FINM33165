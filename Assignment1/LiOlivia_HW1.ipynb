{
 "cells": [
  {
   "cell_type": "markdown",
   "id": "b00b3c65",
   "metadata": {},
   "source": [
    "# HW1\n",
    "### Olivia Li\n",
    "This solution includes the following:\n",
    "- Data Analysis\n",
    "- Parameter Tuning and Model Selection\n",
    "- Optimal Model Fitting and Result Analysis"
   ]
  },
  {
   "cell_type": "markdown",
   "id": "65eb4f16",
   "metadata": {},
   "source": [
    "# 0. Import and Functions"
   ]
  },
  {
   "cell_type": "code",
   "execution_count": 1,
   "id": "6be5c16d",
   "metadata": {},
   "outputs": [],
   "source": [
    "import matplotlib.pyplot as plt\n",
    "import numpy as np\n",
    "import os\n",
    "import pandas as pd\n",
    "import pyro\n",
    "import pyro.distributions as dist\n",
    "from pyro import poutine\n",
    "from pyro.infer.autoguide import AutoDelta,AutoNormal\n",
    "from pyro.optim import Adam\n",
    "from pyro.infer import SVI, TraceEnum_ELBO, Trace_ELBO, config_enumerate, infer_discrete\n",
    "import random\n",
    "import scipy.stats\n",
    "from sklearn.mixture import GaussianMixture\n",
    "import torch\n",
    "from torch.distributions import constraints"
   ]
  },
  {
   "cell_type": "code",
   "execution_count": 2,
   "id": "a08f6462",
   "metadata": {},
   "outputs": [],
   "source": [
    "def initialize(seed):\n",
    "    pyro.set_rng_seed(seed)\n",
    "    pyro.clear_param_store()\n",
    "    guide = AutoDelta(poutine.block(model, expose = ['weight', 'locs', 'scales']),\n",
    "                     init_loc_fn = init_loc_fn )\n",
    "    svi = SVI(model, guide, optim, loss = elbo)\n",
    "    return guide, svi, svi.loss(model, guide, data)"
   ]
  },
  {
   "cell_type": "code",
   "execution_count": 16,
   "id": "4a992fa9-671a-420c-87f0-b8007a4cf068",
   "metadata": {},
   "outputs": [],
   "source": [
    "def estimated_density(x):\n",
    "    return np.sum([scipy.stats.norm(loc=mu, scale=sigma2).pdf(x) * pi \\\n",
    "                   for mu, sigma2, pi in zip(locs.detach().numpy(), \\\n",
    "                                            scales.detach().numpy(), \\\n",
    "                                            weights.detach().numpy())])"
   ]
  },
  {
   "cell_type": "markdown",
   "id": "32350325",
   "metadata": {},
   "source": [
    "# 1. Data Preparation, Histogram & KDE\n",
    "Kernel Density Estimation (KDE) is a non-parametric statistical technique used for estimating the probability density function (PDF) of a continuous random variable. KDE of given dataset is shown below."
   ]
  },
  {
   "cell_type": "code",
   "execution_count": 3,
   "id": "1d4c9cab-e01e-4e04-8b94-e89c1b316ffc",
   "metadata": {},
   "outputs": [],
   "source": [
    "df = pd.read_pickle(r'data_set 1.zip')"
   ]
  },
  {
   "cell_type": "code",
   "execution_count": 4,
   "id": "3295e363-fa2b-4510-b874-48a26d4b48a7",
   "metadata": {},
   "outputs": [
    {
     "data": {
      "text/html": [
       "<div>\n",
       "<style scoped>\n",
       "    .dataframe tbody tr th:only-of-type {\n",
       "        vertical-align: middle;\n",
       "    }\n",
       "\n",
       "    .dataframe tbody tr th {\n",
       "        vertical-align: top;\n",
       "    }\n",
       "\n",
       "    .dataframe thead th {\n",
       "        text-align: right;\n",
       "    }\n",
       "</style>\n",
       "<table border=\"1\" class=\"dataframe\">\n",
       "  <thead>\n",
       "    <tr style=\"text-align: right;\">\n",
       "      <th></th>\n",
       "      <th>data</th>\n",
       "    </tr>\n",
       "  </thead>\n",
       "  <tbody>\n",
       "    <tr>\n",
       "      <th>0</th>\n",
       "      <td>0.205676</td>\n",
       "    </tr>\n",
       "    <tr>\n",
       "      <th>1</th>\n",
       "      <td>0.575321</td>\n",
       "    </tr>\n",
       "    <tr>\n",
       "      <th>2</th>\n",
       "      <td>1.346189</td>\n",
       "    </tr>\n",
       "    <tr>\n",
       "      <th>3</th>\n",
       "      <td>-2.107491</td>\n",
       "    </tr>\n",
       "    <tr>\n",
       "      <th>4</th>\n",
       "      <td>0.237493</td>\n",
       "    </tr>\n",
       "  </tbody>\n",
       "</table>\n",
       "</div>"
      ],
      "text/plain": [
       "       data\n",
       "0  0.205676\n",
       "1  0.575321\n",
       "2  1.346189\n",
       "3 -2.107491\n",
       "4  0.237493"
      ]
     },
     "execution_count": 4,
     "metadata": {},
     "output_type": "execute_result"
    }
   ],
   "source": [
    "df.head()"
   ]
  },
  {
   "cell_type": "code",
   "execution_count": 5,
   "id": "aaf25968",
   "metadata": {},
   "outputs": [],
   "source": [
    "data_np = df['data'].to_numpy().reshape(-1, 1)"
   ]
  },
  {
   "cell_type": "code",
   "execution_count": 6,
   "id": "9bfeee66-b6c0-432d-93ee-0c628e627ae3",
   "metadata": {},
   "outputs": [
    {
     "data": {
      "image/png": "[encoded data removed]",
      "text/plain": [
       "<Figure size 432x288 with 1 Axes>"
      ]
     },
     "metadata": {
      "needs_background": "light"
     },
     "output_type": "display_data"
    }
   ],
   "source": [
    "plt.hist(df['data'], bins=4000, color='blue', alpha=0.6)\n",
    "plt.xlabel('Value')\n",
    "plt.ylabel('Frequency')\n",
    "plt.title(f'Histogram of data')\n",
    "plt.show()"
   ]
  },
  {
   "cell_type": "code",
   "execution_count": 7,
   "id": "b24dda0a",
   "metadata": {},
   "outputs": [
    {
     "data": {
      "image/png": "[encoded data removed]",
      "text/plain": [
       "<Figure size 432x288 with 1 Axes>"
      ]
     },
     "metadata": {
      "needs_background": "light"
     },
     "output_type": "display_data"
    }
   ],
   "source": [
    "#this code displays the histogram of the data set with a smooth curve overlaid\n",
    "import seaborn as sns\n",
    "\n",
    "ax = df['data'].plot.hist(bins=100, density=True, edgecolor='w', linewidth=2.5)\n",
    "\n",
    "# Save default x-axis limits for final formatting because the pandas kde\n",
    "# plot uses much wider limits which usually decreases readability\n",
    "xlim = ax.get_xlim()\n",
    "\n",
    "# Plot pandas KDE\n",
    "df['data'].plot.density(color='r', linewidth = 10,alpha=1, ax=ax) # same as df['var'].plot.kde()\n",
    "\n",
    "# Reset x-axis limits and edit legend and add title\n",
    "ax.set_xlim(xlim)\n",
    "ax.legend(labels=['KDE'], frameon=False)\n",
    "ax.set_title('Pandas histogram overlaid with KDE', fontsize=14, pad=15)\n",
    "\n",
    "plt.show()"
   ]
  },
  {
   "cell_type": "markdown",
   "id": "1303cfb9",
   "metadata": {},
   "source": [
    "## 2. Parameter Selection\n",
    "\n",
    "Here we use BIC as the metrix to evaluate the performance of the model. We choose BIC because it aims to balance model **fit** and model **complexity** by penalizing models with a higher number of parameters."
   ]
  },
  {
   "cell_type": "code",
   "execution_count": 8,
   "id": "feef3fd1",
   "metadata": {},
   "outputs": [],
   "source": [
    "# Initialize a list to store BIC scores\n",
    "bic_scores = []\n",
    "\n",
    "n_range = range(2, 11)\n",
    "# Loop through different values of n_components\n",
    "for n in n_range:\n",
    "    gmm = GaussianMixture(n_components = n,\n",
    "                     covariance_type = 'full',\n",
    "                     tol = 0.001,\n",
    "                     reg_covar = 1e-06,\n",
    "                     max_iter = 700,\n",
    "                     n_init = 1,\n",
    "                     init_params = 'kmeans')\n",
    "    gmm.fit(data_np)  # Fit the GMM to your data\n",
    "    bic_scores.append(gmm.bic(data_np))  # Calculate and store the BIC score"
   ]
  },
  {
   "cell_type": "code",
   "execution_count": 9,
   "id": "f5e6d935",
   "metadata": {},
   "outputs": [
    {
     "data": {
      "image/png": "[encoded data removed]",
      "text/plain": [
       "<Figure size 432x288 with 1 Axes>"
      ]
     },
     "metadata": {
      "needs_background": "light"
     },
     "output_type": "display_data"
    },
    {
     "name": "stdout",
     "output_type": "stream",
     "text": [
      "The best number of components is 1 with a BIC score of 72840.71935645101\n"
     ]
    }
   ],
   "source": [
    "# Plot the BIC scores\n",
    "plt.plot(n_range, bic_scores, marker='o')\n",
    "plt.xlabel(\"Number of Components (n)\")\n",
    "plt.ylabel(\"BIC Score\")\n",
    "plt.title(\"BIC Score for Different Numbers of Components\")\n",
    "plt.grid(True)\n",
    "plt.show()\n",
    "\n",
    "# Find the best number of components based on the lowest BIC score\n",
    "best_n_components = np.argmin(bic_scores) + 1\n",
    "print(f\"The best number of components is {best_n_components} with a BIC score of {bic_scores[best_n_components - 1]}\")\n"
   ]
  },
  {
   "cell_type": "code",
   "execution_count": 10,
   "id": "03a0028e",
   "metadata": {},
   "outputs": [],
   "source": [
    "# Initialize a list to store BIC scores\n",
    "bic_scores_ = []\n",
    "\n",
    "n_range = range(2, 11)\n",
    "# Loop through different values of n_components\n",
    "for n in n_range:\n",
    "    gmm = GaussianMixture(n_components = n,\n",
    "                     covariance_type = 'spherical',\n",
    "                     tol = 1e-06,\n",
    "                     max_iter = 1000)\n",
    "    gmm.fit(data_np)  # Fit the GMM to your data\n",
    "    bic_scores_.append(gmm.bic(data_np))  # Calculate and store the BIC score"
   ]
  },
  {
   "cell_type": "code",
   "execution_count": 11,
   "id": "e5914ea1",
   "metadata": {},
   "outputs": [
    {
     "data": {
      "image/png": "[encoded data removed]",
      "text/plain": [
       "<Figure size 432x288 with 1 Axes>"
      ]
     },
     "metadata": {
      "needs_background": "light"
     },
     "output_type": "display_data"
    },
    {
     "name": "stdout",
     "output_type": "stream",
     "text": [
      "The best number of components is 3 with a BIC score of 72683.18334978753\n"
     ]
    }
   ],
   "source": [
    "# Plot the BIC scores\n",
    "plt.plot(n_range, bic_scores_, marker='o')\n",
    "plt.xlabel(\"Number of Components (n)\")\n",
    "plt.ylabel(\"BIC Score\")\n",
    "plt.title(\"BIC Score for Different Numbers of Components\")\n",
    "plt.grid(True)\n",
    "plt.show()\n",
    "\n",
    "# Find the best number of components based on the lowest BIC score\n",
    "best_n_components = np.argmin(bic_scores_) + 1\n",
    "print(f\"The best number of components is {best_n_components} with a BIC score of {bic_scores_[best_n_components - 1]}\")\n"
   ]
  },
  {
   "cell_type": "markdown",
   "id": "0b1d240e",
   "metadata": {},
   "source": [
    "# 3. Optimal Model Fitting\n",
    "\n",
    "We conclude that **K = 4** is the optimal parameter.\n",
    "\n",
    "In the following code, we plot the **histogram** of data, the **KDE** probability plot of given dataset, and the **predicted probability of fitted model**.\n",
    "\n",
    "We conclude that the fitted model matches with the real dataset."
   ]
  },
  {
   "cell_type": "code",
   "execution_count": 18,
   "id": "ae0dd34c",
   "metadata": {},
   "outputs": [],
   "source": [
    "data = torch.tensor(df.values.ravel().tolist())"
   ]
  },
  {
   "cell_type": "code",
   "execution_count": 19,
   "id": "b8b0f776",
   "metadata": {},
   "outputs": [
    {
     "data": {
      "text/plain": [
       "torch.Size([20000])"
      ]
     },
     "execution_count": 19,
     "metadata": {},
     "output_type": "execute_result"
    }
   ],
   "source": [
    "data.shape"
   ]
  },
  {
   "cell_type": "code",
   "execution_count": 20,
   "id": "22171e6c",
   "metadata": {},
   "outputs": [],
   "source": [
    "# we first have to define the pyro model. We first specify the prior. There are three groups of parameters: the weights i.e.\n",
    "# the distribution over {0,1,2}, the means for each of the tree Gaussians and their variances. These are all independent so\n",
    "# the prior is a product of the distributions over each parameter\n",
    "K=4\n",
    "\n",
    "@config_enumerate\n",
    "def model(data):\n",
    "    samples = []\n",
    "    # the distribution pi is sampled from a Dirichlet distribution. The Dirichlet is a distribution over the\n",
    "    # probability simplex i.e. all vectors $x_1,x_2,...,x_n$ with x_i > 0 and summing up to 1\n",
    "    # each of the parameters are stored in the pyro.param_store as items in a dict, as we can see they all have to be named.\n",
    "    # In pyro distributions are basically characterized by their samples\n",
    "    weights=pyro.sample('weights',dist.Dirichlet(0.5*torch.ones(K)))\n",
    "    \n",
    "    #the pyro.plate specifies an array of independent distributions. Here the distribution for each of the means is a\n",
    "    #Gaussian with mean 0 and variance 10, the variances have a LogNormal distribution since the have to be > 0.\n",
    "    # these distributions are stored in an array in the param_store named 'components'\n",
    "    with pyro.plate('components',K):\n",
    "        #the prior distriburion of the means\n",
    "        locs = pyro.sample('locs',dist.Normal(0.,10.))\n",
    "        # the prior distribution of the variances\n",
    "        scales = pyro.sample('scales',dist.LogNormal(0.,2.))\n",
    "        \n",
    "    #here is the likelihood, for each data point an assignment to a Gaussian and then it is a sample from that Gaussian\n",
    "    # first a sample from the distribution pi, which in turn is a sample from the Dirichlet distribution above.\n",
    "    # then a sample from the corresponding Gaussian with mean and variance sampled from the appropriate priors\n",
    "    with pyro.plate('data',len(data)):\n",
    "        assignment = pyro.sample('assignment',dist.Categorical(weights))\n",
    "        pyro.sample('obs',dist.Normal(locs[assignment],scales[assignment]),obs=data)\n",
    "        "
   ]
  },
  {
   "cell_type": "code",
   "execution_count": 21,
   "id": "030bf8af",
   "metadata": {},
   "outputs": [],
   "source": [
    "optim = pyro.optim.Adam({'lr':0.01,'betas':[0.8,0.99]})\n",
    "elbo = TraceEnum_ELBO(max_plate_nesting=1)"
   ]
  },
  {
   "cell_type": "code",
   "execution_count": 22,
   "id": "4ef29df2",
   "metadata": {},
   "outputs": [],
   "source": [
    "#Here we initialize the values, the 'weights' = [1/3,1/3,1/3], the 'scales = variances' = [1,1,1]\n",
    "# and the 'locs=means' = randomly chosen from the data with equal probability\n",
    "def init_loc_fn(site):\n",
    "    if site['name'] == 'weights':\n",
    "        return torch.ones(K)/K\n",
    "    if site['name'] == 'scales':\n",
    "        return torch.ones(K)\n",
    "    if site['name'] == 'locs':\n",
    "        return data[torch.multinomial(torch.ones(len(data))/len(data),K)]\n",
    "    raise ValueError(site['name'])"
   ]
  },
  {
   "cell_type": "code",
   "execution_count": 23,
   "id": "e2de2a3e",
   "metadata": {},
   "outputs": [],
   "source": [
    "pyro.set_rng_seed(0) #this initializes the random number generator\n",
    "pyro.clear_param_store() #This clears out any previous values that might still be stored\n",
    "    \n",
    "guide = AutoDelta(poutine.block(model,expose=['weights','locs','scales']),init_loc_fn =  init_loc_fn )\n",
    "#Here we define the Variational Distribution as a DElta function. The initial parameters are set\n",
    "#by the init_loc_fn function\n",
    "\n",
    "svi = SVI(model,guide,optim,loss=elbo)\n",
    "#This is the object that takes care of all the inference and does stochastic variational inference\n",
    "#to find the optimal parameters (i.e. maximizing the ElBO)"
   ]
  },
  {
   "cell_type": "code",
   "execution_count": 24,
   "id": "2c5f852e",
   "metadata": {
    "scrolled": true
   },
   "outputs": [
    {
     "name": "stdout",
     "output_type": "stream",
     "text": [
      "46839.6484375\n",
      "43635.03515625\n",
      "41419.1640625\n",
      "39747.78515625\n",
      "38587.1484375\n",
      "37837.125\n",
      "37368.0703125\n",
      "37068.84765625\n",
      "36868.44921875\n",
      "36728.44140625\n",
      "36628.09765625\n",
      "36555.41796875\n",
      "36502.58984375\n",
      "36464.11328125\n",
      "36435.9375\n",
      "36415.078125\n",
      "36399.5078125\n",
      "36387.80078125\n",
      "36378.9375\n",
      "36372.23046875\n",
      "36367.16015625\n",
      "36363.3359375\n",
      "36360.453125\n",
      "36358.27734375\n",
      "36356.6875\n",
      "36355.47265625\n",
      "36354.578125\n",
      "36353.91796875\n",
      "36353.40625\n",
      "36352.9921875\n",
      "36352.68359375\n",
      "36352.3984375\n",
      "36352.13671875\n",
      "36351.91796875\n",
      "36351.69140625\n",
      "36351.46484375\n",
      "36351.22265625\n",
      "36350.984375\n",
      "36350.734375\n",
      "36350.48046875\n",
      "36350.21875\n",
      "36349.95703125\n",
      "36349.69140625\n",
      "36349.40234375\n",
      "36349.10546875\n",
      "36348.81640625\n",
      "36348.48828125\n",
      "36348.1875\n",
      "36347.84765625\n",
      "36347.51953125\n",
      "36347.18359375\n",
      "36346.84375\n",
      "36346.49609375\n",
      "36346.1484375\n",
      "36345.76171875\n",
      "36345.41796875\n",
      "36345.05078125\n",
      "36344.6796875\n",
      "36344.3125\n",
      "36343.953125\n",
      "36343.5625\n",
      "36343.18359375\n",
      "36342.78125\n",
      "36342.39453125\n",
      "36341.98046875\n",
      "36341.5625\n",
      "36341.1015625\n",
      "36340.65234375\n",
      "36340.16796875\n",
      "36339.6328125\n",
      "36339.08203125\n",
      "36338.48828125\n",
      "36337.859375\n",
      "36337.171875\n",
      "36336.45703125\n",
      "36335.72265625\n",
      "36334.953125\n",
      "36334.1875\n",
      "36333.4375\n",
      "36332.69921875\n",
      "36331.98828125\n",
      "36331.3046875\n",
      "36330.66796875\n",
      "36330.08203125\n",
      "36329.51953125\n",
      "36329.015625\n",
      "36328.55078125\n",
      "36328.17578125\n",
      "36327.8828125\n",
      "36327.64453125\n",
      "36327.4609375\n",
      "36327.3203125\n",
      "36327.234375\n",
      "36327.140625\n",
      "36327.05078125\n",
      "36326.953125\n",
      "36326.69921875\n",
      "36325.5625\n",
      "36322.80859375\n",
      "36320.41015625\n"
     ]
    }
   ],
   "source": [
    "#Here we run the training loop, the svi object takes care of computing the Monte Carlo gradient\n",
    "#and updating the parameters at each step\n",
    "losses = []\n",
    "for i in range(1000):\n",
    "    loss = svi.step(data)\n",
    "    losses.append(loss)\n",
    "    if i % 10 == 0:\n",
    "        print(loss)"
   ]
  },
  {
   "cell_type": "code",
   "execution_count": 25,
   "id": "a2a38fa2",
   "metadata": {},
   "outputs": [
    {
     "data": {
      "text/plain": [
       "Text(0.5, 1.0, 'Convergence of SVI')"
      ]
     },
     "execution_count": 25,
     "metadata": {},
     "output_type": "execute_result"
    },
    {
     "data": {
      "image/png": "[encoded data removed]",
      "text/plain": [
       "<Figure size 1000x300 with 1 Axes>"
      ]
     },
     "metadata": {},
     "output_type": "display_data"
    }
   ],
   "source": [
    "plt.figure(figsize=(10,3),dpi=100).set_facecolor('white')\n",
    "plt.plot(losses)\n",
    "plt.xlabel('iters')\n",
    "plt.ylabel('loss')\n",
    "plt.yscale('log')\n",
    "plt.title('Convergence of SVI')"
   ]
  },
  {
   "cell_type": "code",
   "execution_count": 26,
   "id": "34845190",
   "metadata": {},
   "outputs": [
    {
     "name": "stdout",
     "output_type": "stream",
     "text": [
      "weights =[0.06863144 0.29540643 0.45017785 0.1857842 ]\n",
      "locs=[ 0.2660426   0.6579813  -0.24388473 -0.39324528]\n",
      "scales = [1.224847   0.5341074  2.1821737  0.43606165]\n"
     ]
    }
   ],
   "source": [
    "map_estimates = guide(data)\n",
    "weights = map_estimates['weights']\n",
    "locs = map_estimates['locs']\n",
    "scales = map_estimates['scales']\n",
    "print('weights ={}'.format(weights.data.numpy()))\n",
    "print('locs={}'.format(locs.data.numpy()))\n",
    "print('scales = {}'.format(scales.data.numpy()))"
   ]
  },
  {
   "cell_type": "code",
   "execution_count": 31,
   "id": "10c2948e-ac7c-4d47-a6bb-00fff2f9016b",
   "metadata": {},
   "outputs": [
    {
     "data": {
      "image/png": "[encoded data removed]",
      "text/plain": [
       "<Figure size 720x432 with 1 Axes>"
      ]
     },
     "metadata": {
      "needs_background": "light"
     },
     "output_type": "display_data"
    }
   ],
   "source": [
    "# Assuming you have a DataFrame named data_df with your data\n",
    "# Extract data from the DataFrame\n",
    "data = df['data'].values  # Replace 'column_name_containing_data' with the actual column name\n",
    "\n",
    "# Parameters for the predicted histogram\n",
    "x_values = np.linspace(data.min(), data.max(), 1000)  # Adjust the number of points as needed\n",
    "predicted_density = [estimated_density(x) for x in x_values]\n",
    "\n",
    "# Create a new figure\n",
    "plt.figure(figsize=(10, 6))\n",
    "\n",
    "# Plot the histogram of the data\n",
    "plt.hist(data, bins=200, density=True, alpha=0.5, label='Data Histogram')\n",
    "df.data.plot.density(label='KDE')\n",
    "# Plot the predicted histogram\n",
    "plt.plot(x_values, predicted_density, label='Predicted Histogram', color='red')\n",
    "\n",
    "# Add labels and a legend\n",
    "plt.xlabel('Value')\n",
    "plt.ylabel('Density')\n",
    "plt.legend()\n",
    "\n",
    "# Show the plot\n",
    "plt.show()"
   ]
  },
  {
   "cell_type": "code",
   "execution_count": null,
   "id": "0c5158e8-0317-45a0-b8fe-4e2d902e0e51",
   "metadata": {},
   "outputs": [],
   "source": []
  }
 ],
 "metadata": {
  "kernelspec": {
   "display_name": "Python 3 (ipykernel)",
   "language": "python",
   "name": "python3"
  },
  "language_info": {
   "codemirror_mode": {
    "name": "ipython",
    "version": 3
   },
   "file_extension": ".py",
   "mimetype": "text/x-python",
   "name": "python",
   "nbconvert_exporter": "python",
   "pygments_lexer": "ipython3",
   "version": "3.9.12"
  }
 },
 "nbformat": 4,
 "nbformat_minor": 5
}
