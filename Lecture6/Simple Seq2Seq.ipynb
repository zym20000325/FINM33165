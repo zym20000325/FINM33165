{
 "cells": [
  {
   "cell_type": "code",
   "execution_count": 1,
   "id": "c7efb55d",
   "metadata": {},
   "outputs": [
    {
     "data": {
      "text/plain": [
       "[<matplotlib.lines.Line2D at 0x25335120d50>]"
      ]
     },
     "execution_count": 1,
     "metadata": {},
     "output_type": "execute_result"
    },
    {
     "data": {
      "image/png": "[encoded data removed]",
      "text/plain": [
       "<Figure size 640x480 with 1 Axes>"
      ]
     },
     "metadata": {},
     "output_type": "display_data"
    }
   ],
   "source": [
    "import matplotlib.pyplot as plt\n",
    "plt.plot([1,2,3])"
   ]
  },
  {
   "cell_type": "code",
   "execution_count": 2,
   "id": "60c23489",
   "metadata": {},
   "outputs": [],
   "source": [
    "import torch\n",
    "import random\n",
    "import torch.nn as nn\n",
    "import torch.nn.functional as F\n",
    "from torch.utils.data import TensorDataset, DataLoader"
   ]
  },
  {
   "cell_type": "code",
   "execution_count": 3,
   "id": "190cc30e",
   "metadata": {},
   "outputs": [],
   "source": [
    "import re\n",
    "import torchtext.data  \n",
    "import numpy as np\n",
    "import pandas as pd\n",
    "import string"
   ]
  },
  {
   "cell_type": "code",
   "execution_count": 4,
   "id": "264bd7a0",
   "metadata": {},
   "outputs": [],
   "source": [
    "from torchtext.vocab import FastText as ft\n",
    "from torchtext.data.utils import get_tokenizer\n",
    "from torchtext.vocab import Vectors\n",
    "from torchtext.transforms import ToTensor\n",
    "from torchtext.vocab import Vectors"
   ]
  },
  {
   "cell_type": "code",
   "execution_count": 5,
   "id": "9e555ea9",
   "metadata": {},
   "outputs": [],
   "source": [
    "from pathlib import Path"
   ]
  },
  {
   "cell_type": "code",
   "execution_count": 6,
   "id": "b6fb3138",
   "metadata": {},
   "outputs": [],
   "source": [
    "import unicodedata"
   ]
  },
  {
   "cell_type": "markdown",
   "id": "d7523555",
   "metadata": {},
   "source": [
    "## Preparing Data"
   ]
  },
  {
   "cell_type": "code",
   "execution_count": 7,
   "id": "f2830fd1",
   "metadata": {},
   "outputs": [],
   "source": [
    "class Vocab:\n",
    "    def __init__(self, name):\n",
    "        self.name = name\n",
    "        self.stoi = {}\n",
    "        self.word2count = {}\n",
    "        self.itos = {0: \"<bos>\",1: \"<pad>\", 2:'<eos>',3:'<unk>'}\n",
    "        self.n_words = 4\n",
    "\n",
    "    def add_sentence(self, sentence):\n",
    "        for w in sentence.split(' '):\n",
    "            self.add_word(w)\n",
    "\n",
    "    def add_word(self, w):\n",
    "        if w not in self.stoi:\n",
    "            self.itos[self.n_words] = w\n",
    "            self.stoi = {w:i for (i,w) in self.itos.items()}\n",
    "            self.word2count[w] = 1 \n",
    "            self.n_words += 1\n",
    "        else:\n",
    "            self.word2count[w] += 1\n",
    "            "
   ]
  },
  {
   "cell_type": "code",
   "execution_count": 8,
   "id": "32346dce",
   "metadata": {},
   "outputs": [],
   "source": [
    "path = Path(r'C:/Users/niels/OneDrive/Probabilistic Programming 2022/data/datasets/giga_fren/giga-fren')"
   ]
  },
  {
   "cell_type": "code",
   "execution_count": 9,
   "id": "02271d1d",
   "metadata": {},
   "outputs": [],
   "source": [
    "def unicode_to_ascii(s):\n",
    "    return ''.join(\n",
    "        c for c in unicodedata.normalize('NFD', s)\n",
    "        if unicodedata.category(c) != 'Mn'\n",
    "    )\n",
    "\n",
    "def normalize_string(s):\n",
    "    s = unicode_to_ascii(s.lower().strip())\n",
    "    s = re.sub(r\"([.!?])\", r\" \\1\", s)\n",
    "    s = re.sub(r\"[^a-zA-Z.!?]+\", r\" \", s)\n",
    "    return s"
   ]
  },
  {
   "cell_type": "code",
   "execution_count": 10,
   "id": "9bbf23ae",
   "metadata": {},
   "outputs": [],
   "source": [
    "en = (path/'giga-fren.release2.fixed.en').read_text(encoding='utf-8)').replace('\\2028','').split('\\n')"
   ]
  },
  {
   "cell_type": "code",
   "execution_count": 11,
   "id": "8696704c",
   "metadata": {},
   "outputs": [],
   "source": [
    "fr = (path/'giga-fren.release2.fixed.fr').read_text(encoding='utf-8)').replace('\\2028','').split('\\n')"
   ]
  },
  {
   "cell_type": "code",
   "execution_count": 12,
   "id": "f87e2f5b",
   "metadata": {},
   "outputs": [],
   "source": [
    "en_fname = path/'giga-fren.release2.fixed.en'\n",
    "fr_fname = path/'giga-fren.release2.fixed.fr'"
   ]
  },
  {
   "cell_type": "code",
   "execution_count": 13,
   "id": "57b16005",
   "metadata": {},
   "outputs": [],
   "source": [
    "re_eq = re.compile('^(Wh[^?.!]+\\?)')\n",
    "re_fq = re.compile('^([^?.!]+\\?)')"
   ]
  },
  {
   "cell_type": "code",
   "execution_count": 14,
   "id": "4baa6618",
   "metadata": {},
   "outputs": [],
   "source": [
    "lines = ((re_eq.search(eq), re_fq.search(fq)) for eq, fq in zip(en, fr))\n",
    "qs = [(e.group(), f.group()) for e,f in lines if e and f]"
   ]
  },
  {
   "cell_type": "code",
   "execution_count": 15,
   "id": "db66c76f",
   "metadata": {},
   "outputs": [],
   "source": [
    "en = [normalize_string(q[0]) for q in qs]"
   ]
  },
  {
   "cell_type": "code",
   "execution_count": 16,
   "id": "4df87676",
   "metadata": {},
   "outputs": [],
   "source": [
    "fr = [normalize_string(q[1]) for q in qs]"
   ]
  },
  {
   "cell_type": "code",
   "execution_count": 17,
   "id": "6e613dd6",
   "metadata": {},
   "outputs": [],
   "source": [
    "df = pd.DataFrame({'en': en, 'fr': fr}, columns = ['en', 'fr'])\n",
    "df.to_csv(path/'questions_easy.csv', index=False)"
   ]
  },
  {
   "cell_type": "code",
   "execution_count": 18,
   "id": "2f00cd2c",
   "metadata": {},
   "outputs": [
    {
     "data": {
      "text/html": [
       "<div>\n",
       "<style scoped>\n",
       "    .dataframe tbody tr th:only-of-type {\n",
       "        vertical-align: middle;\n",
       "    }\n",
       "\n",
       "    .dataframe tbody tr th {\n",
       "        vertical-align: top;\n",
       "    }\n",
       "\n",
       "    .dataframe thead th {\n",
       "        text-align: right;\n",
       "    }\n",
       "</style>\n",
       "<table border=\"1\" class=\"dataframe\">\n",
       "  <thead>\n",
       "    <tr style=\"text-align: right;\">\n",
       "      <th></th>\n",
       "      <th>en</th>\n",
       "      <th>fr</th>\n",
       "    </tr>\n",
       "  </thead>\n",
       "  <tbody>\n",
       "    <tr>\n",
       "      <th>0</th>\n",
       "      <td>what is light ?</td>\n",
       "      <td>qu est ce que la lumiere ?</td>\n",
       "    </tr>\n",
       "    <tr>\n",
       "      <th>1</th>\n",
       "      <td>who are we ?</td>\n",
       "      <td>ou sommes nous ?</td>\n",
       "    </tr>\n",
       "    <tr>\n",
       "      <th>2</th>\n",
       "      <td>where did we come from ?</td>\n",
       "      <td>d ou venons nous ?</td>\n",
       "    </tr>\n",
       "    <tr>\n",
       "      <th>3</th>\n",
       "      <td>what would we do without it ?</td>\n",
       "      <td>que ferions nous sans elle ?</td>\n",
       "    </tr>\n",
       "    <tr>\n",
       "      <th>4</th>\n",
       "      <td>what is the absolute location latitude and lon...</td>\n",
       "      <td>quelle sont les coordonnees latitude et longit...</td>\n",
       "    </tr>\n",
       "    <tr>\n",
       "      <th>...</th>\n",
       "      <td>...</td>\n",
       "      <td>...</td>\n",
       "    </tr>\n",
       "    <tr>\n",
       "      <th>52326</th>\n",
       "      <td>what are the mechanisms for increasing women s...</td>\n",
       "      <td>quels sont les mecanismes susceptibles d ameli...</td>\n",
       "    </tr>\n",
       "    <tr>\n",
       "      <th>52327</th>\n",
       "      <td>why is it still pushed aside silenced or the s...</td>\n",
       "      <td>pourquoi aujourd hui encore ecarte t on cette ...</td>\n",
       "    </tr>\n",
       "    <tr>\n",
       "      <th>52328</th>\n",
       "      <td>why should they not demote a judge who rules a...</td>\n",
       "      <td>pourquoi ne devraient ils pas destituer un jug...</td>\n",
       "    </tr>\n",
       "    <tr>\n",
       "      <th>52329</th>\n",
       "      <td>why is it that we have achieved judicial indep...</td>\n",
       "      <td>pourquoi avons nous reussi a atteindre l indep...</td>\n",
       "    </tr>\n",
       "    <tr>\n",
       "      <th>52330</th>\n",
       "      <td>what s inside introduction to sti did you know ?</td>\n",
       "      <td>contenu introduction aux its saviez vous que ?</td>\n",
       "    </tr>\n",
       "  </tbody>\n",
       "</table>\n",
       "<p>52331 rows × 2 columns</p>\n",
       "</div>"
      ],
      "text/plain": [
       "                                                      en  \\\n",
       "0                                        what is light ?   \n",
       "1                                           who are we ?   \n",
       "2                               where did we come from ?   \n",
       "3                          what would we do without it ?   \n",
       "4      what is the absolute location latitude and lon...   \n",
       "...                                                  ...   \n",
       "52326  what are the mechanisms for increasing women s...   \n",
       "52327  why is it still pushed aside silenced or the s...   \n",
       "52328  why should they not demote a judge who rules a...   \n",
       "52329  why is it that we have achieved judicial indep...   \n",
       "52330   what s inside introduction to sti did you know ?   \n",
       "\n",
       "                                                      fr  \n",
       "0                             qu est ce que la lumiere ?  \n",
       "1                                       ou sommes nous ?  \n",
       "2                                     d ou venons nous ?  \n",
       "3                           que ferions nous sans elle ?  \n",
       "4      quelle sont les coordonnees latitude et longit...  \n",
       "...                                                  ...  \n",
       "52326  quels sont les mecanismes susceptibles d ameli...  \n",
       "52327  pourquoi aujourd hui encore ecarte t on cette ...  \n",
       "52328  pourquoi ne devraient ils pas destituer un jug...  \n",
       "52329  pourquoi avons nous reussi a atteindre l indep...  \n",
       "52330     contenu introduction aux its saviez vous que ?  \n",
       "\n",
       "[52331 rows x 2 columns]"
      ]
     },
     "execution_count": 18,
     "metadata": {},
     "output_type": "execute_result"
    }
   ],
   "source": [
    "df"
   ]
  },
  {
   "cell_type": "markdown",
   "id": "dfd7352e",
   "metadata": {},
   "source": [
    "## Data Frame of pairs en/fr"
   ]
  },
  {
   "cell_type": "code",
   "execution_count": 19,
   "id": "14ff2fb7",
   "metadata": {},
   "outputs": [],
   "source": [
    "df = pd.read_csv(path/'questions_easy.csv')"
   ]
  },
  {
   "cell_type": "markdown",
   "id": "c04863c4",
   "metadata": {},
   "source": [
    "## Limit sentence length to 15 words"
   ]
  },
  {
   "cell_type": "code",
   "execution_count": 20,
   "id": "84cd55e0",
   "metadata": {},
   "outputs": [],
   "source": [
    "df = df.loc[df['en'].apply(lambda x: len(x.split(' '))<=15) & df['fr'].apply(lambda x: len(x.split(' '))<=15)]"
   ]
  },
  {
   "cell_type": "code",
   "execution_count": 21,
   "id": "364a877f",
   "metadata": {},
   "outputs": [
    {
     "data": {
      "text/html": [
       "<div>\n",
       "<style scoped>\n",
       "    .dataframe tbody tr th:only-of-type {\n",
       "        vertical-align: middle;\n",
       "    }\n",
       "\n",
       "    .dataframe tbody tr th {\n",
       "        vertical-align: top;\n",
       "    }\n",
       "\n",
       "    .dataframe thead th {\n",
       "        text-align: right;\n",
       "    }\n",
       "</style>\n",
       "<table border=\"1\" class=\"dataframe\">\n",
       "  <thead>\n",
       "    <tr style=\"text-align: right;\">\n",
       "      <th></th>\n",
       "      <th>en</th>\n",
       "      <th>fr</th>\n",
       "    </tr>\n",
       "  </thead>\n",
       "  <tbody>\n",
       "    <tr>\n",
       "      <th>0</th>\n",
       "      <td>what is light ?</td>\n",
       "      <td>qu est ce que la lumiere ?</td>\n",
       "    </tr>\n",
       "    <tr>\n",
       "      <th>1</th>\n",
       "      <td>who are we ?</td>\n",
       "      <td>ou sommes nous ?</td>\n",
       "    </tr>\n",
       "    <tr>\n",
       "      <th>2</th>\n",
       "      <td>where did we come from ?</td>\n",
       "      <td>d ou venons nous ?</td>\n",
       "    </tr>\n",
       "    <tr>\n",
       "      <th>3</th>\n",
       "      <td>what would we do without it ?</td>\n",
       "      <td>que ferions nous sans elle ?</td>\n",
       "    </tr>\n",
       "    <tr>\n",
       "      <th>4</th>\n",
       "      <td>what is the absolute location latitude and lon...</td>\n",
       "      <td>quelle sont les coordonnees latitude et longit...</td>\n",
       "    </tr>\n",
       "  </tbody>\n",
       "</table>\n",
       "</div>"
      ],
      "text/plain": [
       "                                                  en  \\\n",
       "0                                    what is light ?   \n",
       "1                                       who are we ?   \n",
       "2                           where did we come from ?   \n",
       "3                      what would we do without it ?   \n",
       "4  what is the absolute location latitude and lon...   \n",
       "\n",
       "                                                  fr  \n",
       "0                         qu est ce que la lumiere ?  \n",
       "1                                   ou sommes nous ?  \n",
       "2                                 d ou venons nous ?  \n",
       "3                       que ferions nous sans elle ?  \n",
       "4  quelle sont les coordonnees latitude et longit...  "
      ]
     },
     "execution_count": 21,
     "metadata": {},
     "output_type": "execute_result"
    }
   ],
   "source": [
    "df.head()"
   ]
  },
  {
   "cell_type": "code",
   "execution_count": 22,
   "id": "c9eb2ce9",
   "metadata": {},
   "outputs": [
    {
     "data": {
      "text/plain": [
       "32059"
      ]
     },
     "execution_count": 22,
     "metadata": {},
     "output_type": "execute_result"
    }
   ],
   "source": [
    "len(df)"
   ]
  },
  {
   "cell_type": "code",
   "execution_count": 23,
   "id": "14d7816c",
   "metadata": {},
   "outputs": [],
   "source": [
    "en_vocab = Vocab('en')\n",
    "fr_vocab = Vocab('fr')"
   ]
  },
  {
   "cell_type": "code",
   "execution_count": 24,
   "id": "1144dda1",
   "metadata": {},
   "outputs": [],
   "source": [
    "for sent in df['en'].values:\n",
    "    en_vocab.add_sentence(sent)\n",
    "    \n",
    "for sent in df['fr'].values:\n",
    "    fr_vocab.add_sentence(sent)"
   ]
  },
  {
   "cell_type": "code",
   "execution_count": 25,
   "id": "a4df065e",
   "metadata": {},
   "outputs": [],
   "source": [
    "vects_fr = Vectors(r'./.vector_cache/wiki.fr.vec')\n",
    "vects_en = Vectors(r'./.vector_cache/wiki.en.vec')"
   ]
  },
  {
   "cell_type": "code",
   "execution_count": 26,
   "id": "87bf9029",
   "metadata": {},
   "outputs": [],
   "source": [
    "en_emb = nn.Embedding(len(en_vocab.stoi),300,padding_idx = 1)\n",
    "wgts = en_emb.weight.data"
   ]
  },
  {
   "cell_type": "code",
   "execution_count": 27,
   "id": "bff9a23b",
   "metadata": {},
   "outputs": [
    {
     "data": {
      "text/plain": [
       "11705"
      ]
     },
     "execution_count": 27,
     "metadata": {},
     "output_type": "execute_result"
    }
   ],
   "source": [
    "len(en_vocab.stoi)"
   ]
  },
  {
   "cell_type": "code",
   "execution_count": 28,
   "id": "fc8a5c73",
   "metadata": {},
   "outputs": [
    {
     "name": "stderr",
     "output_type": "stream",
     "text": [
      "C:\\Users\\niels\\AppData\\Local\\Temp\\ipykernel_7288\\2312731608.py:3: UserWarning: To copy construct from a tensor, it is recommended to use sourceTensor.clone().detach() or sourceTensor.clone().detach().requires_grad_(True), rather than torch.tensor(sourceTensor).\n",
      "  try: wgts[i+3] = torch.tensor(vects_en.get_vecs_by_tokens(w))\n"
     ]
    }
   ],
   "source": [
    "miss = []\n",
    "for w,i in en_vocab.stoi.items():\n",
    "    try: wgts[i+3] = torch.tensor(vects_en.get_vecs_by_tokens(w))\n",
    "    except: miss.append(w)       "
   ]
  },
  {
   "cell_type": "code",
   "execution_count": 29,
   "id": "3f5206a5",
   "metadata": {},
   "outputs": [
    {
     "data": {
      "text/plain": [
       "['waves', 'fertilizer', 'sti']"
      ]
     },
     "execution_count": 29,
     "metadata": {},
     "output_type": "execute_result"
    }
   ],
   "source": [
    "miss"
   ]
  },
  {
   "cell_type": "code",
   "execution_count": 95,
   "id": "71c68906",
   "metadata": {},
   "outputs": [],
   "source": [
    "fr_emb = nn.Embedding(len(fr_vocab.stoi),300,padding_idx=1)\n",
    "wgts = fr_emb.weight.data"
   ]
  },
  {
   "cell_type": "code",
   "execution_count": 96,
   "id": "b4602311",
   "metadata": {},
   "outputs": [
    {
     "name": "stderr",
     "output_type": "stream",
     "text": [
      "C:\\Users\\niels\\AppData\\Local\\Temp\\ipykernel_7288\\1027033436.py:3: UserWarning: To copy construct from a tensor, it is recommended to use sourceTensor.clone().detach() or sourceTensor.clone().detach().requires_grad_(True), rather than torch.tensor(sourceTensor).\n",
      "  try:wgts[i+1] = torch.tensor(vects_fr.get_vecs_by_tokens(w))\n"
     ]
    }
   ],
   "source": [
    "miss = []\n",
    "for w,i in fr_vocab.stoi.items():\n",
    "    try:wgts[i+1] = torch.tensor(vects_fr.get_vecs_by_tokens(w))\n",
    "    except: miss.append(w)\n"
   ]
  },
  {
   "cell_type": "code",
   "execution_count": 32,
   "id": "b5b62f71",
   "metadata": {},
   "outputs": [
    {
     "data": {
      "text/plain": [
       "['its']"
      ]
     },
     "execution_count": 32,
     "metadata": {},
     "output_type": "execute_result"
    }
   ],
   "source": [
    "miss"
   ]
  },
  {
   "cell_type": "code",
   "execution_count": 97,
   "id": "acc3f3b8",
   "metadata": {},
   "outputs": [],
   "source": [
    "en_tokenizer = get_tokenizer(None, language='en')\n",
    "fr_tokenizer = get_tokenizer(None, language='fr')"
   ]
  },
  {
   "cell_type": "code",
   "execution_count": 98,
   "id": "a9087704",
   "metadata": {},
   "outputs": [],
   "source": [
    "inputs = [[en_vocab.stoi[y] for y in en_tokenizer(x)] for x in df['en'].values]\n",
    "outputs = [[fr_vocab.stoi[y] for y in en_tokenizer(x)] for x in df['fr'].values]"
   ]
  },
  {
   "cell_type": "code",
   "execution_count": 99,
   "id": "d90a1a46",
   "metadata": {},
   "outputs": [],
   "source": [
    "with torch.no_grad():\n",
    "    for i in range(4):\n",
    "        fr_emb.weight[i] = i * torch.ones(300) \n",
    "        en_emb.weight[i] = i * torch.ones(300) "
   ]
  },
  {
   "cell_type": "code",
   "execution_count": 100,
   "id": "e9818799",
   "metadata": {},
   "outputs": [],
   "source": [
    "inputs_tensor = ToTensor(padding_value = 1)(inputs)\n",
    "outputs_tensor = ToTensor(padding_value = 1)(outputs)"
   ]
  },
  {
   "cell_type": "code",
   "execution_count": 101,
   "id": "21a80ec4",
   "metadata": {},
   "outputs": [
    {
     "data": {
      "text/plain": [
       "tensor([[   4,    5,    6,  ...,    1,    1,    1],\n",
       "        [   8,    9,   10,  ...,    1,    1,    1],\n",
       "        [  11,   12,   10,  ...,    1,    1,    1],\n",
       "        ...,\n",
       "        [   4,  226, 1696,  ...,    1,    1,    1],\n",
       "        [   4,    9,   19,  ...,    1,    1,    1],\n",
       "        [   4,   70, 5994,  ...,    1,    1,    1]])"
      ]
     },
     "execution_count": 101,
     "metadata": {},
     "output_type": "execute_result"
    }
   ],
   "source": [
    "inputs_tensor"
   ]
  },
  {
   "cell_type": "code",
   "execution_count": 102,
   "id": "1a8c5d0e",
   "metadata": {},
   "outputs": [],
   "source": [
    "ds = TensorDataset(inputs_tensor,outputs_tensor)"
   ]
  },
  {
   "cell_type": "code",
   "execution_count": 103,
   "id": "fe509dec",
   "metadata": {},
   "outputs": [
    {
     "data": {
      "text/plain": [
       "['how', 'far', 'are', 'we', 'from', 'home', '<pad>', '<pad>']"
      ]
     },
     "execution_count": 103,
     "metadata": {},
     "output_type": "execute_result"
    }
   ],
   "source": [
    "sent = 'how far are we from home <pad> <pad>'\n",
    "en_tokenizer(sent)"
   ]
  },
  {
   "cell_type": "code",
   "execution_count": 104,
   "id": "856dde6e",
   "metadata": {},
   "outputs": [
    {
     "data": {
      "text/plain": [
       "[362, 3572, 9, 10, 14, 2055, 1, 1]"
      ]
     },
     "execution_count": 104,
     "metadata": {},
     "output_type": "execute_result"
    }
   ],
   "source": [
    "inputs = [en_vocab.stoi[x] for x in en_tokenizer(sent)]\n",
    "inputs"
   ]
  },
  {
   "cell_type": "code",
   "execution_count": 105,
   "id": "e555bf7d",
   "metadata": {},
   "outputs": [
    {
     "data": {
      "text/plain": [
       "tensor([ 362, 3572,    9,   10,   14, 2055,    1,    1])"
      ]
     },
     "execution_count": 105,
     "metadata": {},
     "output_type": "execute_result"
    }
   ],
   "source": [
    "input_tensor = ToTensor(padding_value=1)(inputs)\n",
    "input_tensor"
   ]
  },
  {
   "cell_type": "code",
   "execution_count": 106,
   "id": "2472faf0",
   "metadata": {},
   "outputs": [
    {
     "data": {
      "text/plain": [
       "tensor([[-0.1672, -0.1384,  0.1182,  ...,  0.1266,  0.0362,  0.1928],\n",
       "        [-0.1799,  0.0375, -0.1555,  ..., -0.1737, -0.0040, -0.3760],\n",
       "        [-0.2460,  0.0144,  0.3907,  ...,  0.1473,  0.2367,  0.1317],\n",
       "        ...,\n",
       "        [-0.0426, -0.2318, -0.2511,  ...,  0.5004,  0.3683, -0.3703],\n",
       "        [ 1.0000,  1.0000,  1.0000,  ...,  1.0000,  1.0000,  1.0000],\n",
       "        [ 1.0000,  1.0000,  1.0000,  ...,  1.0000,  1.0000,  1.0000]],\n",
       "       grad_fn=<EmbeddingBackward0>)"
      ]
     },
     "execution_count": 106,
     "metadata": {},
     "output_type": "execute_result"
    }
   ],
   "source": [
    "en_emb(input_tensor)"
   ]
  },
  {
   "cell_type": "markdown",
   "id": "81625104",
   "metadata": {},
   "source": [
    "## Seq-2_Seq without Attention"
   ]
  },
  {
   "cell_type": "code",
   "execution_count": 107,
   "id": "3b40d0e7",
   "metadata": {},
   "outputs": [],
   "source": [
    "class Encoder(nn.Module):\n",
    "    def __init__(self,vocab,embed,hidden_size,n_layers=1,\n",
    "                dropout=0.5):\n",
    "        super().__init__()\n",
    "        self.vocab = vocab\n",
    "        self.hidden_size = hidden_size\n",
    "        self.embed = embed\n",
    "        self.gru = nn.GRU(embed.embedding_dim,hidden_size,n_layers,batch_first=True)\n",
    "        \n",
    "    def forward(self,src,hidden=None):\n",
    "        bs = src.size(0)\n",
    "        hidden = torch.zeros(1,bs,self.hidden_size)\n",
    "        \n",
    "        emb = self.embed(src)\n",
    "        \n",
    "        _,h = self.gru(emb,hidden)\n",
    "\n",
    "\n",
    "        return h"
   ]
  },
  {
   "cell_type": "code",
   "execution_count": 108,
   "id": "cbd6d26e",
   "metadata": {},
   "outputs": [],
   "source": [
    "class Decoder(nn.Module):\n",
    "    def __init__(self,vocab,embed,hidden_size,n_layers=1,\n",
    "                dropout=0.5):\n",
    "        super().__init__()\n",
    "        self.vocab = vocab\n",
    "        self.vocab_size = len(self.vocab.itos)\n",
    "        self.hidden_size = hidden_size\n",
    "        self.embed = embed\n",
    "        self.gru = nn.GRU(embed.embedding_dim,embed.embedding_dim,batch_first=True)\n",
    "        self.fc = nn.Linear(embed.embedding_dim,len(vocab.stoi))\n",
    "        self.dropout = nn.Dropout(0.35)\n",
    "        \n",
    "    def forward(self,dec_inp,hidden):\n",
    "\n",
    "        emb = self.embed(dec_inp)\n",
    "        outp, h = self.gru(emb,hidden)\n",
    "        outp = self.fc(self.dropout(outp))\n",
    "        return outp, h\n",
    "        \n",
    "\n",
    "            \n"
   ]
  },
  {
   "cell_type": "code",
   "execution_count": 109,
   "id": "35569bff",
   "metadata": {},
   "outputs": [],
   "source": [
    "class Seq2Seq(nn.Module):\n",
    "    def __init__(self,encoder,decoder):\n",
    "        super().__init__()\n",
    "        self.encoder = encoder\n",
    "        self.decoder = decoder\n",
    "        \n",
    "    def forward(self,src):\n",
    "        bs = src.size(0)\n",
    "        max_len = 15\n",
    "        \n",
    "        vocab_size = self.decoder.vocab_size\n",
    "        \n",
    "        hidden = self.encoder(src)\n",
    "\n",
    "        inp = (torch.zeros(src.size(0),1).to(torch.long) + torch.LongTensor([[fr_vocab.stoi['<bos>']]]))\n",
    "\n",
    "        outputs = []\n",
    "\n",
    "        for t in range(max_len):\n",
    "\n",
    "            output,hidden = self.decoder(inp,hidden)\n",
    "            \n",
    "            inp = output.argmax(2)\n",
    "\n",
    "            outputs.append(output)\n",
    "        \n",
    "        outputs = torch.stack(outputs)\n",
    "\n",
    "        return outputs"
   ]
  },
  {
   "cell_type": "code",
   "execution_count": 110,
   "id": "73428c66",
   "metadata": {},
   "outputs": [],
   "source": [
    "enc = Encoder(en_vocab,en_emb,300)"
   ]
  },
  {
   "cell_type": "code",
   "execution_count": 111,
   "id": "304cbaef",
   "metadata": {},
   "outputs": [
    {
     "data": {
      "text/plain": [
       "tensor([[[ 0.3830,  0.5155, -0.4655,  0.0063,  0.1398,  0.2488, -0.0172,\n",
       "          -0.3911,  0.3429, -0.2285,  0.0205,  0.0240,  0.5107, -0.4894,\n",
       "          -0.0356, -0.1619, -0.2947,  0.2176,  0.5921, -0.5237, -0.1027,\n",
       "          -0.3049,  0.1317,  0.2611,  0.2493,  0.0706,  0.3127,  0.6242,\n",
       "          -0.0740,  0.1929, -0.6691,  0.5235,  0.0977,  0.0684, -0.0349,\n",
       "          -0.0234, -0.0494, -0.2394,  0.1514, -0.1522,  0.2769, -0.2328,\n",
       "          -0.0715,  0.0167,  0.2569, -0.1763,  0.1054, -0.2423, -0.5408,\n",
       "           0.3412, -0.2219,  0.4830, -0.1965, -0.2944, -0.3615, -0.3190,\n",
       "          -0.2632,  0.0430, -0.0431, -0.5093, -0.3181, -0.1193,  0.2776,\n",
       "          -0.1445, -0.0451, -0.1209,  0.2394,  0.3950, -0.5826, -0.4095,\n",
       "           0.0255, -0.5743, -0.0076, -0.1472,  0.3422,  0.2426,  0.2184,\n",
       "           0.0281, -0.0178, -0.1512, -0.0988, -0.4235,  0.2323, -0.0310,\n",
       "          -0.0556, -0.2998,  0.1272, -0.1977, -0.0948,  0.1879,  0.5041,\n",
       "          -0.6171, -0.7553, -0.6228,  0.0464,  0.0226,  0.3418,  0.0648,\n",
       "           0.2536, -0.0059, -0.2883,  0.1128, -0.1664,  0.2853,  0.0032,\n",
       "          -0.2229, -0.4536,  0.3099, -0.4199,  0.5620, -0.7325, -0.2933,\n",
       "           0.4354, -0.1679,  0.2012, -0.7121,  0.1009, -0.1723, -0.6223,\n",
       "           0.2213,  0.0822,  0.3827, -0.0393, -0.2868,  0.5824,  0.2241,\n",
       "          -0.0899, -0.4695, -0.4140,  0.4136,  0.1300,  0.4016, -0.4088,\n",
       "          -0.4659,  0.4485,  0.1010, -0.3152, -0.2266, -0.4906, -0.1180,\n",
       "           0.3228, -0.0277, -0.0585,  0.2524,  0.3628,  0.1425, -0.6312,\n",
       "          -0.1556,  0.5666, -0.1625,  0.5855,  0.3106, -0.1328, -0.1446,\n",
       "          -0.4474, -0.2504, -0.2354,  0.3008,  0.1909, -0.2578,  0.1907,\n",
       "          -0.4827,  0.0109,  0.3630,  0.0671, -0.2068,  0.1080, -0.6536,\n",
       "           0.4937, -0.2900, -0.4853,  0.0484,  0.5290, -0.6501, -0.4158,\n",
       "           0.4305, -0.1878, -0.2893,  0.4026, -0.6956,  0.3025, -0.5032,\n",
       "          -0.2108,  0.4747, -0.1687,  0.2347, -0.1442, -0.2423, -0.3745,\n",
       "           0.2697,  0.0425,  0.1779, -0.0767,  0.2319,  0.3693,  0.2741,\n",
       "          -0.4172,  0.1569,  0.7318, -0.5389,  0.4150, -0.2527, -0.2895,\n",
       "           0.1549, -0.1451,  0.3365, -0.3572, -0.1260, -0.5610, -0.1071,\n",
       "          -0.2134,  0.2507, -0.0898, -0.0521, -0.3258,  0.1924, -0.5709,\n",
       "          -0.6784,  0.3232,  0.2837,  0.2979,  0.2893, -0.1373,  0.2356,\n",
       "           0.6224, -0.3968,  0.3148,  0.4934, -0.6031, -0.3239,  0.5328,\n",
       "          -0.6399, -0.3818, -0.6733, -0.3148,  0.2657, -0.3020, -0.0452,\n",
       "           0.2917,  0.0829, -0.0979,  0.0414, -0.1304,  0.0797,  0.1472,\n",
       "          -0.0649, -0.3612, -0.1391,  0.2391, -0.5133,  0.0494, -0.0161,\n",
       "          -0.2046,  0.3735, -0.4742, -0.1370,  0.3948,  0.1975,  0.5405,\n",
       "          -0.0652, -0.3261, -0.2298, -0.0243,  0.3521, -0.1405, -0.6776,\n",
       "           0.0700,  0.6673,  0.2316,  0.3859,  0.2339,  0.0629,  0.1795,\n",
       "           0.7588, -0.3994, -0.3035, -0.0960,  0.1369, -0.0594, -0.0895,\n",
       "           0.5409,  0.0983, -0.4245, -0.4835,  0.1340, -0.4690,  0.5350,\n",
       "          -0.1303,  0.4621,  0.1559, -0.1706, -0.0219, -0.1318,  0.2330,\n",
       "           0.1056,  0.4223,  0.3518,  0.2398,  0.0040, -0.0892]]],\n",
       "       grad_fn=<StackBackward0>)"
      ]
     },
     "execution_count": 111,
     "metadata": {},
     "output_type": "execute_result"
    }
   ],
   "source": [
    "enc(input_tensor.unsqueeze(0))"
   ]
  },
  {
   "cell_type": "code",
   "execution_count": 112,
   "id": "ff299f18",
   "metadata": {},
   "outputs": [],
   "source": [
    "dec = Decoder(fr_vocab,fr_emb,300)"
   ]
  },
  {
   "cell_type": "code",
   "execution_count": 113,
   "id": "56f6bf08",
   "metadata": {},
   "outputs": [],
   "source": [
    "model = Seq2Seq(enc,dec)"
   ]
  },
  {
   "cell_type": "code",
   "execution_count": 121,
   "id": "f6f56a80",
   "metadata": {},
   "outputs": [],
   "source": [
    "ds = TensorDataset(inputs_tensor,outputs_tensor)"
   ]
  },
  {
   "cell_type": "code",
   "execution_count": 122,
   "id": "73e09519",
   "metadata": {},
   "outputs": [],
   "source": [
    "dl = DataLoader(ds,64,shuffle=True)"
   ]
  },
  {
   "cell_type": "code",
   "execution_count": 123,
   "id": "fa25007c",
   "metadata": {},
   "outputs": [],
   "source": [
    "def loss_fn(out,tgt):\n",
    "\n",
    "    return torch.stack([nn.CrossEntropyLoss()(out[i].squeeze(1),tgt.transpose(0,1)[i])\\\n",
    "                        for i in range(tgt.size(1))]).mean()"
   ]
  },
  {
   "cell_type": "code",
   "execution_count": 124,
   "id": "03ea38ae",
   "metadata": {},
   "outputs": [],
   "source": [
    "from torch.optim import Adam"
   ]
  },
  {
   "cell_type": "code",
   "execution_count": 125,
   "id": "24fec736",
   "metadata": {},
   "outputs": [],
   "source": [
    "optim = Adam(model.parameters(),lr=0.001)"
   ]
  },
  {
   "cell_type": "code",
   "execution_count": 126,
   "id": "64000e59",
   "metadata": {},
   "outputs": [],
   "source": [
    "import time"
   ]
  },
  {
   "cell_type": "code",
   "execution_count": 131,
   "id": "5bf1b060",
   "metadata": {
    "scrolled": false
   },
   "outputs": [
    {
     "name": "stdout",
     "output_type": "stream",
     "text": [
      "4.264609400145784\n",
      "3.945262619121346\n",
      "3.757544036396963\n",
      "3.5914640778790927\n",
      "3.4417455634195173\n",
      "3.2999756298141327\n",
      "3.1615019296695612\n",
      "3.032009360319126\n",
      "2.9071624459858665\n",
      "2.7906160992300677\n",
      "2.6816938185168357\n",
      "2.579764576015358\n",
      "2.482069679363045\n",
      "2.3913742018317032\n",
      "2.3088730737834635\n",
      "2.2302811802504303\n",
      "2.155825431475382\n",
      "2.0883837750333987\n",
      "2.029121304938417\n",
      "1.9716570041850656\n",
      "1.9129666884740193\n",
      "1.8659256449240649\n",
      "1.8183707503263584\n",
      "1.7736111296389154\n",
      "1.7318315912863451\n",
      "1.6906863508110275\n",
      "1.654224448575231\n",
      "1.6220240297907602\n",
      "1.5890054800315294\n",
      "1.554557614459725\n",
      "1.529941246895019\n",
      "1.4998260867333935\n",
      "1.4663161910222675\n",
      "1.4434654657950183\n",
      "1.41961904533371\n",
      "1.3937910299101275\n",
      "1.3754388983854038\n",
      "1.3500404443569527\n",
      "1.3296020823324513\n",
      "1.3106995065531093\n",
      "1.289239524843212\n",
      "1.2647407166734188\n",
      "1.2524833418651968\n",
      "1.233708508595259\n",
      "1.2121103410711307\n",
      "1.1976487077400833\n",
      "1.184341675388123\n",
      "1.1659748506641197\n",
      "1.1515581087913818\n",
      "1.1374282378874376\n",
      "1.1255335675742097\n",
      "1.1100938232121116\n",
      "1.0975374668658138\n",
      "1.0831082100401856\n",
      "1.0697554497423762\n",
      "1.0593739796779351\n",
      "1.0437739182137207\n",
      "1.030254776725274\n",
      "1.0241034951752532\n",
      "1.0170420198859331\n",
      "1.0079209033600585\n",
      "0.99705366269795\n",
      "0.9832942249056346\n",
      "0.9739950778717529\n",
      "0.9651504465919769\n",
      "0.9516675739945052\n",
      "0.9446764154110602\n",
      "0.9370830519470627\n",
      "0.9274265283120131\n",
      "0.9203307042102852\n",
      "0.9055698673406285\n",
      "0.9008013143272933\n",
      "0.9000033538736507\n",
      "0.8905176498932753\n",
      "0.8841443319996436\n",
      "0.8724350594950769\n",
      "0.8689468541069183\n",
      "0.8644520776000565\n",
      "0.8588268790178433\n",
      "0.8476900209685762\n",
      "0.8413071610970412\n",
      "0.8363458670660883\n",
      "0.8334305577887271\n",
      "0.8206980348585132\n",
      "0.8197511683205169\n",
      "0.8176545120641857\n",
      "0.8128959472307902\n",
      "0.8020852974312986\n",
      "0.7964724611022516\n",
      "0.7884880641025459\n",
      "0.7824442047558858\n",
      "0.7772043243853631\n",
      "0.781876210264579\n",
      "0.7734468123632039\n",
      "0.7659934461711647\n",
      "0.7598104249693438\n",
      "0.7522638874377557\n",
      "0.754579910142217\n",
      "0.7557153275864805\n",
      "0.7450090300537155\n",
      "CPU times: total: 1d 6h 3min 20s\n",
      "Wall time: 10h 51min 53s\n"
     ]
    }
   ],
   "source": [
    "%%time\n",
    "epochs = range(100)\n",
    "epoch_losses = []\n",
    "for e in epochs:\n",
    "    losses = []\n",
    "    for i, (src,tgt) in enumerate(dl):\n",
    "        \n",
    "        out = model(src)\n",
    "        \n",
    "        loss = loss_fn(out,tgt)\n",
    "        \n",
    "        optim.zero_grad()\n",
    "        \n",
    "        loss.backward()\n",
    "        \n",
    "        optim.step()\n",
    "        \n",
    "        losses.append(loss.item())\n",
    "        \n",
    "    epoch_loss = np.mean(losses)    \n",
    "    epoch_losses.append(epoch_loss)\n",
    "    print(epoch_loss)\n",
    "        \n",
    "        "
   ]
  },
  {
   "cell_type": "code",
   "execution_count": 132,
   "id": "16777ca9",
   "metadata": {},
   "outputs": [
    {
     "data": {
      "text/plain": [
       "[<matplotlib.lines.Line2D at 0x256701a4950>]"
      ]
     },
     "execution_count": 132,
     "metadata": {},
     "output_type": "execute_result"
    },
    {
     "data": {
      "image/png": "[encoded data removed]",
      "text/plain": [
       "<Figure size 640x480 with 1 Axes>"
      ]
     },
     "metadata": {},
     "output_type": "display_data"
    }
   ],
   "source": [
    "plt.plot(epoch_losses)"
   ]
  },
  {
   "cell_type": "code",
   "execution_count": 133,
   "id": "0e8a9104",
   "metadata": {},
   "outputs": [],
   "source": [
    "src,trg = ds[4]\n",
    "src,trg = src.unsqueeze(0),trg.unsqueeze(0)"
   ]
  },
  {
   "cell_type": "code",
   "execution_count": 134,
   "id": "c90dd323",
   "metadata": {},
   "outputs": [
    {
     "data": {
      "text/plain": [
       "' what is the absolute location latitude and longitude of badger newfoundland and labrador ? <pad>'"
      ]
     },
     "execution_count": 134,
     "metadata": {},
     "output_type": "execute_result"
    }
   ],
   "source": [
    "''.join(' '+en_vocab.itos[x] for x in src.squeeze(1).cpu().numpy()[0])"
   ]
  },
  {
   "cell_type": "code",
   "execution_count": 135,
   "id": "44517553",
   "metadata": {},
   "outputs": [
    {
     "data": {
      "text/plain": [
       "' quelle sont les latitude quand et longitude de badger a terre neuve etlabrador ? <pad>'"
      ]
     },
     "execution_count": 135,
     "metadata": {},
     "output_type": "execute_result"
    }
   ],
   "source": [
    "''.join(' '+fr_vocab.itos[x] for x in model(src).argmax(3).reshape(1,-1).squeeze(0).cpu().numpy())"
   ]
  }
 ],
 "metadata": {
  "kernelspec": {
   "display_name": "Python 3 (ipykernel)",
   "language": "python",
   "name": "python3"
  },
  "language_info": {
   "codemirror_mode": {
    "name": "ipython",
    "version": 3
   },
   "file_extension": ".py",
   "mimetype": "text/x-python",
   "name": "python",
   "nbconvert_exporter": "python",
   "pygments_lexer": "ipython3",
   "version": "3.11.5"
  }
 },
 "nbformat": 4,
 "nbformat_minor": 5
}
