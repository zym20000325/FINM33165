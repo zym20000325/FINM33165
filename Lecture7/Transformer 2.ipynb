{
 "cells": [
  {
   "cell_type": "code",
   "execution_count": 1,
   "metadata": {},
   "outputs": [],
   "source": [
    "import matplotlib.pyplot as plt\n",
    "%matplotlib inline"
   ]
  },
  {
   "cell_type": "code",
   "execution_count": 2,
   "metadata": {},
   "outputs": [
    {
     "data": {
      "text/plain": [
       "[<matplotlib.lines.Line2D at 0x18213790700>]"
      ]
     },
     "execution_count": 2,
     "metadata": {},
     "output_type": "execute_result"
    },
    {
     "data": {
      "image/png": "[encoded data removed]",
      "text/plain": [
       "<Figure size 432x288 with 1 Axes>"
      ]
     },
     "metadata": {
      "needs_background": "light"
     },
     "output_type": "display_data"
    }
   ],
   "source": [
    "plt.plot([1,2,3,4])"
   ]
  },
  {
   "cell_type": "code",
   "execution_count": 3,
   "metadata": {
    "ExecuteTime": {
     "end_time": "2019-12-05T00:31:29.263882Z",
     "start_time": "2019-12-05T00:31:28.158899Z"
    }
   },
   "outputs": [],
   "source": [
    "import torch\n",
    "import torch.nn as nn\n",
    "import torch.nn.functional as F\n",
    "import numpy as np"
   ]
  },
  {
   "cell_type": "code",
   "execution_count": 4,
   "metadata": {
    "ExecuteTime": {
     "end_time": "2019-12-05T00:31:46.030392Z",
     "start_time": "2019-12-05T00:31:46.025712Z"
    }
   },
   "outputs": [],
   "source": [
    "emb_dim = 12 \n",
    "model_dim = 16\n",
    "h = 4\n",
    "d_v = d_k = d_q = model_dim//h\n",
    "bs = 2\n",
    "seq_len = 20"
   ]
  },
  {
   "cell_type": "code",
   "execution_count": 5,
   "metadata": {},
   "outputs": [],
   "source": [
    "emb_dim = 12\n",
    "model_dim = 16\n",
    "seq_len = 20\n",
    "\n",
    "W_q = nn.Linear(emb_dim,model_dim)\n",
    "W_k = nn.Linear(emb_dim,model_dim)\n",
    "W_v = nn.Linear(emb_dim,model_dim)"
   ]
  },
  {
   "cell_type": "code",
   "execution_count": 6,
   "metadata": {},
   "outputs": [],
   "source": [
    "input_seq = torch.randn(seq_len,emb_dim)"
   ]
  },
  {
   "cell_type": "code",
   "execution_count": 7,
   "metadata": {},
   "outputs": [],
   "source": [
    "q = W_q(input_seq)\n",
    "k = W_k(input_seq)\n",
    "v = W_v(input_seq)"
   ]
  },
  {
   "cell_type": "code",
   "execution_count": 8,
   "metadata": {},
   "outputs": [
    {
     "name": "stdout",
     "output_type": "stream",
     "text": [
      "torch.Size([20, 16])\n",
      "torch.Size([20, 16])\n",
      "torch.Size([20, 16])\n"
     ]
    }
   ],
   "source": [
    "print(q.shape)\n",
    "print(k.shape)\n",
    "print(v.shape)"
   ]
  },
  {
   "cell_type": "code",
   "execution_count": 9,
   "metadata": {},
   "outputs": [],
   "source": [
    "h = 4\n",
    "q_ = q.chunk(h,dim=-1)\n",
    "k_ = k.chunk(h,dim=-1)\n",
    "v_ = v.chunk(h,dim=-1)"
   ]
  },
  {
   "cell_type": "code",
   "execution_count": 10,
   "metadata": {},
   "outputs": [
    {
     "data": {
      "text/plain": [
       "torch.Size([20, 4])"
      ]
     },
     "execution_count": 10,
     "metadata": {},
     "output_type": "execute_result"
    }
   ],
   "source": [
    "q_[2].size()"
   ]
  },
  {
   "cell_type": "code",
   "execution_count": 11,
   "metadata": {},
   "outputs": [
    {
     "data": {
      "text/plain": [
       "torch.Size([4, 20])"
      ]
     },
     "execution_count": 11,
     "metadata": {},
     "output_type": "execute_result"
    }
   ],
   "source": [
    "k_[2].T.size()"
   ]
  },
  {
   "cell_type": "code",
   "execution_count": 12,
   "metadata": {},
   "outputs": [],
   "source": [
    "scaled_dot_products = []\n",
    "\n",
    "for i in range(h):\n",
    "    dot = (q_[i] @ k_[i].T)/np.sqrt(emb_dim/h)\n",
    "    scaled_dot_products.append(dot)"
   ]
  },
  {
   "cell_type": "code",
   "execution_count": 13,
   "metadata": {},
   "outputs": [
    {
     "data": {
      "text/plain": [
       "torch.Size([20, 20])"
      ]
     },
     "execution_count": 13,
     "metadata": {},
     "output_type": "execute_result"
    }
   ],
   "source": [
    "scaled_dot_products[0].size()"
   ]
  },
  {
   "cell_type": "code",
   "execution_count": 14,
   "metadata": {},
   "outputs": [],
   "source": [
    "softmax = nn.Softmax(dim=1)"
   ]
  },
  {
   "cell_type": "code",
   "execution_count": 15,
   "metadata": {},
   "outputs": [],
   "source": [
    "attn_wgts = []\n",
    "for m in scaled_dot_products:\n",
    "    attn_wgts.append(softmax(m))    "
   ]
  },
  {
   "cell_type": "code",
   "execution_count": 16,
   "metadata": {},
   "outputs": [
    {
     "data": {
      "text/plain": [
       "tensor([1.0000, 1.0000, 1.0000, 1.0000, 1.0000, 1.0000, 1.0000, 1.0000, 1.0000,\n",
       "        1.0000, 1.0000, 1.0000, 1.0000, 1.0000, 1.0000, 1.0000, 1.0000, 1.0000,\n",
       "        1.0000, 1.0000], grad_fn=<SumBackward1>)"
      ]
     },
     "execution_count": 16,
     "metadata": {},
     "output_type": "execute_result"
    }
   ],
   "source": [
    "attn_wgts[0].sum(1)"
   ]
  },
  {
   "cell_type": "code",
   "execution_count": 17,
   "metadata": {},
   "outputs": [],
   "source": [
    "weighted_values = []\n",
    "for i in range(h):\n",
    "    weighted_values.append(attn_wgts[i] @ v_[i])"
   ]
  },
  {
   "cell_type": "code",
   "execution_count": 18,
   "metadata": {},
   "outputs": [
    {
     "data": {
      "text/plain": [
       "torch.Size([20, 4])"
      ]
     },
     "execution_count": 18,
     "metadata": {},
     "output_type": "execute_result"
    }
   ],
   "source": [
    "weighted_values[0].shape"
   ]
  },
  {
   "cell_type": "code",
   "execution_count": 19,
   "metadata": {},
   "outputs": [],
   "source": [
    "out_h = torch.cat(weighted_values,dim=1)"
   ]
  },
  {
   "cell_type": "code",
   "execution_count": 20,
   "metadata": {},
   "outputs": [
    {
     "data": {
      "text/plain": [
       "torch.Size([20, 16])"
      ]
     },
     "execution_count": 20,
     "metadata": {},
     "output_type": "execute_result"
    }
   ],
   "source": [
    "out_h.shape"
   ]
  },
  {
   "cell_type": "code",
   "execution_count": 21,
   "metadata": {},
   "outputs": [],
   "source": [
    "W_o = nn.Linear(model_dim,emb_dim)\n",
    "o = W_o(out_h)"
   ]
  },
  {
   "cell_type": "code",
   "execution_count": 22,
   "metadata": {},
   "outputs": [
    {
     "data": {
      "text/plain": [
       "torch.Size([20, 12])"
      ]
     },
     "execution_count": 22,
     "metadata": {},
     "output_type": "execute_result"
    }
   ],
   "source": [
    "o.shape"
   ]
  },
  {
   "cell_type": "code",
   "execution_count": 23,
   "metadata": {},
   "outputs": [],
   "source": [
    "o = input_seq + o"
   ]
  },
  {
   "cell_type": "code",
   "execution_count": 24,
   "metadata": {},
   "outputs": [],
   "source": [
    "ln_1 = nn.LayerNorm(12)"
   ]
  },
  {
   "cell_type": "code",
   "execution_count": 25,
   "metadata": {},
   "outputs": [],
   "source": [
    "o = ln_1(o)"
   ]
  },
  {
   "cell_type": "code",
   "execution_count": 26,
   "metadata": {},
   "outputs": [
    {
     "data": {
      "text/plain": [
       "torch.Size([20, 12])"
      ]
     },
     "execution_count": 26,
     "metadata": {},
     "output_type": "execute_result"
    }
   ],
   "source": [
    "o.shape"
   ]
  },
  {
   "cell_type": "code",
   "execution_count": null,
   "metadata": {},
   "outputs": [],
   "source": [
    "o.std(dim=1)"
   ]
  },
  {
   "cell_type": "code",
   "execution_count": 27,
   "metadata": {},
   "outputs": [],
   "source": [
    "ff_layer = nn.Sequential(nn.Linear(12,2024),\n",
    "                            nn.ReLU(),\n",
    "                            nn.Linear(2024,12))                           "
   ]
  },
  {
   "cell_type": "code",
   "execution_count": 28,
   "metadata": {},
   "outputs": [],
   "source": [
    "ln_2 = nn.LayerNorm(12)"
   ]
  },
  {
   "cell_type": "code",
   "execution_count": 29,
   "metadata": {},
   "outputs": [],
   "source": [
    "output = ln_2(o + ff_layer(o))"
   ]
  },
  {
   "cell_type": "code",
   "execution_count": 30,
   "metadata": {},
   "outputs": [
    {
     "data": {
      "text/plain": [
       "torch.Size([20, 12])"
      ]
     },
     "execution_count": 30,
     "metadata": {},
     "output_type": "execute_result"
    }
   ],
   "source": [
    "output.shape"
   ]
  },
  {
   "cell_type": "markdown",
   "metadata": {},
   "source": [
    "## Positional Embedding"
   ]
  },
  {
   "cell_type": "code",
   "execution_count": null,
   "metadata": {
    "ExecuteTime": {
     "end_time": "2019-12-05T01:05:58.465498Z",
     "start_time": "2019-12-05T01:05:58.460497Z"
    }
   },
   "outputs": [],
   "source": [
    "div_term = np.array([np.exp(-2*i/12 * np.log(10000)) for i in range(0,100,2)])"
   ]
  },
  {
   "cell_type": "code",
   "execution_count": null,
   "metadata": {
    "ExecuteTime": {
     "end_time": "2019-12-05T01:06:03.681741Z",
     "start_time": "2019-12-05T01:06:03.676740Z"
    }
   },
   "outputs": [],
   "source": []
  },
  {
   "cell_type": "code",
   "execution_count": null,
   "metadata": {
    "ExecuteTime": {
     "end_time": "2019-12-05T01:06:08.071753Z",
     "start_time": "2019-12-05T01:06:08.065694Z"
    }
   },
   "outputs": [],
   "source": [
    "position = np.array([float(i)  for i in range(16)])\n",
    "pe = np.zeros((100,12))\n",
    "pe[:,0::2] = np.sin(np.multiply.outer(position,div_term))\n",
    "pe[:,1::2] = np.cos(np.multiply.outer(position,div_term))"
   ]
  },
  {
   "cell_type": "code",
   "execution_count": null,
   "metadata": {},
   "outputs": [],
   "source": [
    "np.multiply.outer(position,div_term).shape"
   ]
  },
  {
   "cell_type": "code",
   "execution_count": null,
   "metadata": {
    "ExecuteTime": {
     "end_time": "2019-12-05T01:06:10.035696Z",
     "start_time": "2019-12-05T01:06:10.031693Z"
    }
   },
   "outputs": [],
   "source": [
    "pe.shape #sequence_len,embedding_dim"
   ]
  },
  {
   "cell_type": "code",
   "execution_count": 34,
   "metadata": {},
   "outputs": [
    {
     "data": {
      "text/plain": [
       "[0.28366218546322625,\n",
       " 0.47378072050724973,\n",
       " 0.9731902242785206,\n",
       " 0.9987502603949663,\n",
       " 0.9999419807006283,\n",
       " 0.9999973069578462,\n",
       " 0.9999998750000026,\n",
       " 0.999999994198014,\n",
       " 0.9999999997306956,\n",
       " 0.9999999999875,\n",
       " 0.9999999999994198,\n",
       " 0.999999999999973]"
      ]
     },
     "execution_count": 34,
     "metadata": {},
     "output_type": "execute_result"
    }
   ],
   "source": [
    "p_5 = [np.cos(- 5 * np.exp((-2*j/emb_dim)*np.log(10000))) for j in range(emb_dim)]\n",
    "p_5"
   ]
  },
  {
   "cell_type": "code",
   "execution_count": 33,
   "metadata": {},
   "outputs": [
    {
     "data": {
      "text/plain": [
       "[0.28366218546322625,\n",
       " 0.47378072050724973,\n",
       " 0.9731902242785206,\n",
       " 0.9987502603949663,\n",
       " 0.9999419807006283,\n",
       " 0.9999973069578462,\n",
       " 0.9999998750000026,\n",
       " 0.999999994198014,\n",
       " 0.9999999997306956,\n",
       " 0.9999999999875,\n",
       " 0.9999999999994198,\n",
       " 0.999999999999973]"
      ]
     },
     "execution_count": 33,
     "metadata": {},
     "output_type": "execute_result"
    }
   ],
   "source": [
    "p_5"
   ]
  },
  {
   "cell_type": "code",
   "execution_count": 35,
   "metadata": {},
   "outputs": [
    {
     "data": {
      "text/plain": [
       "tensor([ 0,  1,  2,  3,  4,  5,  6,  7,  8,  9, 10, 11, 12, 13, 14, 15, 16, 17,\n",
       "        18, 19, 20, 21, 22, 23, 24, 25, 26, 27, 28, 29, 30, 31, 32, 33, 34, 35,\n",
       "        36, 37, 38, 39, 40, 41, 42, 43, 44, 45, 46, 47, 48, 49, 50, 51, 52, 53,\n",
       "        54, 55, 56, 57, 58, 59, 60, 61, 62, 63, 64, 65, 66, 67, 68, 69, 70, 71,\n",
       "        72, 73, 74, 75, 76, 77, 78, 79, 80, 81, 82, 83, 84, 85, 86, 87, 88, 89,\n",
       "        90, 91, 92, 93, 94, 95, 96, 97, 98, 99])"
      ]
     },
     "execution_count": 35,
     "metadata": {},
     "output_type": "execute_result"
    }
   ],
   "source": [
    "position = torch.arange(100)\n",
    "position"
   ]
  },
  {
   "cell_type": "code",
   "execution_count": 62,
   "metadata": {},
   "outputs": [],
   "source": [
    "pe = torch.zeros(100,48)"
   ]
  },
  {
   "cell_type": "code",
   "execution_count": 63,
   "metadata": {},
   "outputs": [],
   "source": [
    "div_term_even = torch.exp(-(2 * np.log(10000)/48)*torch.arange(0,48,2))\n",
    "div_term_odd = torch.exp(-(2 * np.log(10000)/48)*torch.arange(1,48,2))"
   ]
  },
  {
   "cell_type": "code",
   "execution_count": 64,
   "metadata": {},
   "outputs": [
    {
     "data": {
      "text/plain": [
       "tensor([[0.0000e+00, 0.0000e+00, 0.0000e+00,  ..., 0.0000e+00, 0.0000e+00,\n",
       "         0.0000e+00],\n",
       "        [1.0000e+00, 4.6416e-01, 2.1544e-01,  ..., 1.0000e-07, 4.6416e-08,\n",
       "         2.1544e-08],\n",
       "        [2.0000e+00, 9.2832e-01, 4.3089e-01,  ..., 2.0000e-07, 9.2832e-08,\n",
       "         4.3089e-08],\n",
       "        ...,\n",
       "        [9.7000e+01, 4.5023e+01, 2.0898e+01,  ..., 9.7000e-06, 4.5023e-06,\n",
       "         2.0898e-06],\n",
       "        [9.8000e+01, 4.5488e+01, 2.1113e+01,  ..., 9.8000e-06, 4.5488e-06,\n",
       "         2.1113e-06],\n",
       "        [9.9000e+01, 4.5952e+01, 2.1329e+01,  ..., 9.9000e-06, 4.5952e-06,\n",
       "         2.1329e-06]])"
      ]
     },
     "execution_count": 64,
     "metadata": {},
     "output_type": "execute_result"
    }
   ],
   "source": [
    "(torch.arange(100).to(torch.float).unsqueeze(1) @ div_term_even.unsqueeze(0))"
   ]
  },
  {
   "cell_type": "code",
   "execution_count": 66,
   "metadata": {},
   "outputs": [
    {
     "data": {
      "text/plain": [
       "torch.Size([24])"
      ]
     },
     "execution_count": 66,
     "metadata": {},
     "output_type": "execute_result"
    }
   ],
   "source": [
    "div_term_even.size()"
   ]
  },
  {
   "cell_type": "code",
   "execution_count": 67,
   "metadata": {},
   "outputs": [],
   "source": [
    "pe[:,0::2] = torch.sin((torch.arange(100).to(torch.float).unsqueeze(1) @ div_term_even.unsqueeze(0)))\n",
    "pe[:,1::2] = torch.cos((torch.arange(100).to(torch.float).unsqueeze(1) @ div_term_odd.unsqueeze(0)))"
   ]
  },
  {
   "cell_type": "code",
   "execution_count": 55,
   "metadata": {},
   "outputs": [
    {
     "data": {
      "text/plain": [
       "array([[ 0.0000000e+00,  1.0000000e+00,  0.0000000e+00, ...,\n",
       "         1.0000000e+00,  0.0000000e+00,  1.0000000e+00],\n",
       "       [ 8.4147096e-01,  9.7688168e-01,  4.6399228e-02, ...,\n",
       "         1.0000000e+00,  2.1544356e-07,  1.0000000e+00],\n",
       "       [ 9.0929741e-01,  9.0859562e-01,  9.2698507e-02, ...,\n",
       "         1.0000000e+00,  4.3088713e-07,  1.0000000e+00],\n",
       "       ...,\n",
       "       [ 3.7960774e-01, -4.5970735e-01, -9.7802097e-01, ...,\n",
       "         1.0000000e+00,  2.0898025e-05,  1.0000000e+00],\n",
       "       [-5.7338190e-01, -6.3893133e-01, -9.8664224e-01, ...,\n",
       "         1.0000000e+00,  2.1113468e-05,  1.0000000e+00],\n",
       "       [-9.9920684e-01, -7.8861475e-01, -9.9313813e-01, ...,\n",
       "         1.0000000e+00,  2.1328913e-05,  1.0000000e+00]], dtype=float32)"
      ]
     },
     "execution_count": 55,
     "metadata": {},
     "output_type": "execute_result"
    }
   ],
   "source": [
    "pe.numpy()"
   ]
  },
  {
   "cell_type": "code",
   "execution_count": 69,
   "metadata": {
    "ExecuteTime": {
     "end_time": "2019-12-05T01:06:34.042096Z",
     "start_time": "2019-12-05T01:06:33.223967Z"
    },
    "scrolled": true
   },
   "outputs": [
    {
     "data": {
      "text/plain": [
       "<matplotlib.legend.Legend at 0x1821d71c0d0>"
      ]
     },
     "execution_count": 69,
     "metadata": {},
     "output_type": "execute_result"
    },
    {
     "data": {
      "image/png": "[encoded data removed]",
      "text/plain": [
       "<Figure size 1080x360 with 1 Axes>"
      ]
     },
     "metadata": {
      "needs_background": "light"
     },
     "output_type": "display_data"
    }
   ],
   "source": [
    "plt.figure(figsize=(15, 5))\n",
    "plt.plot(range(0,50),pe.numpy()[:50,[3,4]]);\n",
    "plt.legend(['dimension %d' %p for p in [3,4] ])\n"
   ]
  },
  {
   "cell_type": "code",
   "execution_count": null,
   "metadata": {
    "ExecuteTime": {
     "end_time": "2019-12-05T01:06:35.123479Z",
     "start_time": "2019-12-05T01:06:34.896964Z"
    }
   },
   "outputs": [],
   "source": [
    "plt.figure(figsize=(15,5))\n",
    "plt.plot(range(0,20),pe.T[:,[1,2,20]]);\n",
    "plt.legend(['position %d' %p for p in [1,2,6]])"
   ]
  },
  {
   "cell_type": "code",
   "execution_count": null,
   "metadata": {
    "ExecuteTime": {
     "end_time": "2019-12-05T01:06:39.995058Z",
     "start_time": "2019-12-05T01:06:39.988045Z"
    }
   },
   "outputs": [],
   "source": [
    "pe[3,:] #the positional embedding for position 3 in the sentence"
   ]
  },
  {
   "cell_type": "code",
   "execution_count": null,
   "metadata": {
    "ExecuteTime": {
     "end_time": "2019-12-05T01:07:00.767883Z",
     "start_time": "2019-12-05T01:07:00.761887Z"
    }
   },
   "outputs": [],
   "source": [
    "torch.from_numpy(pe)[:,None,:].size()"
   ]
  },
  {
   "cell_type": "code",
   "execution_count": null,
   "metadata": {
    "ExecuteTime": {
     "end_time": "2019-12-05T01:07:14.300123Z",
     "start_time": "2019-12-05T01:07:14.297154Z"
    }
   },
   "outputs": [],
   "source": [
    "inp = inp + torch.from_numpy(pe)[:,None,:].float()"
   ]
  },
  {
   "cell_type": "code",
   "execution_count": null,
   "metadata": {
    "ExecuteTime": {
     "end_time": "2019-12-05T01:07:18.743305Z",
     "start_time": "2019-12-05T01:07:18.738323Z"
    }
   },
   "outputs": [],
   "source": [
    "inp.size()"
   ]
  },
  {
   "cell_type": "code",
   "execution_count": null,
   "metadata": {
    "ExecuteTime": {
     "end_time": "2019-12-05T01:08:09.612603Z",
     "start_time": "2019-12-05T01:08:09.606401Z"
    }
   },
   "outputs": [],
   "source": [
    "class PositionalEncoder(nn.Module):\n",
    "    def __init__(self,emb_dim,dropout=0,max_sent_len=5000):\n",
    "        super().__init__()\n",
    "        \n",
    "        self.emb_dim = emb_dim\n",
    "        self.dropout = nn.Dropout(dropout)\n",
    "        self.max_sent_len = max_sen_length\n",
    "        \n",
    "        self.div_term = torch.tensor(torch.exp(-2*i/self.emb_dim * torch.log(10000)) for i in torch.arange(0,self.emb_dim,2))\n",
    "        \n",
    "        self.position = torch.arange(self.max_sent_len)\n",
    "        \n",
    "        self.pe = torch.zeros(self.max_sent_len,self.emb_dim)\n",
    "        \n",
    "        self.pe[:,0::2] = torch.sin(self.position * self.div_term)\n",
    "        self.pe[:,1::2] = torch.cos(self.position * self.div_term)\n",
    "        \n",
    "    def forward(self,encoded_seq):\n",
    "        \n",
    "        x =  encoded_seq + self.pe[:,:x.size(1)]\n",
    "        return self.dropout(x)\n",
    "            "
   ]
  },
  {
   "cell_type": "code",
   "execution_count": null,
   "metadata": {
    "ExecuteTime": {
     "end_time": "2019-12-05T01:13:18.550495Z",
     "start_time": "2019-12-05T01:13:18.545495Z"
    }
   },
   "outputs": [],
   "source": [
    "encoder_layer = nn.TransformerEncoderLayer(12,3)"
   ]
  },
  {
   "cell_type": "code",
   "execution_count": null,
   "metadata": {
    "ExecuteTime": {
     "end_time": "2019-12-05T01:13:22.723196Z",
     "start_time": "2019-12-05T01:13:22.690180Z"
    }
   },
   "outputs": [],
   "source": [
    "outp = encoder_layer(inp)"
   ]
  },
  {
   "cell_type": "code",
   "execution_count": null,
   "metadata": {
    "ExecuteTime": {
     "end_time": "2019-12-05T01:13:25.894281Z",
     "start_time": "2019-12-05T01:13:25.889284Z"
    }
   },
   "outputs": [],
   "source": [
    "outp.size()  #sequence_len,batch_size,embedding_dim"
   ]
  },
  {
   "cell_type": "code",
   "execution_count": null,
   "metadata": {
    "ExecuteTime": {
     "end_time": "2019-12-05T01:13:28.083716Z",
     "start_time": "2019-12-05T01:13:28.076208Z"
    }
   },
   "outputs": [],
   "source": [
    "encoder = nn.TransformerEncoder(encoder_layer,6)"
   ]
  },
  {
   "cell_type": "code",
   "execution_count": null,
   "metadata": {
    "ExecuteTime": {
     "end_time": "2019-09-04T00:18:26.876333Z",
     "start_time": "2019-09-04T00:18:26.860377Z"
    }
   },
   "outputs": [],
   "source": [
    "outp = encoder(inp) #this is just composing encoder_layer with itself 6 times"
   ]
  },
  {
   "cell_type": "markdown",
   "metadata": {
    "ExecuteTime": {
     "end_time": "2019-09-02T02:35:55.790722Z",
     "start_time": "2019-09-02T02:35:55.762798Z"
    }
   },
   "source": [
    "## Decoder"
   ]
  },
  {
   "cell_type": "code",
   "execution_count": 70,
   "metadata": {
    "ExecuteTime": {
     "end_time": "2019-12-05T01:51:36.565765Z",
     "start_time": "2019-12-05T01:51:36.561680Z"
    }
   },
   "outputs": [],
   "source": [
    "target_len = 6"
   ]
  },
  {
   "cell_type": "code",
   "execution_count": 96,
   "metadata": {
    "ExecuteTime": {
     "end_time": "2019-12-05T01:51:41.326604Z",
     "start_time": "2019-12-05T01:51:41.322585Z"
    }
   },
   "outputs": [],
   "source": [
    "target = torch.rand(bs,target_len,emb_dim) #The target sequence may have different length than the input seq"
   ]
  },
  {
   "cell_type": "code",
   "execution_count": 97,
   "metadata": {
    "ExecuteTime": {
     "end_time": "2019-12-05T01:52:09.475469Z",
     "start_time": "2019-12-05T01:52:09.471447Z"
    }
   },
   "outputs": [
    {
     "data": {
      "text/plain": [
       "torch.Size([2, 6, 12])"
      ]
     },
     "execution_count": 97,
     "metadata": {},
     "output_type": "execute_result"
    }
   ],
   "source": [
    "target.size()"
   ]
  },
  {
   "cell_type": "code",
   "execution_count": 112,
   "metadata": {
    "ExecuteTime": {
     "end_time": "2019-12-05T01:52:11.551183Z",
     "start_time": "2019-12-05T01:52:11.537183Z"
    }
   },
   "outputs": [
    {
     "data": {
      "text/plain": [
       "tensor([[0., 1., 1., 1., 1., 1.],\n",
       "        [0., 0., 1., 1., 1., 1.],\n",
       "        [0., 0., 0., 1., 1., 1.],\n",
       "        [0., 0., 0., 0., 1., 1.],\n",
       "        [0., 0., 0., 0., 0., 1.],\n",
       "        [0., 0., 0., 0., 0., 0.]])"
      ]
     },
     "execution_count": 112,
     "metadata": {},
     "output_type": "execute_result"
    }
   ],
   "source": [
    "bool_mask = torch.triu(input_seq.new_ones(6,6), diagonal=1).bool()\n",
    "mask = bool_mask.float()\n",
    "mask"
   ]
  },
  {
   "cell_type": "code",
   "execution_count": null,
   "metadata": {},
   "outputs": [],
   "source": []
  },
  {
   "cell_type": "code",
   "execution_count": 113,
   "metadata": {
    "ExecuteTime": {
     "end_time": "2019-12-05T01:52:17.785537Z",
     "start_time": "2019-12-05T01:52:17.767523Z"
    }
   },
   "outputs": [],
   "source": [
    "mask = mask.float().masked_fill(bool_mask,-float('inf')).type_as(mask)"
   ]
  },
  {
   "cell_type": "code",
   "execution_count": 114,
   "metadata": {
    "ExecuteTime": {
     "end_time": "2019-12-05T01:52:18.682693Z",
     "start_time": "2019-12-05T01:52:18.677694Z"
    }
   },
   "outputs": [
    {
     "data": {
      "text/plain": [
       "tensor([[0., -inf, -inf, -inf, -inf, -inf],\n",
       "        [0., 0., -inf, -inf, -inf, -inf],\n",
       "        [0., 0., 0., -inf, -inf, -inf],\n",
       "        [0., 0., 0., 0., -inf, -inf],\n",
       "        [0., 0., 0., 0., 0., -inf],\n",
       "        [0., 0., 0., 0., 0., 0.]])"
      ]
     },
     "execution_count": 114,
     "metadata": {},
     "output_type": "execute_result"
    }
   ],
   "source": [
    "mask"
   ]
  },
  {
   "cell_type": "code",
   "execution_count": 98,
   "metadata": {
    "ExecuteTime": {
     "end_time": "2019-12-05T01:52:31.420632Z",
     "start_time": "2019-12-05T01:52:31.414639Z"
    }
   },
   "outputs": [],
   "source": [
    "emb_dim = 12\n",
    "model_dim = 12\n",
    "seq_len = 6\n",
    "\n",
    "Wd_q = nn.Linear(emb_dim,model_dim)\n",
    "Wd_k = nn.Linear(emb_dim,model_dim)\n",
    "Wd_v = nn.Linear(emb_dim,model_dim)"
   ]
  },
  {
   "cell_type": "code",
   "execution_count": 99,
   "metadata": {
    "ExecuteTime": {
     "end_time": "2019-12-05T01:52:50.263796Z",
     "start_time": "2019-12-05T01:52:50.257798Z"
    }
   },
   "outputs": [],
   "source": [
    "qd = Wd_q(target)\n",
    "kd = Wd_k(target)\n",
    "vd = Wd_v(target)"
   ]
  },
  {
   "cell_type": "code",
   "execution_count": 100,
   "metadata": {
    "ExecuteTime": {
     "end_time": "2019-12-05T01:52:51.783044Z",
     "start_time": "2019-12-05T01:52:51.778033Z"
    }
   },
   "outputs": [],
   "source": [
    "h = 4\n",
    "qd_ = qd.chunk(h,dim=-1)\n",
    "kd_ = kd.chunk(h,dim=-1)\n",
    "vd_ = vd.chunk(h,dim=-1)"
   ]
  },
  {
   "cell_type": "code",
   "execution_count": 101,
   "metadata": {
    "ExecuteTime": {
     "end_time": "2019-12-05T01:52:53.131068Z",
     "start_time": "2019-12-05T01:52:53.125067Z"
    }
   },
   "outputs": [
    {
     "data": {
      "text/plain": [
       "torch.Size([2, 6, 3])"
      ]
     },
     "execution_count": 101,
     "metadata": {},
     "output_type": "execute_result"
    }
   ],
   "source": [
    "qd_[0].shape"
   ]
  },
  {
   "cell_type": "code",
   "execution_count": 104,
   "metadata": {},
   "outputs": [],
   "source": [
    "scores = []\n",
    "\n",
    "for i in range(h):\n",
    "    dot = (qd_[i] @ kd_[i].transpose(1,2))/np.sqrt(emb_dim/h)\n",
    "    scores.append(dot)"
   ]
  },
  {
   "cell_type": "code",
   "execution_count": 105,
   "metadata": {
    "ExecuteTime": {
     "end_time": "2019-12-05T01:53:05.073099Z",
     "start_time": "2019-12-05T01:53:05.069102Z"
    }
   },
   "outputs": [
    {
     "data": {
      "text/plain": [
       "torch.Size([2, 6, 6])"
      ]
     },
     "execution_count": 105,
     "metadata": {},
     "output_type": "execute_result"
    }
   ],
   "source": [
    "scores[0].size()"
   ]
  },
  {
   "cell_type": "code",
   "execution_count": 120,
   "metadata": {
    "ExecuteTime": {
     "end_time": "2019-12-05T01:53:16.270754Z",
     "start_time": "2019-12-05T01:53:16.265756Z"
    }
   },
   "outputs": [
    {
     "data": {
      "text/plain": [
       "tensor([[[-0.0285,  0.0121, -0.0333, -0.0404,  0.0154, -0.0270],\n",
       "         [-0.0058,  0.0797,  0.0305,  0.0041,  0.0582,  0.0532],\n",
       "         [ 0.0007,  0.0875,  0.0133,  0.0033,  0.0485,  0.0426],\n",
       "         [-0.0456,  0.0143, -0.0262, -0.0539,  0.0345, -0.0226],\n",
       "         [ 0.0659,  0.2095,  0.1047,  0.0974,  0.0936,  0.1706],\n",
       "         [-0.0470,  0.0345, -0.0193, -0.0532,  0.0489, -0.0098]],\n",
       "\n",
       "        [[ 0.0071,  0.0983,  0.0215,  0.0948, -0.0832, -0.0108],\n",
       "         [ 0.0119,  0.1661,  0.1080,  0.2046, -0.1184,  0.0282],\n",
       "         [-0.0109,  0.0450,  0.0790,  0.0965, -0.0445,  0.0347],\n",
       "         [ 0.0195,  0.1031,  0.0900,  0.1325, -0.0424,  0.0367],\n",
       "         [-0.1676, -0.2012, -0.0684, -0.0990, -0.1392, -0.0491],\n",
       "         [-0.0359, -0.0070,  0.0174,  0.0304, -0.0579,  0.0002]]],\n",
       "       grad_fn=<DivBackward0>)"
      ]
     },
     "execution_count": 120,
     "metadata": {},
     "output_type": "execute_result"
    }
   ],
   "source": [
    "scores[0]"
   ]
  },
  {
   "cell_type": "code",
   "execution_count": 121,
   "metadata": {
    "ExecuteTime": {
     "end_time": "2019-12-05T01:54:01.243306Z",
     "start_time": "2019-12-05T01:54:01.238792Z"
    }
   },
   "outputs": [],
   "source": [
    "masked_scores = [scores[i].masked_fill(bool_mask, -float('inf')) for i in range(h)]"
   ]
  },
  {
   "cell_type": "code",
   "execution_count": 118,
   "metadata": {},
   "outputs": [
    {
     "data": {
      "text/plain": [
       "tensor([[[-0.0285,    -inf,    -inf,    -inf,    -inf,    -inf],\n",
       "         [-0.0058,  0.0797,    -inf,    -inf,    -inf,    -inf],\n",
       "         [ 0.0007,  0.0875,  0.0133,    -inf,    -inf,    -inf],\n",
       "         [-0.0456,  0.0143, -0.0262, -0.0539,    -inf,    -inf],\n",
       "         [ 0.0659,  0.2095,  0.1047,  0.0974,  0.0936,    -inf],\n",
       "         [-0.0470,  0.0345, -0.0193, -0.0532,  0.0489, -0.0098]],\n",
       "\n",
       "        [[ 0.0071,    -inf,    -inf,    -inf,    -inf,    -inf],\n",
       "         [ 0.0119,  0.1661,    -inf,    -inf,    -inf,    -inf],\n",
       "         [-0.0109,  0.0450,  0.0790,    -inf,    -inf,    -inf],\n",
       "         [ 0.0195,  0.1031,  0.0900,  0.1325,    -inf,    -inf],\n",
       "         [-0.1676, -0.2012, -0.0684, -0.0990, -0.1392,    -inf],\n",
       "         [-0.0359, -0.0070,  0.0174,  0.0304, -0.0579,  0.0002]]],\n",
       "       grad_fn=<MaskedFillBackward0>)"
      ]
     },
     "execution_count": 118,
     "metadata": {},
     "output_type": "execute_result"
    }
   ],
   "source": [
    "masked_scores[0]"
   ]
  },
  {
   "cell_type": "code",
   "execution_count": 122,
   "metadata": {
    "ExecuteTime": {
     "end_time": "2019-12-05T01:54:13.909803Z",
     "start_time": "2019-12-05T01:54:13.905807Z"
    }
   },
   "outputs": [],
   "source": [
    "attn_wgts = [F.softmax(masked_scores[i],2) for i in range(h)]"
   ]
  },
  {
   "cell_type": "code",
   "execution_count": 124,
   "metadata": {
    "ExecuteTime": {
     "end_time": "2019-12-05T01:54:14.940083Z",
     "start_time": "2019-12-05T01:54:14.934085Z"
    }
   },
   "outputs": [
    {
     "data": {
      "text/plain": [
       "tensor([[1.0000, 0.0000, 0.0000, 0.0000, 0.0000, 0.0000],\n",
       "        [0.4786, 0.5214, 0.0000, 0.0000, 0.0000, 0.0000],\n",
       "        [0.3222, 0.3514, 0.3263, 0.0000, 0.0000, 0.0000],\n",
       "        [0.2455, 0.2607, 0.2503, 0.2435, 0.0000, 0.0000],\n",
       "        [0.1903, 0.2197, 0.1979, 0.1964, 0.1957, 0.0000],\n",
       "        [0.1601, 0.1737, 0.1646, 0.1591, 0.1762, 0.1662]],\n",
       "       grad_fn=<SelectBackward0>)"
      ]
     },
     "execution_count": 124,
     "metadata": {},
     "output_type": "execute_result"
    }
   ],
   "source": [
    "attn_wgts[0][0]"
   ]
  },
  {
   "cell_type": "code",
   "execution_count": 125,
   "metadata": {
    "ExecuteTime": {
     "end_time": "2019-12-05T01:54:41.410779Z",
     "start_time": "2019-12-05T01:54:41.407786Z"
    }
   },
   "outputs": [
    {
     "data": {
      "text/plain": [
       "[tensor([[[ 0.2358,  0.1666, -0.2084],\n",
       "          [ 0.1652,  0.1369, -0.2012],\n",
       "          [ 0.2301,  0.2206, -0.1972],\n",
       "          [ 0.2357,  0.2137, -0.2305],\n",
       "          [ 0.1918,  0.1780, -0.2118],\n",
       "          [ 0.2082,  0.2296, -0.1852]],\n",
       " \n",
       "         [[ 0.0545,  0.2453, -0.2914],\n",
       "          [ 0.0931,  0.2300, -0.2193],\n",
       "          [ 0.0975,  0.1336, -0.2211],\n",
       "          [ 0.1925,  0.1445, -0.2197],\n",
       "          [ 0.1754,  0.0929, -0.2479],\n",
       "          [ 0.2393,  0.1326, -0.2367]]], grad_fn=<UnsafeViewBackward0>),\n",
       " tensor([[[ 0.0947, -0.4660, -0.3562],\n",
       "          [ 0.1799, -0.4463, -0.2624],\n",
       "          [ 0.1203, -0.6119, -0.2513],\n",
       "          [ 0.0925, -0.6418, -0.2843],\n",
       "          [ 0.1373, -0.6537, -0.3071],\n",
       "          [ 0.1181, -0.7033, -0.2837]],\n",
       " \n",
       "         [[ 0.2571, -0.5933, -0.4796],\n",
       "          [ 0.1415, -0.5648, -0.4037],\n",
       "          [ 0.0804, -0.4964, -0.4134],\n",
       "          [ 0.0435, -0.4707, -0.3468],\n",
       "          [ 0.0216, -0.4684, -0.3295],\n",
       "          [ 0.0275, -0.5827, -0.3180]]], grad_fn=<UnsafeViewBackward0>),\n",
       " tensor([[[-0.2365, -0.2785, -0.2545],\n",
       "          [-0.2263, -0.2268, -0.4758],\n",
       "          [-0.2485, -0.2523, -0.4647],\n",
       "          [-0.2781, -0.2692, -0.4632],\n",
       "          [-0.2678, -0.3551, -0.4063],\n",
       "          [-0.2520, -0.3276, -0.4350]],\n",
       " \n",
       "         [[-0.6791, -0.3375, -0.3407],\n",
       "          [-0.4095, -0.3207, -0.4124],\n",
       "          [-0.2978, -0.4064, -0.3275],\n",
       "          [-0.2604, -0.3436, -0.3738],\n",
       "          [-0.2213, -0.3162, -0.3390],\n",
       "          [-0.2323, -0.3732, -0.3388]]], grad_fn=<UnsafeViewBackward0>),\n",
       " tensor([[[-0.2539, -0.2823,  0.2460],\n",
       "          [-0.2498, -0.1175,  0.2320],\n",
       "          [-0.4173, -0.0850,  0.2959],\n",
       "          [-0.4046, -0.0754,  0.2912],\n",
       "          [-0.4437, -0.1861,  0.2764],\n",
       "          [-0.4834, -0.1184,  0.3086]],\n",
       " \n",
       "         [[-0.3558, -0.2431,  0.0359],\n",
       "          [-0.4501, -0.2471,  0.3893],\n",
       "          [-0.4462, -0.2621,  0.3366],\n",
       "          [-0.4454, -0.1899,  0.3666],\n",
       "          [-0.4449, -0.1796,  0.3743],\n",
       "          [-0.4240, -0.2206,  0.3382]]], grad_fn=<UnsafeViewBackward0>)]"
      ]
     },
     "execution_count": 125,
     "metadata": {},
     "output_type": "execute_result"
    }
   ],
   "source": [
    "[attn_wgts[i] @ vd_[i] for i in range(h)]"
   ]
  },
  {
   "cell_type": "code",
   "execution_count": 126,
   "metadata": {},
   "outputs": [],
   "source": [
    "out_hd = torch.cat([attn_wgts[i] @ vd_[i] for i in range(h)],dim=2)"
   ]
  },
  {
   "cell_type": "code",
   "execution_count": 128,
   "metadata": {},
   "outputs": [
    {
     "data": {
      "text/plain": [
       "torch.Size([2, 6, 12])"
      ]
     },
     "execution_count": 128,
     "metadata": {},
     "output_type": "execute_result"
    }
   ],
   "source": [
    "out_hd.size()"
   ]
  },
  {
   "cell_type": "code",
   "execution_count": null,
   "metadata": {},
   "outputs": [],
   "source": []
  },
  {
   "cell_type": "code",
   "execution_count": null,
   "metadata": {
    "ExecuteTime": {
     "end_time": "2019-12-05T01:54:55.288688Z",
     "start_time": "2019-12-05T01:54:55.283694Z"
    }
   },
   "outputs": [],
   "source": [
    "def masked_attn(Q,K,V):\n",
    "    score = torch.bmm(Q,K.transpose(1,2))/np.sqrt(d_k)\n",
    "    masked_score = score.masked_fill(bool_mask, -float('inf')).type_as(score)\n",
    "    return torch.bmm(F.softmax(masked_score,2),V)"
   ]
  },
  {
   "cell_type": "code",
   "execution_count": null,
   "metadata": {
    "ExecuteTime": {
     "end_time": "2019-12-05T01:55:00.171064Z",
     "start_time": "2019-12-05T01:55:00.166105Z"
    }
   },
   "outputs": [],
   "source": [
    "x = [masked_attn(Q,K,V) for Q,K,V in zip(q,k,v)]"
   ]
  },
  {
   "cell_type": "code",
   "execution_count": null,
   "metadata": {
    "ExecuteTime": {
     "end_time": "2019-12-05T01:55:10.215108Z",
     "start_time": "2019-12-05T01:55:10.210109Z"
    }
   },
   "outputs": [],
   "source": [
    "x[0].size()"
   ]
  },
  {
   "cell_type": "code",
   "execution_count": null,
   "metadata": {
    "ExecuteTime": {
     "end_time": "2019-12-05T01:55:24.202726Z",
     "start_time": "2019-12-05T01:55:24.198691Z"
    }
   },
   "outputs": [],
   "source": [
    "interm_outp = torch.cat(x,2)"
   ]
  },
  {
   "cell_type": "code",
   "execution_count": null,
   "metadata": {
    "ExecuteTime": {
     "end_time": "2019-12-05T01:55:25.291845Z",
     "start_time": "2019-12-05T01:55:25.287805Z"
    }
   },
   "outputs": [],
   "source": [
    "interm_outp.size()"
   ]
  },
  {
   "cell_type": "code",
   "execution_count": null,
   "metadata": {
    "ExecuteTime": {
     "end_time": "2019-12-05T01:55:43.585487Z",
     "start_time": "2019-12-05T01:55:43.581455Z"
    }
   },
   "outputs": [],
   "source": [
    "layer_norm_dec_1 = nn.LayerNorm(d_e)"
   ]
  },
  {
   "cell_type": "code",
   "execution_count": null,
   "metadata": {
    "ExecuteTime": {
     "end_time": "2019-12-05T01:55:44.753044Z",
     "start_time": "2019-12-05T01:55:44.750009Z"
    }
   },
   "outputs": [],
   "source": [
    "interm_outp = layer_norm_dec_1(tar_ + interm_outp)"
   ]
  },
  {
   "cell_type": "code",
   "execution_count": null,
   "metadata": {
    "ExecuteTime": {
     "end_time": "2019-12-05T01:55:55.786907Z",
     "start_time": "2019-12-05T01:55:55.783944Z"
    }
   },
   "outputs": [],
   "source": [
    "enc_outp = outp.transpose(0,1)"
   ]
  },
  {
   "cell_type": "code",
   "execution_count": null,
   "metadata": {
    "ExecuteTime": {
     "end_time": "2019-12-05T01:55:56.954642Z",
     "start_time": "2019-12-05T01:55:56.948564Z"
    }
   },
   "outputs": [],
   "source": [
    "W_Q_dec_2 = nn.ModuleList([nn.Linear(d_e,d_q) for _ in range(h)])\n",
    "W_K_dec_2 = nn.ModuleList([nn.Linear(d_e,d_k) for _ in range(h)])\n",
    "W_V_dec_2 =nn.ModuleList([nn.Linear(d_e,d_v) for _ in range(h)])\n",
    " "
   ]
  },
  {
   "cell_type": "code",
   "execution_count": null,
   "metadata": {
    "ExecuteTime": {
     "end_time": "2019-12-05T01:55:58.657743Z",
     "start_time": "2019-12-05T01:55:58.652780Z"
    }
   },
   "outputs": [],
   "source": [
    "q_dec_2 = [l(interm_outp) for l in W_Q_dec_2]\n",
    "k_dec_2 = [l(enc_outp) for l in W_K_dec_2]\n",
    "v_dec_2 = [l(enc_outp) for l in W_V_dec_2]"
   ]
  },
  {
   "cell_type": "code",
   "execution_count": null,
   "metadata": {
    "ExecuteTime": {
     "end_time": "2019-09-04T01:29:02.041294Z",
     "start_time": "2019-09-04T01:29:02.037228Z"
    }
   },
   "outputs": [],
   "source": [
    "q_dec_2[0].size()"
   ]
  },
  {
   "cell_type": "code",
   "execution_count": null,
   "metadata": {
    "ExecuteTime": {
     "end_time": "2019-12-05T02:01:29.724506Z",
     "start_time": "2019-12-05T02:01:29.719510Z"
    }
   },
   "outputs": [],
   "source": [
    "k_dec_2[0].size()"
   ]
  },
  {
   "cell_type": "code",
   "execution_count": null,
   "metadata": {
    "ExecuteTime": {
     "end_time": "2019-12-05T02:01:39.064152Z",
     "start_time": "2019-12-05T02:01:39.059155Z"
    }
   },
   "outputs": [],
   "source": [
    "x = [attn(Q,K,V) for Q,K,V in zip(q_dec_2,k_dec_2,v_dec_2)]"
   ]
  },
  {
   "cell_type": "code",
   "execution_count": null,
   "metadata": {
    "ExecuteTime": {
     "end_time": "2019-12-05T02:01:48.035633Z",
     "start_time": "2019-12-05T02:01:48.031673Z"
    }
   },
   "outputs": [],
   "source": [
    "x = torch.cat(x,2)"
   ]
  },
  {
   "cell_type": "code",
   "execution_count": null,
   "metadata": {
    "ExecuteTime": {
     "end_time": "2019-12-05T02:01:48.971160Z",
     "start_time": "2019-12-05T02:01:48.966162Z"
    }
   },
   "outputs": [],
   "source": [
    "x.size()"
   ]
  },
  {
   "cell_type": "code",
   "execution_count": null,
   "metadata": {
    "ExecuteTime": {
     "end_time": "2019-12-05T02:01:53.797806Z",
     "start_time": "2019-12-05T02:01:53.794615Z"
    }
   },
   "outputs": [],
   "source": [
    "layer_norm_2 = nn.LayerNorm(d_e)"
   ]
  },
  {
   "cell_type": "code",
   "execution_count": null,
   "metadata": {
    "ExecuteTime": {
     "end_time": "2019-12-05T02:01:55.029503Z",
     "start_time": "2019-12-05T02:01:55.025447Z"
    }
   },
   "outputs": [],
   "source": [
    "dec_outp = layer_norm_2(x + interm_outp)"
   ]
  },
  {
   "cell_type": "code",
   "execution_count": null,
   "metadata": {
    "ExecuteTime": {
     "end_time": "2019-12-05T02:01:57.309462Z",
     "start_time": "2019-12-05T02:01:57.304463Z"
    }
   },
   "outputs": [],
   "source": [
    "dec_outp.size()"
   ]
  },
  {
   "cell_type": "code",
   "execution_count": null,
   "metadata": {
    "ExecuteTime": {
     "end_time": "2019-09-04T01:43:34.273309Z",
     "start_time": "2019-09-04T01:43:34.268270Z"
    }
   },
   "outputs": [],
   "source": [
    "dec_layer = nn.TransformerDecoderLayer(d_e,3)"
   ]
  },
  {
   "cell_type": "code",
   "execution_count": null,
   "metadata": {
    "ExecuteTime": {
     "end_time": "2019-09-04T01:44:48.363032Z",
     "start_time": "2019-09-04T01:44:48.358046Z"
    }
   },
   "outputs": [],
   "source": [
    "target.size()   # the Pytorch classes take tensors in the format (sequence_len,batch_size,embedding_dim)"
   ]
  },
  {
   "cell_type": "code",
   "execution_count": null,
   "metadata": {
    "ExecuteTime": {
     "end_time": "2019-09-04T01:49:39.099676Z",
     "start_time": "2019-09-04T01:49:39.084747Z"
    }
   },
   "outputs": [],
   "source": [
    "dec_layer(target,outp,tgt_mask=mask)"
   ]
  },
  {
   "cell_type": "code",
   "execution_count": null,
   "metadata": {},
   "outputs": [],
   "source": [
    "forward(tgt, memory, tgt_mask=None, memory_mask=None, tgt_key_padding_mask=None, memory_key_padding_mask=None)\n"
   ]
  },
  {
   "cell_type": "code",
   "execution_count": null,
   "metadata": {
    "ExecuteTime": {
     "end_time": "2019-09-04T01:56:53.397893Z",
     "start_time": "2019-09-04T01:56:53.375947Z"
    }
   },
   "outputs": [],
   "source": [
    "transformer = nn.Transformer(d_e,3,6)"
   ]
  },
  {
   "cell_type": "code",
   "execution_count": null,
   "metadata": {
    "ExecuteTime": {
     "end_time": "2019-09-04T01:57:23.869132Z",
     "start_time": "2019-09-04T01:57:23.836183Z"
    }
   },
   "outputs": [],
   "source": [
    "transformer(inp,target,tgt_mask=mask)"
   ]
  },
  {
   "cell_type": "code",
   "execution_count": null,
   "metadata": {
    "ExecuteTime": {
     "end_time": "2019-09-03T20:32:04.137119Z",
     "start_time": "2019-09-03T20:32:04.131137Z"
    }
   },
   "outputs": [],
   "source": [
    "target.size()"
   ]
  },
  {
   "cell_type": "code",
   "execution_count": null,
   "metadata": {
    "ExecuteTime": {
     "end_time": "2019-09-03T20:32:12.884398Z",
     "start_time": "2019-09-03T20:32:12.879405Z"
    }
   },
   "outputs": [],
   "source": [
    "inp.size()"
   ]
  },
  {
   "cell_type": "code",
   "execution_count": null,
   "metadata": {},
   "outputs": [],
   "source": []
  }
 ],
 "metadata": {
  "kernelspec": {
   "display_name": "Python 3 (ipykernel)",
   "language": "python",
   "name": "python3"
  },
  "language_info": {
   "codemirror_mode": {
    "name": "ipython",
    "version": 3
   },
   "file_extension": ".py",
   "mimetype": "text/x-python",
   "name": "python",
   "nbconvert_exporter": "python",
   "pygments_lexer": "ipython3",
   "version": "3.11.5"
  },
  "latex_envs": {
   "LaTeX_envs_menu_present": true,
   "autoclose": false,
   "autocomplete": true,
   "bibliofile": "biblio.bib",
   "cite_by": "apalike",
   "current_citInitial": 1,
   "eqLabelWithNumbers": true,
   "eqNumInitial": 1,
   "hotkeys": {
    "equation": "Ctrl-E",
    "itemize": "Ctrl-I"
   },
   "labels_anchors": false,
   "latex_user_defs": false,
   "report_style_numbering": false,
   "user_envs_cfg": false
  }
 },
 "nbformat": 4,
 "nbformat_minor": 2
}
