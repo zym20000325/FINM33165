{
 "cells": [
  {
   "cell_type": "code",
   "execution_count": 1,
   "id": "9b83a780",
   "metadata": {},
   "outputs": [],
   "source": [
    "import matplotlib.pyplot as plt"
   ]
  },
  {
   "cell_type": "code",
   "execution_count": 2,
   "id": "ae35d7d4",
   "metadata": {},
   "outputs": [],
   "source": [
    "%matplotlib inline"
   ]
  },
  {
   "cell_type": "code",
   "execution_count": 3,
   "id": "0df0eed2",
   "metadata": {},
   "outputs": [
    {
     "data": {
      "text/plain": [
       "[<matplotlib.lines.Line2D at 0x21a889a05d0>]"
      ]
     },
     "execution_count": 3,
     "metadata": {},
     "output_type": "execute_result"
    },
    {
     "data": {
      "image/png": "[encoded data removed]",
      "text/plain": [
       "<Figure size 640x480 with 1 Axes>"
      ]
     },
     "metadata": {},
     "output_type": "display_data"
    }
   ],
   "source": [
    "plt.plot([1,2,3,4,5,6])"
   ]
  },
  {
   "cell_type": "code",
   "execution_count": 4,
   "id": "fc175d82",
   "metadata": {},
   "outputs": [],
   "source": [
    "import torch\n",
    "import random\n",
    "import torch.nn as nn\n",
    "import torch.nn.functional as F\n",
    "from torch.utils.data import TensorDataset, DataLoader"
   ]
  },
  {
   "cell_type": "code",
   "execution_count": 5,
   "id": "efc2aa9e",
   "metadata": {},
   "outputs": [],
   "source": [
    "import re \n",
    "import numpy as np\n",
    "import pandas as pd\n",
    "import string\n",
    "\n",
    "from pathlib import Path\n",
    "import unicodedata"
   ]
  },
  {
   "cell_type": "code",
   "execution_count": 6,
   "id": "25d8ae10",
   "metadata": {},
   "outputs": [],
   "source": [
    "import torchtext.data \n",
    "from torchtext.data.utils import get_tokenizer\n",
    "from torchtext.vocab import Vectors\n",
    "from torchtext.transforms import ToTensor\n"
   ]
  },
  {
   "cell_type": "code",
   "execution_count": null,
   "id": "8362c2f3",
   "metadata": {},
   "outputs": [],
   "source": []
  },
  {
   "cell_type": "code",
   "execution_count": 7,
   "id": "5ce9e544",
   "metadata": {},
   "outputs": [],
   "source": [
    "path = Path(r'C:/Users/niels/OneDrive/Probabilistic Programming 2022/data/datasets/giga_fren/giga-fren')"
   ]
  },
  {
   "cell_type": "code",
   "execution_count": 8,
   "id": "2939c0ce",
   "metadata": {},
   "outputs": [],
   "source": [
    "class Vocab:\n",
    "    def __init__(self, name):\n",
    "        self.name = name\n",
    "        self.stoi = {}\n",
    "        self.word2count = {}\n",
    "        self.itos = {0: \"<bos>\",1: \"<pad>\", 2:'<eos>',3:'<unk>'}\n",
    "        self.n_words = 4\n",
    "\n",
    "    def add_sentence(self, sentence):\n",
    "        for w in sentence.split(' '):\n",
    "            self.add_word(w)\n",
    "\n",
    "    def add_word(self, w):\n",
    "        if w not in self.stoi:\n",
    "            self.itos[self.n_words] = w\n",
    "            self.stoi = {w:i for (i,w) in self.itos.items()}\n",
    "            self.word2count[w] = 1 \n",
    "            self.n_words += 1\n",
    "        else:\n",
    "            self.word2count[w] += 1"
   ]
  },
  {
   "cell_type": "code",
   "execution_count": 9,
   "id": "a614cfaa",
   "metadata": {},
   "outputs": [],
   "source": [
    "df = pd.read_csv(path/'questions_easy.csv')"
   ]
  },
  {
   "cell_type": "code",
   "execution_count": 10,
   "id": "4f21cde2",
   "metadata": {},
   "outputs": [],
   "source": [
    "df = df.loc[df['en'].apply(lambda x: len(x.split(' '))<=15) & df['fr'].apply(lambda x: len(x.split(' '))<=15)]"
   ]
  },
  {
   "cell_type": "code",
   "execution_count": 11,
   "id": "a65747ec",
   "metadata": {},
   "outputs": [],
   "source": [
    "en_vocab = Vocab('en')\n",
    "fr_vocab = Vocab('fr')"
   ]
  },
  {
   "cell_type": "code",
   "execution_count": 12,
   "id": "0532beee",
   "metadata": {},
   "outputs": [],
   "source": [
    "for sent in df['en'].values:\n",
    "    en_vocab.add_sentence(sent)\n",
    "    \n",
    "for sent in df['fr'].values:\n",
    "    fr_vocab.add_sentence(sent)"
   ]
  },
  {
   "cell_type": "code",
   "execution_count": 17,
   "id": "e7ff46fa",
   "metadata": {},
   "outputs": [
    {
     "data": {
      "text/html": [
       "<div>\n",
       "<style scoped>\n",
       "    .dataframe tbody tr th:only-of-type {\n",
       "        vertical-align: middle;\n",
       "    }\n",
       "\n",
       "    .dataframe tbody tr th {\n",
       "        vertical-align: top;\n",
       "    }\n",
       "\n",
       "    .dataframe thead th {\n",
       "        text-align: right;\n",
       "    }\n",
       "</style>\n",
       "<table border=\"1\" class=\"dataframe\">\n",
       "  <thead>\n",
       "    <tr style=\"text-align: right;\">\n",
       "      <th></th>\n",
       "      <th>en</th>\n",
       "      <th>fr</th>\n",
       "    </tr>\n",
       "  </thead>\n",
       "  <tbody>\n",
       "    <tr>\n",
       "      <th>52318</th>\n",
       "      <td>where does all the fertilizer go ?</td>\n",
       "      <td>disponible en anglais seulement ou va tout l e...</td>\n",
       "    </tr>\n",
       "    <tr>\n",
       "      <th>52319</th>\n",
       "      <td>what happened to the winter issue ?</td>\n",
       "      <td>qu est il advenu du numero de l hiver ?</td>\n",
       "    </tr>\n",
       "    <tr>\n",
       "      <th>52323</th>\n",
       "      <td>what about languages other than the national l...</td>\n",
       "      <td>qu en est il des langues autres que la langue ...</td>\n",
       "    </tr>\n",
       "    <tr>\n",
       "      <th>52326</th>\n",
       "      <td>what are the mechanisms for increasing women s...</td>\n",
       "      <td>quels sont les mecanismes susceptibles d ameli...</td>\n",
       "    </tr>\n",
       "    <tr>\n",
       "      <th>52330</th>\n",
       "      <td>what s inside introduction to sti did you know ?</td>\n",
       "      <td>contenu introduction aux its saviez vous que ?</td>\n",
       "    </tr>\n",
       "  </tbody>\n",
       "</table>\n",
       "</div>"
      ],
      "text/plain": [
       "                                                      en  \\\n",
       "52318                 where does all the fertilizer go ?   \n",
       "52319                what happened to the winter issue ?   \n",
       "52323  what about languages other than the national l...   \n",
       "52326  what are the mechanisms for increasing women s...   \n",
       "52330   what s inside introduction to sti did you know ?   \n",
       "\n",
       "                                                      fr  \n",
       "52318  disponible en anglais seulement ou va tout l e...  \n",
       "52319            qu est il advenu du numero de l hiver ?  \n",
       "52323  qu en est il des langues autres que la langue ...  \n",
       "52326  quels sont les mecanismes susceptibles d ameli...  \n",
       "52330     contenu introduction aux its saviez vous que ?  "
      ]
     },
     "execution_count": 17,
     "metadata": {},
     "output_type": "execute_result"
    }
   ],
   "source": [
    "df.tail()"
   ]
  },
  {
   "cell_type": "code",
   "execution_count": null,
   "id": "066ab9bf",
   "metadata": {},
   "outputs": [],
   "source": []
  },
  {
   "cell_type": "code",
   "execution_count": 18,
   "id": "cc016a7a",
   "metadata": {},
   "outputs": [
    {
     "data": {
      "text/plain": [
       "[10, 9, 110, 733]"
      ]
     },
     "execution_count": 18,
     "metadata": {},
     "output_type": "execute_result"
    }
   ],
   "source": [
    "sentence = 'we are not sure'\n",
    "en_vocab.add_sentence(sentence)\n",
    "[en_vocab.stoi[s] for s in sentence.split(' ')]"
   ]
  },
  {
   "cell_type": "code",
   "execution_count": 19,
   "id": "cb6a3a5b",
   "metadata": {},
   "outputs": [
    {
     "data": {
      "text/plain": [
       "'we are not sure '"
      ]
     },
     "execution_count": 19,
     "metadata": {},
     "output_type": "execute_result"
    }
   ],
   "source": [
    "''.join([(en_vocab.itos[i] + ' ') for i in [10, 9, 110, 733]])"
   ]
  },
  {
   "cell_type": "code",
   "execution_count": 20,
   "id": "203d336b",
   "metadata": {},
   "outputs": [],
   "source": [
    "vects_fr = Vectors(r'./.vector_cache/wiki.fr.vec')\n",
    "vects_en = Vectors(r'./.vector_cache/wiki.en.vec')"
   ]
  },
  {
   "cell_type": "code",
   "execution_count": 21,
   "id": "2956f4e1",
   "metadata": {},
   "outputs": [],
   "source": [
    "en_emb = nn.Embedding(len(en_vocab.stoi),300,padding_idx = 1)\n",
    "wgts = en_emb.weight.data"
   ]
  },
  {
   "cell_type": "code",
   "execution_count": 22,
   "id": "c3c00769",
   "metadata": {},
   "outputs": [
    {
     "name": "stderr",
     "output_type": "stream",
     "text": [
      "C:\\Users\\niels\\AppData\\Local\\Temp\\ipykernel_39264\\1004712414.py:3: UserWarning: To copy construct from a tensor, it is recommended to use sourceTensor.clone().detach() or sourceTensor.clone().detach().requires_grad_(True), rather than torch.tensor(sourceTensor).\n",
      "  try: wgts[i+3] = torch.tensor(vects_en.get_vecs_by_tokens(w))\n"
     ]
    }
   ],
   "source": [
    "miss = []\n",
    "for w,i in en_vocab.stoi.items():\n",
    "    try: wgts[i+3] = torch.tensor(vects_en.get_vecs_by_tokens(w))\n",
    "    except: miss.append(w)"
   ]
  },
  {
   "cell_type": "code",
   "execution_count": 23,
   "id": "7ec81f00",
   "metadata": {},
   "outputs": [],
   "source": [
    "fr_emb = nn.Embedding(len(fr_vocab.stoi),300,padding_idx=1).cuda()\n",
    "wgts = fr_emb.weight.data"
   ]
  },
  {
   "cell_type": "code",
   "execution_count": 24,
   "id": "95fa2a6a",
   "metadata": {},
   "outputs": [
    {
     "name": "stderr",
     "output_type": "stream",
     "text": [
      "C:\\Users\\niels\\AppData\\Local\\Temp\\ipykernel_39264\\1072943635.py:3: UserWarning: To copy construct from a tensor, it is recommended to use sourceTensor.clone().detach() or sourceTensor.clone().detach().requires_grad_(True), rather than torch.tensor(sourceTensor).\n",
      "  try:wgts[i+1] = torch.tensor(vects_fr.get_vecs_by_tokens(w))\n"
     ]
    }
   ],
   "source": [
    "miss = []\n",
    "for w,i in fr_vocab.stoi.items():\n",
    "    try:wgts[i+1] = torch.tensor(vects_fr.get_vecs_by_tokens(w))\n",
    "    except: miss.append(w)"
   ]
  },
  {
   "cell_type": "code",
   "execution_count": 25,
   "id": "bc302902",
   "metadata": {},
   "outputs": [],
   "source": [
    "en_tokenizer = get_tokenizer(None, language='en')\n",
    "fr_tokenizer = get_tokenizer(None, language='fr')"
   ]
  },
  {
   "cell_type": "code",
   "execution_count": 26,
   "id": "7cb02445",
   "metadata": {},
   "outputs": [],
   "source": [
    "inputs = [[en_vocab.stoi[y] for y in en_tokenizer(x)] for x in df['en'].values]\n",
    "outputs = [[fr_vocab.stoi[y] for y in en_tokenizer(x)] for x in df['fr'].values]"
   ]
  },
  {
   "cell_type": "code",
   "execution_count": 27,
   "id": "d6aba756",
   "metadata": {},
   "outputs": [],
   "source": [
    "inputs = [[en_vocab.stoi[y] for y in en_tokenizer(x)] for x in df['en'].values]\n",
    "outputs = [[fr_vocab.stoi[y] for y in en_tokenizer(x)] for x in df['fr'].values]"
   ]
  },
  {
   "cell_type": "code",
   "execution_count": null,
   "id": "e0230101",
   "metadata": {},
   "outputs": [],
   "source": []
  },
  {
   "cell_type": "code",
   "execution_count": 75,
   "id": "340d3e08",
   "metadata": {},
   "outputs": [],
   "source": [
    "inputs_tensor = ToTensor(padding_value = 1)(inputs)\n",
    "outputs_tensor = ToTensor(padding_value = 1)(outputs)"
   ]
  },
  {
   "cell_type": "code",
   "execution_count": 76,
   "id": "c8d23547",
   "metadata": {},
   "outputs": [
    {
     "data": {
      "text/plain": [
       "tensor([[   4,    5,    6,  ...,    1,    1,    1],\n",
       "        [   8,    9,   10,  ...,    1,    1,    1],\n",
       "        [  11,   12,   10,  ...,    1,    1,    1],\n",
       "        ...,\n",
       "        [   4,  226, 1696,  ...,    1,    1,    1],\n",
       "        [   4,    9,   19,  ...,    1,    1,    1],\n",
       "        [   4,   70, 5994,  ...,    1,    1,    1]])"
      ]
     },
     "execution_count": 76,
     "metadata": {},
     "output_type": "execute_result"
    }
   ],
   "source": [
    "inputs_tensor"
   ]
  },
  {
   "cell_type": "code",
   "execution_count": 31,
   "id": "46b929ab",
   "metadata": {},
   "outputs": [],
   "source": [
    "with torch.no_grad():\n",
    "    for i in range(4):\n",
    "        fr_emb.weight[i] = i * torch.ones(300) \n",
    "        en_emb.weight[i] = i * torch.ones(300) "
   ]
  },
  {
   "cell_type": "code",
   "execution_count": 32,
   "id": "c960aafc",
   "metadata": {},
   "outputs": [],
   "source": [
    "ds = TensorDataset(inputs_tensor.cuda(),outputs_tensor.cuda())"
   ]
  },
  {
   "cell_type": "code",
   "execution_count": null,
   "id": "25f807dc",
   "metadata": {},
   "outputs": [],
   "source": []
  },
  {
   "cell_type": "code",
   "execution_count": 33,
   "id": "f1044847",
   "metadata": {},
   "outputs": [],
   "source": [
    "class Encoder(nn.Module):\n",
    "    def __init__(self,vocab,embed,hidden_size=300,n_layers=2,bidirectional=True,\n",
    "                dropout=0.5):\n",
    "        super().__init__()\n",
    "        self.vocab = vocab\n",
    "        self.hidden_size = hidden_size\n",
    "        self.n_layers = n_layers\n",
    "        self.embed = embed\n",
    "        self.emb_sz = self.embed.embedding_dim\n",
    "        self.gru = nn.GRU(self.emb_sz,hidden_size,num_layers=n_layers,bidirectional = True,dropout=0.25,batch_first=True)\n",
    "        \n",
    "    def forward(self,src,hidden=None):\n",
    "        bs = src.size(0)\n",
    "        \n",
    "        hidden = torch.zeros(2*self.n_layers,bs,self.hidden_size).cuda()\n",
    "        \n",
    "        emb = self.embed(src)\n",
    "        \n",
    "        out,h = self.gru(emb,hidden)\n",
    "\n",
    "        return out,h"
   ]
  },
  {
   "cell_type": "code",
   "execution_count": 34,
   "id": "44fc2a11",
   "metadata": {},
   "outputs": [],
   "source": [
    "class Decoder(nn.Module):\n",
    "    def __init__(self,vocab,embed,hidden_sz=300,n_layers=2,\n",
    "                dropout=0.5):\n",
    "        super().__init__()\n",
    "        self.vocab = vocab\n",
    "        self.vocab_sz = len(self.vocab.itos)\n",
    "        self.hidden_sz = hidden_sz\n",
    "        self.embed = embed\n",
    "        self.emb_sz = self.embed.embedding_dim\n",
    "        self.gru = nn.GRU(2*self.emb_sz + self.hidden_sz,self.hidden_sz,num_layers = n_layers,\n",
    "                          dropout=0.35,batch_first=True)\n",
    "\n",
    "        self.dec_to_word = nn.Linear(self.emb_sz,len(vocab.stoi))\n",
    "        self.dropout = nn.Dropout(0.35)\n",
    "        \n",
    "    def forward(self,dec_inp,dec_hid):\n",
    "\n",
    "        outp, h = self.gru(dec_inp,dec_hid)\n",
    "        outp = self.dec_to_word(self.dropout(outp))\n",
    "        return outp, h"
   ]
  },
  {
   "cell_type": "code",
   "execution_count": 35,
   "id": "10a82018",
   "metadata": {},
   "outputs": [],
   "source": [
    "class Attention(nn.Module):\n",
    "    \n",
    "    def __init__(self,enc,dec):\n",
    "        super().__init__()\n",
    "        self.enc = enc\n",
    "        self.dec = dec\n",
    "        \n",
    "        self.enc_emb_sz = enc.embed.embedding_dim\n",
    "        self.dec_emb_sz = dec.embed.embedding_dim\n",
    "        \n",
    "        \n",
    "        self.enc_att = nn.Linear(2 * enc.hidden_size,self.dec.emb_sz,bias=False)\n",
    "        self.dec_att = nn.Linear(self.dec_emb_sz,self.dec_emb_sz).cuda()\n",
    "        \n",
    "        self.V = nn.Parameter(torch.rand(self.enc.embed.embedding_dim,1))\n",
    "        \n",
    "    def forward(self,src,dec_out,dec_hid):\n",
    "        \n",
    "        enc_out,enc_hid = self.enc(src)\n",
    "        \n",
    "        enc_attn = self.enc_att(enc_out)\n",
    "        \n",
    "        u = nn.Tanh()(self.dec_att(dec_hid[-1]).unsqueeze(1) + enc_attn)\n",
    "        \n",
    "        attn_wgts = nn.Softmax(dim=1)(u@self.V)\n",
    "  \n",
    "        ctx = torch.bmm(attn_wgts.permute(0,2,1),enc_out)\n",
    "    \n",
    "\n",
    "        return torch.cat([ctx,self.dec.embed(dec_out)],dim=2)   \n"
   ]
  },
  {
   "cell_type": "code",
   "execution_count": 36,
   "id": "a2804d20",
   "metadata": {},
   "outputs": [],
   "source": [
    "class Seq2Seq_Attn(nn.Module):\n",
    "    def __init__(self,enc,dec):\n",
    "        super().__init__()\n",
    "        self.encoder = enc\n",
    "        self.decoder = dec\n",
    "        \n",
    "        self.attn = Attention(self.encoder,self.decoder)\n",
    "        \n",
    "        self.enc_emb_dim = 300\n",
    "        self.dec_emb_dim = 300\n",
    "        \n",
    "        self.enc_hid_to_dec_hid = nn.Linear(2*self.enc_emb_dim,self.dec_emb_dim)\n",
    "        \n",
    "     \n",
    "    def forward(self,src):\n",
    "        bs = src.size(0)\n",
    "        max_len = 15\n",
    "        \n",
    "       \n",
    "        vocab_size = self.decoder.vocab_sz \n",
    "        enc_out,enc_hid = self.encoder(src)\n",
    "        enc_hid = enc_hid.reshape(2,2,bs,self.enc_emb_dim).permute(1,2,0,3).contiguous()\n",
    "        enc_hid = enc_hid.reshape(2,bs,2*self.enc_emb_dim) \n",
    "        \n",
    "        dec_hid = self.enc_hid_to_dec_hid(enc_hid.cuda())  \n",
    "        dec_in = (torch.zeros(src.size(0),1,dtype=torch.long) + torch.LongTensor([[fr_vocab.stoi['<bos>']]])).cuda()\n",
    "        dec_inp = self.attn(src,dec_in,dec_hid)\n",
    "\n",
    "        outputs = []\n",
    "\n",
    "        for t in range(max_len):\n",
    "            \n",
    "            outp,dec_hid = self.decoder(dec_inp,dec_hid)\n",
    "\n",
    "            dec_out = outp.argmax(dim=2)\n",
    "            \n",
    "            outputs.append(outp)\n",
    "            \n",
    "            dec_inp = self.attn(src,dec_out,dec_hid)\n",
    "        \n",
    "        outputs = torch.stack(outputs)\n",
    "\n",
    "        return outputs"
   ]
  },
  {
   "cell_type": "code",
   "execution_count": 37,
   "id": "5118de4d",
   "metadata": {},
   "outputs": [],
   "source": [
    "enc = Encoder(en_vocab,en_emb)\n",
    "dec = Decoder(fr_vocab,fr_emb)"
   ]
  },
  {
   "cell_type": "code",
   "execution_count": 38,
   "id": "721f857b",
   "metadata": {},
   "outputs": [],
   "source": [
    "attn = Attention(enc,dec)"
   ]
  },
  {
   "cell_type": "code",
   "execution_count": 39,
   "id": "ce0561d7",
   "metadata": {},
   "outputs": [],
   "source": [
    "dl = DataLoader(ds,batch_size=64,shuffle=True)"
   ]
  },
  {
   "cell_type": "code",
   "execution_count": 40,
   "id": "ead46318",
   "metadata": {},
   "outputs": [],
   "source": [
    "def loss_fn(out,tgt):\n",
    "\n",
    "    return torch.stack([nn.CrossEntropyLoss()(out[i].squeeze(1),tgt.transpose(0,1)[i]) for i in range(tgt.size(1))]).mean()"
   ]
  },
  {
   "cell_type": "code",
   "execution_count": 41,
   "id": "d3723bd3",
   "metadata": {},
   "outputs": [],
   "source": [
    "from torch.optim import Adam"
   ]
  },
  {
   "cell_type": "code",
   "execution_count": 42,
   "id": "fd38409a",
   "metadata": {},
   "outputs": [],
   "source": [
    "model = Seq2Seq_Attn(enc,dec).cuda()"
   ]
  },
  {
   "cell_type": "code",
   "execution_count": 43,
   "id": "3232b9b8",
   "metadata": {},
   "outputs": [],
   "source": [
    "optim = Adam(model.parameters(),lr=0.001)"
   ]
  },
  {
   "cell_type": "code",
   "execution_count": 44,
   "id": "66f63931",
   "metadata": {},
   "outputs": [],
   "source": [
    "import time"
   ]
  },
  {
   "cell_type": "code",
   "execution_count": 70,
   "id": "31308395",
   "metadata": {},
   "outputs": [
    {
     "name": "stdout",
     "output_type": "stream",
     "text": [
      "1.0551895264855877\n",
      "1.0603499681411865\n",
      "1.038752650905274\n",
      "1.0384748907622225\n",
      "1.0399987178886245\n",
      "1.0374937051546549\n",
      "1.0333543749388583\n",
      "1.028287550289474\n",
      "1.0216318931646213\n",
      "1.0230806465158444\n",
      "CPU times: total: 39min 16s\n",
      "Wall time: 1h 17min 35s\n"
     ]
    }
   ],
   "source": [
    "%%time\n",
    "epochs = range(10)\n",
    "epoch_losses = []\n",
    "for e in epochs:\n",
    "    losses = []\n",
    "    for i, (src,tgt) in enumerate(dl):\n",
    "        \n",
    "        out = model(src)\n",
    "        \n",
    "        loss = loss_fn(out,tgt)\n",
    "        \n",
    "        optim.zero_grad()\n",
    "        \n",
    "        loss.backward()\n",
    "        \n",
    "        optim.step()\n",
    "        \n",
    "        losses.append(loss.item())\n",
    "        \n",
    "    epoch_loss = np.mean(losses)    \n",
    "    epoch_losses.append(epoch_loss)\n",
    "    print(epoch_loss)\n",
    "        "
   ]
  },
  {
   "cell_type": "code",
   "execution_count": 71,
   "id": "3662184c",
   "metadata": {
    "scrolled": true
   },
   "outputs": [
    {
     "data": {
      "image/png": "[encoded data removed]",
      "text/plain": [
       "<Figure size 640x480 with 1 Axes>"
      ]
     },
     "metadata": {},
     "output_type": "display_data"
    }
   ],
   "source": [
    "plt.plot(epoch_losses);"
   ]
  },
  {
   "cell_type": "code",
   "execution_count": 72,
   "id": "399344fb",
   "metadata": {},
   "outputs": [],
   "source": [
    "src,trg = ds[6]\n",
    "src,trg = src.unsqueeze(0),trg.unsqueeze(0)"
   ]
  },
  {
   "cell_type": "code",
   "execution_count": 73,
   "id": "e8236950",
   "metadata": {},
   "outputs": [
    {
     "data": {
      "text/plain": [
       "' what types of land cover are associated with the colours below ? <pad> <pad> <pad>'"
      ]
     },
     "execution_count": 73,
     "metadata": {},
     "output_type": "execute_result"
    }
   ],
   "source": [
    "''.join(' '+en_vocab.itos[x] for x in src.squeeze(1).cpu().numpy()[0])"
   ]
  },
  {
   "cell_type": "code",
   "execution_count": 74,
   "id": "7a97f9db",
   "metadata": {},
   "outputs": [
    {
     "data": {
      "text/plain": [
       "' a quel types de couverture s liste associez le les les dessous vous dessous ?'"
      ]
     },
     "execution_count": 74,
     "metadata": {},
     "output_type": "execute_result"
    }
   ],
   "source": [
    "''.join(' '+fr_vocab.itos[x] for x in model(src).argmax(3).reshape(1,-1).squeeze(0).cpu().numpy())"
   ]
  },
  {
   "cell_type": "code",
   "execution_count": null,
   "id": "4de7094a",
   "metadata": {},
   "outputs": [],
   "source": []
  },
  {
   "cell_type": "code",
   "execution_count": null,
   "id": "14a7c7a6",
   "metadata": {},
   "outputs": [],
   "source": []
  }
 ],
 "metadata": {
  "kernelspec": {
   "display_name": "Python 3 (ipykernel)",
   "language": "python",
   "name": "python3"
  },
  "language_info": {
   "codemirror_mode": {
    "name": "ipython",
    "version": 3
   },
   "file_extension": ".py",
   "mimetype": "text/x-python",
   "name": "python",
   "nbconvert_exporter": "python",
   "pygments_lexer": "ipython3",
   "version": "3.11.5"
  }
 },
 "nbformat": 4,
 "nbformat_minor": 5
}
