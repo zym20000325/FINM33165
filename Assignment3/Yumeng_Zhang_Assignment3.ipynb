{
 "cells": [
  {
   "cell_type": "markdown",
   "metadata": {},
   "source": [
    "### **FINM 33165 (Autumn 2023) - Assignment 3**\n",
    "\n",
    "* Yumeng Zhang (12372205)\n",
    "* ymzhang@uchicago.edu"
   ]
  },
  {
   "cell_type": "code",
   "execution_count": 1,
   "metadata": {},
   "outputs": [],
   "source": [
    "import torch\n",
    "import numpy as np\n",
    "import torch.nn as nn\n",
    "import torch.nn.functional as F\n",
    "from torch.distributions.bernoulli import Bernoulli\n",
    "from torch.distributions import MultivariateNormal\n",
    "from torch.distributions.kl import kl_divergence\n",
    "from torch.optim import Adam\n",
    "from torchvision.datasets import MNIST\n",
    "from torch.utils.data import DataLoader\n",
    "import torchvision.transforms as transforms\n",
    "from mpl_toolkits.axes_grid1 import ImageGrid\n",
    "from torchvision.utils import save_image, make_grid\n",
    "from torch.utils.data import Dataset, DataLoader, TensorDataset\n",
    "\n",
    "import matplotlib.pyplot as plt\n",
    "from tqdm import tqdm\n",
    "\n",
    "import pandas as pd\n",
    "from sklearn.model_selection import train_test_split"
   ]
  },
  {
   "cell_type": "markdown",
   "metadata": {},
   "source": [
    "In this assignment, we are going to **train a VAE model to solve a binary classification problem**. Given the credit data, we train the model using samples which are legit (label = 0). After applying the model to test dataset, ideally, the reconstruction loss for fraud samples (label = 1) will be significantly larger than that of legit samples (label = 0). By using a reconstruction error threshold, we could do the classification, and calculate corresponding performance metrics, like the confusion matrix."
   ]
  },
  {
   "cell_type": "markdown",
   "metadata": {},
   "source": [
    "#### **1. Load Credit Data**"
   ]
  },
  {
   "cell_type": "code",
   "execution_count": 2,
   "metadata": {},
   "outputs": [],
   "source": [
    "df_legit = pd.read_csv(\"credit.csv\", index_col=0)"
   ]
  },
  {
   "cell_type": "code",
   "execution_count": 3,
   "metadata": {},
   "outputs": [
    {
     "data": {
      "text/html": [
       "<div>\n",
       "<style scoped>\n",
       "    .dataframe tbody tr th:only-of-type {\n",
       "        vertical-align: middle;\n",
       "    }\n",
       "\n",
       "    .dataframe tbody tr th {\n",
       "        vertical-align: top;\n",
       "    }\n",
       "\n",
       "    .dataframe thead th {\n",
       "        text-align: right;\n",
       "    }\n",
       "</style>\n",
       "<table border=\"1\" class=\"dataframe\">\n",
       "  <thead>\n",
       "    <tr style=\"text-align: right;\">\n",
       "      <th></th>\n",
       "      <th>V1</th>\n",
       "      <th>V2</th>\n",
       "      <th>V3</th>\n",
       "      <th>V4</th>\n",
       "      <th>V5</th>\n",
       "      <th>V6</th>\n",
       "      <th>V7</th>\n",
       "      <th>V8</th>\n",
       "      <th>V9</th>\n",
       "      <th>V10</th>\n",
       "      <th>...</th>\n",
       "      <th>V21</th>\n",
       "      <th>V22</th>\n",
       "      <th>V23</th>\n",
       "      <th>V24</th>\n",
       "      <th>V25</th>\n",
       "      <th>V26</th>\n",
       "      <th>V27</th>\n",
       "      <th>V28</th>\n",
       "      <th>Amount</th>\n",
       "      <th>Class</th>\n",
       "    </tr>\n",
       "  </thead>\n",
       "  <tbody>\n",
       "    <tr>\n",
       "      <th>0</th>\n",
       "      <td>-1.359807</td>\n",
       "      <td>-0.072781</td>\n",
       "      <td>2.536347</td>\n",
       "      <td>1.378155</td>\n",
       "      <td>-0.338321</td>\n",
       "      <td>0.462388</td>\n",
       "      <td>0.239599</td>\n",
       "      <td>0.098698</td>\n",
       "      <td>0.363787</td>\n",
       "      <td>0.090794</td>\n",
       "      <td>...</td>\n",
       "      <td>-0.018307</td>\n",
       "      <td>0.277838</td>\n",
       "      <td>-0.110474</td>\n",
       "      <td>0.066928</td>\n",
       "      <td>0.128539</td>\n",
       "      <td>-0.189115</td>\n",
       "      <td>0.133558</td>\n",
       "      <td>-0.021053</td>\n",
       "      <td>0.244964</td>\n",
       "      <td>0</td>\n",
       "    </tr>\n",
       "    <tr>\n",
       "      <th>1</th>\n",
       "      <td>1.191857</td>\n",
       "      <td>0.266151</td>\n",
       "      <td>0.166480</td>\n",
       "      <td>0.448154</td>\n",
       "      <td>0.060018</td>\n",
       "      <td>-0.082361</td>\n",
       "      <td>-0.078803</td>\n",
       "      <td>0.085102</td>\n",
       "      <td>-0.255425</td>\n",
       "      <td>-0.166974</td>\n",
       "      <td>...</td>\n",
       "      <td>-0.225775</td>\n",
       "      <td>-0.638672</td>\n",
       "      <td>0.101288</td>\n",
       "      <td>-0.339846</td>\n",
       "      <td>0.167170</td>\n",
       "      <td>0.125895</td>\n",
       "      <td>-0.008983</td>\n",
       "      <td>0.014724</td>\n",
       "      <td>-0.342475</td>\n",
       "      <td>0</td>\n",
       "    </tr>\n",
       "    <tr>\n",
       "      <th>2</th>\n",
       "      <td>-1.358354</td>\n",
       "      <td>-1.340163</td>\n",
       "      <td>1.773209</td>\n",
       "      <td>0.379780</td>\n",
       "      <td>-0.503198</td>\n",
       "      <td>1.800499</td>\n",
       "      <td>0.791461</td>\n",
       "      <td>0.247676</td>\n",
       "      <td>-1.514654</td>\n",
       "      <td>0.207643</td>\n",
       "      <td>...</td>\n",
       "      <td>0.247998</td>\n",
       "      <td>0.771679</td>\n",
       "      <td>0.909412</td>\n",
       "      <td>-0.689281</td>\n",
       "      <td>-0.327642</td>\n",
       "      <td>-0.139097</td>\n",
       "      <td>-0.055353</td>\n",
       "      <td>-0.059752</td>\n",
       "      <td>1.160686</td>\n",
       "      <td>0</td>\n",
       "    </tr>\n",
       "    <tr>\n",
       "      <th>3</th>\n",
       "      <td>-0.966272</td>\n",
       "      <td>-0.185226</td>\n",
       "      <td>1.792993</td>\n",
       "      <td>-0.863291</td>\n",
       "      <td>-0.010309</td>\n",
       "      <td>1.247203</td>\n",
       "      <td>0.237609</td>\n",
       "      <td>0.377436</td>\n",
       "      <td>-1.387024</td>\n",
       "      <td>-0.054952</td>\n",
       "      <td>...</td>\n",
       "      <td>-0.108300</td>\n",
       "      <td>0.005274</td>\n",
       "      <td>-0.190321</td>\n",
       "      <td>-1.175575</td>\n",
       "      <td>0.647376</td>\n",
       "      <td>-0.221929</td>\n",
       "      <td>0.062723</td>\n",
       "      <td>0.061458</td>\n",
       "      <td>0.140534</td>\n",
       "      <td>0</td>\n",
       "    </tr>\n",
       "    <tr>\n",
       "      <th>4</th>\n",
       "      <td>-1.158233</td>\n",
       "      <td>0.877737</td>\n",
       "      <td>1.548718</td>\n",
       "      <td>0.403034</td>\n",
       "      <td>-0.407193</td>\n",
       "      <td>0.095921</td>\n",
       "      <td>0.592941</td>\n",
       "      <td>-0.270533</td>\n",
       "      <td>0.817739</td>\n",
       "      <td>0.753074</td>\n",
       "      <td>...</td>\n",
       "      <td>-0.009431</td>\n",
       "      <td>0.798278</td>\n",
       "      <td>-0.137458</td>\n",
       "      <td>0.141267</td>\n",
       "      <td>-0.206010</td>\n",
       "      <td>0.502292</td>\n",
       "      <td>0.219422</td>\n",
       "      <td>0.215153</td>\n",
       "      <td>-0.073403</td>\n",
       "      <td>0</td>\n",
       "    </tr>\n",
       "  </tbody>\n",
       "</table>\n",
       "<p>5 rows × 30 columns</p>\n",
       "</div>"
      ],
      "text/plain": [
       "         V1        V2        V3        V4        V5        V6        V7  \\\n",
       "0 -1.359807 -0.072781  2.536347  1.378155 -0.338321  0.462388  0.239599   \n",
       "1  1.191857  0.266151  0.166480  0.448154  0.060018 -0.082361 -0.078803   \n",
       "2 -1.358354 -1.340163  1.773209  0.379780 -0.503198  1.800499  0.791461   \n",
       "3 -0.966272 -0.185226  1.792993 -0.863291 -0.010309  1.247203  0.237609   \n",
       "4 -1.158233  0.877737  1.548718  0.403034 -0.407193  0.095921  0.592941   \n",
       "\n",
       "         V8        V9       V10  ...       V21       V22       V23       V24  \\\n",
       "0  0.098698  0.363787  0.090794  ... -0.018307  0.277838 -0.110474  0.066928   \n",
       "1  0.085102 -0.255425 -0.166974  ... -0.225775 -0.638672  0.101288 -0.339846   \n",
       "2  0.247676 -1.514654  0.207643  ...  0.247998  0.771679  0.909412 -0.689281   \n",
       "3  0.377436 -1.387024 -0.054952  ... -0.108300  0.005274 -0.190321 -1.175575   \n",
       "4 -0.270533  0.817739  0.753074  ... -0.009431  0.798278 -0.137458  0.141267   \n",
       "\n",
       "        V25       V26       V27       V28    Amount  Class  \n",
       "0  0.128539 -0.189115  0.133558 -0.021053  0.244964      0  \n",
       "1  0.167170  0.125895 -0.008983  0.014724 -0.342475      0  \n",
       "2 -0.327642 -0.139097 -0.055353 -0.059752  1.160686      0  \n",
       "3  0.647376 -0.221929  0.062723  0.061458  0.140534      0  \n",
       "4 -0.206010  0.502292  0.219422  0.215153 -0.073403      0  \n",
       "\n",
       "[5 rows x 30 columns]"
      ]
     },
     "execution_count": 3,
     "metadata": {},
     "output_type": "execute_result"
    }
   ],
   "source": [
    "df_legit.head()"
   ]
  },
  {
   "cell_type": "markdown",
   "metadata": {},
   "source": [
    "#### **2. Split Training and Testing Datasets**"
   ]
  },
  {
   "cell_type": "code",
   "execution_count": 4,
   "metadata": {},
   "outputs": [],
   "source": [
    "X_train, X_test = train_test_split(df_legit, test_size = 0.25)"
   ]
  },
  {
   "cell_type": "markdown",
   "metadata": {},
   "source": [
    "#### **3. Filter Legitimate Transactions**"
   ]
  },
  {
   "cell_type": "code",
   "execution_count": 5,
   "metadata": {},
   "outputs": [],
   "source": [
    "X_train = X_train[X_train.Class == 0]\n",
    "y_train = X_train['Class']\n",
    "\n",
    "y_test = X_test['Class']"
   ]
  },
  {
   "cell_type": "markdown",
   "metadata": {},
   "source": [
    "#### **4. Drop Labels in X Dataset**"
   ]
  },
  {
   "cell_type": "code",
   "execution_count": 6,
   "metadata": {},
   "outputs": [],
   "source": [
    "X_train = X_train.drop(['Class'], axis = 1)\n",
    "X_test = X_test.drop(['Class'], axis = 1)"
   ]
  },
  {
   "cell_type": "code",
   "execution_count": 7,
   "metadata": {},
   "outputs": [
    {
     "data": {
      "text/html": [
       "<div>\n",
       "<style scoped>\n",
       "    .dataframe tbody tr th:only-of-type {\n",
       "        vertical-align: middle;\n",
       "    }\n",
       "\n",
       "    .dataframe tbody tr th {\n",
       "        vertical-align: top;\n",
       "    }\n",
       "\n",
       "    .dataframe thead th {\n",
       "        text-align: right;\n",
       "    }\n",
       "</style>\n",
       "<table border=\"1\" class=\"dataframe\">\n",
       "  <thead>\n",
       "    <tr style=\"text-align: right;\">\n",
       "      <th></th>\n",
       "      <th>V1</th>\n",
       "      <th>V2</th>\n",
       "      <th>V3</th>\n",
       "      <th>V4</th>\n",
       "      <th>V5</th>\n",
       "      <th>V6</th>\n",
       "      <th>V7</th>\n",
       "      <th>V8</th>\n",
       "      <th>V9</th>\n",
       "      <th>V10</th>\n",
       "      <th>...</th>\n",
       "      <th>V20</th>\n",
       "      <th>V21</th>\n",
       "      <th>V22</th>\n",
       "      <th>V23</th>\n",
       "      <th>V24</th>\n",
       "      <th>V25</th>\n",
       "      <th>V26</th>\n",
       "      <th>V27</th>\n",
       "      <th>V28</th>\n",
       "      <th>Amount</th>\n",
       "    </tr>\n",
       "  </thead>\n",
       "  <tbody>\n",
       "    <tr>\n",
       "      <th>6749</th>\n",
       "      <td>0.415451</td>\n",
       "      <td>1.893912</td>\n",
       "      <td>-1.944127</td>\n",
       "      <td>1.873712</td>\n",
       "      <td>0.526844</td>\n",
       "      <td>-1.712611</td>\n",
       "      <td>0.300086</td>\n",
       "      <td>0.289583</td>\n",
       "      <td>0.743477</td>\n",
       "      <td>-1.567025</td>\n",
       "      <td>...</td>\n",
       "      <td>-0.158329</td>\n",
       "      <td>-0.209580</td>\n",
       "      <td>-0.347273</td>\n",
       "      <td>0.181797</td>\n",
       "      <td>0.082094</td>\n",
       "      <td>-0.572238</td>\n",
       "      <td>-0.461808</td>\n",
       "      <td>0.090947</td>\n",
       "      <td>-0.064986</td>\n",
       "      <td>-0.344034</td>\n",
       "    </tr>\n",
       "    <tr>\n",
       "      <th>226769</th>\n",
       "      <td>-0.006258</td>\n",
       "      <td>0.746865</td>\n",
       "      <td>0.277592</td>\n",
       "      <td>-0.558277</td>\n",
       "      <td>0.380778</td>\n",
       "      <td>-1.170808</td>\n",
       "      <td>0.955058</td>\n",
       "      <td>-0.170648</td>\n",
       "      <td>0.049651</td>\n",
       "      <td>-0.393661</td>\n",
       "      <td>...</td>\n",
       "      <td>-0.049474</td>\n",
       "      <td>-0.258599</td>\n",
       "      <td>-0.623641</td>\n",
       "      <td>0.104091</td>\n",
       "      <td>0.021651</td>\n",
       "      <td>-0.506052</td>\n",
       "      <td>0.139599</td>\n",
       "      <td>0.238929</td>\n",
       "      <td>0.097779</td>\n",
       "      <td>-0.314648</td>\n",
       "    </tr>\n",
       "    <tr>\n",
       "      <th>71452</th>\n",
       "      <td>1.030556</td>\n",
       "      <td>-0.539856</td>\n",
       "      <td>0.505794</td>\n",
       "      <td>0.135031</td>\n",
       "      <td>-0.793349</td>\n",
       "      <td>-0.203007</td>\n",
       "      <td>-0.328288</td>\n",
       "      <td>0.065033</td>\n",
       "      <td>0.435986</td>\n",
       "      <td>-0.110642</td>\n",
       "      <td>...</td>\n",
       "      <td>0.141054</td>\n",
       "      <td>0.018201</td>\n",
       "      <td>-0.094895</td>\n",
       "      <td>-0.135941</td>\n",
       "      <td>0.091085</td>\n",
       "      <td>0.231622</td>\n",
       "      <td>1.006325</td>\n",
       "      <td>-0.083413</td>\n",
       "      <td>0.012443</td>\n",
       "      <td>0.086560</td>\n",
       "    </tr>\n",
       "    <tr>\n",
       "      <th>275449</th>\n",
       "      <td>-1.754009</td>\n",
       "      <td>0.682558</td>\n",
       "      <td>1.148168</td>\n",
       "      <td>3.448150</td>\n",
       "      <td>2.553620</td>\n",
       "      <td>5.913386</td>\n",
       "      <td>-1.817342</td>\n",
       "      <td>-1.481688</td>\n",
       "      <td>-1.691771</td>\n",
       "      <td>1.186858</td>\n",
       "      <td>...</td>\n",
       "      <td>0.732334</td>\n",
       "      <td>-1.339317</td>\n",
       "      <td>0.557907</td>\n",
       "      <td>0.524399</td>\n",
       "      <td>0.656489</td>\n",
       "      <td>-0.026326</td>\n",
       "      <td>0.359157</td>\n",
       "      <td>-0.259097</td>\n",
       "      <td>0.038970</td>\n",
       "      <td>-0.277346</td>\n",
       "    </tr>\n",
       "    <tr>\n",
       "      <th>232739</th>\n",
       "      <td>1.756646</td>\n",
       "      <td>-2.018198</td>\n",
       "      <td>-0.828720</td>\n",
       "      <td>-2.472675</td>\n",
       "      <td>-1.789387</td>\n",
       "      <td>-0.888104</td>\n",
       "      <td>-0.874121</td>\n",
       "      <td>-0.112300</td>\n",
       "      <td>1.469701</td>\n",
       "      <td>-0.427157</td>\n",
       "      <td>...</td>\n",
       "      <td>-0.235643</td>\n",
       "      <td>0.060336</td>\n",
       "      <td>0.549295</td>\n",
       "      <td>-0.059012</td>\n",
       "      <td>0.087646</td>\n",
       "      <td>-0.093724</td>\n",
       "      <td>-0.711155</td>\n",
       "      <td>0.066667</td>\n",
       "      <td>-0.010877</td>\n",
       "      <td>0.440791</td>\n",
       "    </tr>\n",
       "  </tbody>\n",
       "</table>\n",
       "<p>5 rows × 29 columns</p>\n",
       "</div>"
      ],
      "text/plain": [
       "              V1        V2        V3        V4        V5        V6        V7  \\\n",
       "6749    0.415451  1.893912 -1.944127  1.873712  0.526844 -1.712611  0.300086   \n",
       "226769 -0.006258  0.746865  0.277592 -0.558277  0.380778 -1.170808  0.955058   \n",
       "71452   1.030556 -0.539856  0.505794  0.135031 -0.793349 -0.203007 -0.328288   \n",
       "275449 -1.754009  0.682558  1.148168  3.448150  2.553620  5.913386 -1.817342   \n",
       "232739  1.756646 -2.018198 -0.828720 -2.472675 -1.789387 -0.888104 -0.874121   \n",
       "\n",
       "              V8        V9       V10  ...       V20       V21       V22  \\\n",
       "6749    0.289583  0.743477 -1.567025  ... -0.158329 -0.209580 -0.347273   \n",
       "226769 -0.170648  0.049651 -0.393661  ... -0.049474 -0.258599 -0.623641   \n",
       "71452   0.065033  0.435986 -0.110642  ...  0.141054  0.018201 -0.094895   \n",
       "275449 -1.481688 -1.691771  1.186858  ...  0.732334 -1.339317  0.557907   \n",
       "232739 -0.112300  1.469701 -0.427157  ... -0.235643  0.060336  0.549295   \n",
       "\n",
       "             V23       V24       V25       V26       V27       V28    Amount  \n",
       "6749    0.181797  0.082094 -0.572238 -0.461808  0.090947 -0.064986 -0.344034  \n",
       "226769  0.104091  0.021651 -0.506052  0.139599  0.238929  0.097779 -0.314648  \n",
       "71452  -0.135941  0.091085  0.231622  1.006325 -0.083413  0.012443  0.086560  \n",
       "275449  0.524399  0.656489 -0.026326  0.359157 -0.259097  0.038970 -0.277346  \n",
       "232739 -0.059012  0.087646 -0.093724 -0.711155  0.066667 -0.010877  0.440791  \n",
       "\n",
       "[5 rows x 29 columns]"
      ]
     },
     "execution_count": 7,
     "metadata": {},
     "output_type": "execute_result"
    }
   ],
   "source": [
    "X_train.head()"
   ]
  },
  {
   "cell_type": "code",
   "execution_count": 8,
   "metadata": {},
   "outputs": [],
   "source": [
    "from sklearn.preprocessing import MinMaxScaler\n",
    "\n",
    "X_train_normalized = X_train.copy()\n",
    "\n",
    "scaler = MinMaxScaler()\n",
    "X_train_normalized[X_train.columns] = scaler.fit_transform(X_train_normalized[X_train.columns])"
   ]
  },
  {
   "cell_type": "code",
   "execution_count": 9,
   "metadata": {},
   "outputs": [
    {
     "data": {
      "text/html": [
       "<div>\n",
       "<style scoped>\n",
       "    .dataframe tbody tr th:only-of-type {\n",
       "        vertical-align: middle;\n",
       "    }\n",
       "\n",
       "    .dataframe tbody tr th {\n",
       "        vertical-align: top;\n",
       "    }\n",
       "\n",
       "    .dataframe thead th {\n",
       "        text-align: right;\n",
       "    }\n",
       "</style>\n",
       "<table border=\"1\" class=\"dataframe\">\n",
       "  <thead>\n",
       "    <tr style=\"text-align: right;\">\n",
       "      <th></th>\n",
       "      <th>V1</th>\n",
       "      <th>V2</th>\n",
       "      <th>V3</th>\n",
       "      <th>V4</th>\n",
       "      <th>V5</th>\n",
       "      <th>V6</th>\n",
       "      <th>V7</th>\n",
       "      <th>V8</th>\n",
       "      <th>V9</th>\n",
       "      <th>V10</th>\n",
       "      <th>...</th>\n",
       "      <th>V20</th>\n",
       "      <th>V21</th>\n",
       "      <th>V22</th>\n",
       "      <th>V23</th>\n",
       "      <th>V24</th>\n",
       "      <th>V25</th>\n",
       "      <th>V26</th>\n",
       "      <th>V27</th>\n",
       "      <th>V28</th>\n",
       "      <th>Amount</th>\n",
       "    </tr>\n",
       "  </thead>\n",
       "  <tbody>\n",
       "    <tr>\n",
       "      <th>6749</th>\n",
       "      <td>0.954049</td>\n",
       "      <td>0.793202</td>\n",
       "      <td>0.803725</td>\n",
       "      <td>0.332547</td>\n",
       "      <td>0.772918</td>\n",
       "      <td>0.225046</td>\n",
       "      <td>0.210463</td>\n",
       "      <td>0.799625</td>\n",
       "      <td>0.321406</td>\n",
       "      <td>0.342306</td>\n",
       "      <td>...</td>\n",
       "      <td>0.578580</td>\n",
       "      <td>0.602675</td>\n",
       "      <td>0.493831</td>\n",
       "      <td>0.668133</td>\n",
       "      <td>0.393296</td>\n",
       "      <td>0.594098</td>\n",
       "      <td>0.350013</td>\n",
       "      <td>0.418190</td>\n",
       "      <td>0.486858</td>\n",
       "      <td>0.000090</td>\n",
       "    </tr>\n",
       "    <tr>\n",
       "      <th>226769</th>\n",
       "      <td>0.944547</td>\n",
       "      <td>0.779256</td>\n",
       "      <td>0.842224</td>\n",
       "      <td>0.224343</td>\n",
       "      <td>0.771930</td>\n",
       "      <td>0.230643</td>\n",
       "      <td>0.214762</td>\n",
       "      <td>0.794618</td>\n",
       "      <td>0.289704</td>\n",
       "      <td>0.372794</td>\n",
       "      <td>...</td>\n",
       "      <td>0.579739</td>\n",
       "      <td>0.601821</td>\n",
       "      <td>0.480938</td>\n",
       "      <td>0.666979</td>\n",
       "      <td>0.385152</td>\n",
       "      <td>0.598142</td>\n",
       "      <td>0.448252</td>\n",
       "      <td>0.420921</td>\n",
       "      <td>0.492016</td>\n",
       "      <td>0.000376</td>\n",
       "    </tr>\n",
       "    <tr>\n",
       "      <th>71452</th>\n",
       "      <td>0.967908</td>\n",
       "      <td>0.763611</td>\n",
       "      <td>0.846178</td>\n",
       "      <td>0.255190</td>\n",
       "      <td>0.763988</td>\n",
       "      <td>0.240642</td>\n",
       "      <td>0.206339</td>\n",
       "      <td>0.797182</td>\n",
       "      <td>0.307356</td>\n",
       "      <td>0.380148</td>\n",
       "      <td>...</td>\n",
       "      <td>0.581767</td>\n",
       "      <td>0.606640</td>\n",
       "      <td>0.505604</td>\n",
       "      <td>0.663415</td>\n",
       "      <td>0.394508</td>\n",
       "      <td>0.643215</td>\n",
       "      <td>0.589830</td>\n",
       "      <td>0.414971</td>\n",
       "      <td>0.489312</td>\n",
       "      <td>0.004282</td>\n",
       "    </tr>\n",
       "    <tr>\n",
       "      <th>275449</th>\n",
       "      <td>0.905169</td>\n",
       "      <td>0.778474</td>\n",
       "      <td>0.857310</td>\n",
       "      <td>0.402597</td>\n",
       "      <td>0.786627</td>\n",
       "      <td>0.303829</td>\n",
       "      <td>0.196565</td>\n",
       "      <td>0.780356</td>\n",
       "      <td>0.210135</td>\n",
       "      <td>0.413861</td>\n",
       "      <td>...</td>\n",
       "      <td>0.588063</td>\n",
       "      <td>0.583008</td>\n",
       "      <td>0.536057</td>\n",
       "      <td>0.673221</td>\n",
       "      <td>0.470696</td>\n",
       "      <td>0.627454</td>\n",
       "      <td>0.484116</td>\n",
       "      <td>0.411729</td>\n",
       "      <td>0.490152</td>\n",
       "      <td>0.000739</td>\n",
       "    </tr>\n",
       "    <tr>\n",
       "      <th>232739</th>\n",
       "      <td>0.984267</td>\n",
       "      <td>0.745637</td>\n",
       "      <td>0.823053</td>\n",
       "      <td>0.139168</td>\n",
       "      <td>0.757251</td>\n",
       "      <td>0.233564</td>\n",
       "      <td>0.202756</td>\n",
       "      <td>0.795253</td>\n",
       "      <td>0.354589</td>\n",
       "      <td>0.371924</td>\n",
       "      <td>...</td>\n",
       "      <td>0.577756</td>\n",
       "      <td>0.607373</td>\n",
       "      <td>0.535656</td>\n",
       "      <td>0.664557</td>\n",
       "      <td>0.394044</td>\n",
       "      <td>0.623336</td>\n",
       "      <td>0.309282</td>\n",
       "      <td>0.417741</td>\n",
       "      <td>0.488573</td>\n",
       "      <td>0.007730</td>\n",
       "    </tr>\n",
       "  </tbody>\n",
       "</table>\n",
       "<p>5 rows × 29 columns</p>\n",
       "</div>"
      ],
      "text/plain": [
       "              V1        V2        V3        V4        V5        V6        V7  \\\n",
       "6749    0.954049  0.793202  0.803725  0.332547  0.772918  0.225046  0.210463   \n",
       "226769  0.944547  0.779256  0.842224  0.224343  0.771930  0.230643  0.214762   \n",
       "71452   0.967908  0.763611  0.846178  0.255190  0.763988  0.240642  0.206339   \n",
       "275449  0.905169  0.778474  0.857310  0.402597  0.786627  0.303829  0.196565   \n",
       "232739  0.984267  0.745637  0.823053  0.139168  0.757251  0.233564  0.202756   \n",
       "\n",
       "              V8        V9       V10  ...       V20       V21       V22  \\\n",
       "6749    0.799625  0.321406  0.342306  ...  0.578580  0.602675  0.493831   \n",
       "226769  0.794618  0.289704  0.372794  ...  0.579739  0.601821  0.480938   \n",
       "71452   0.797182  0.307356  0.380148  ...  0.581767  0.606640  0.505604   \n",
       "275449  0.780356  0.210135  0.413861  ...  0.588063  0.583008  0.536057   \n",
       "232739  0.795253  0.354589  0.371924  ...  0.577756  0.607373  0.535656   \n",
       "\n",
       "             V23       V24       V25       V26       V27       V28    Amount  \n",
       "6749    0.668133  0.393296  0.594098  0.350013  0.418190  0.486858  0.000090  \n",
       "226769  0.666979  0.385152  0.598142  0.448252  0.420921  0.492016  0.000376  \n",
       "71452   0.663415  0.394508  0.643215  0.589830  0.414971  0.489312  0.004282  \n",
       "275449  0.673221  0.470696  0.627454  0.484116  0.411729  0.490152  0.000739  \n",
       "232739  0.664557  0.394044  0.623336  0.309282  0.417741  0.488573  0.007730  \n",
       "\n",
       "[5 rows x 29 columns]"
      ]
     },
     "execution_count": 9,
     "metadata": {},
     "output_type": "execute_result"
    }
   ],
   "source": [
    "X_train_normalized.head()"
   ]
  },
  {
   "cell_type": "markdown",
   "metadata": {},
   "source": [
    "#### **5. Turn the Datasets into Tensors**"
   ]
  },
  {
   "cell_type": "code",
   "execution_count": 10,
   "metadata": {},
   "outputs": [],
   "source": [
    "X_train = torch.from_numpy(X_train.values).to(torch.float)\n",
    "X_train_normalized = torch.from_numpy(X_train_normalized.values).to(torch.float)\n",
    "\n",
    "y_train = torch.from_numpy(y_train.values).to(torch.float)\n",
    "\n",
    "X_test = torch.from_numpy(X_test.values).to(torch.float)"
   ]
  },
  {
   "cell_type": "markdown",
   "metadata": {},
   "source": [
    "#### **6. Encoder Class**"
   ]
  },
  {
   "cell_type": "code",
   "execution_count": 11,
   "metadata": {},
   "outputs": [],
   "source": [
    "class Encoder(nn.Module):\n",
    "    \n",
    "    def __init__(self, input_dim, hidden_dim, latent_dim):\n",
    "\n",
    "        super().__init__()\n",
    "\n",
    "        self.fc1 = nn.Linear(input_dim, hidden_dim)        \n",
    "        self.fc2 = nn.Linear(hidden_dim, latent_dim)\n",
    "        \n",
    "        self.mean_layer = nn.Linear(latent_dim, 2)     \n",
    "        self.logvar_layer = nn.Linear(latent_dim, 2)     \n",
    "        \n",
    "    def forward(self,x):\n",
    "        \n",
    "        x = self.fc1(x)\n",
    "        x = F.relu(x)\n",
    "\n",
    "        x = self.fc2(x)\n",
    "        x = F.relu(x)\n",
    "        \n",
    "        mean = self.mean_layer(x)\n",
    "        logvar = self.logvar_layer(x)\n",
    "        logvar = F.softplus(logvar) \n",
    "        \n",
    "        return mean, logvar"
   ]
  },
  {
   "cell_type": "code",
   "execution_count": 12,
   "metadata": {},
   "outputs": [
    {
     "name": "stdout",
     "output_type": "stream",
     "text": [
      "tensor([ 0.4155,  1.8939, -1.9441,  1.8737,  0.5268, -1.7126,  0.3001,  0.2896,\n",
      "         0.7435, -1.5670,  3.1209, -3.1095, -0.2475, -1.2405, -0.2292,  1.1441,\n",
      "         3.6430,  2.4553, -0.3966, -0.1583, -0.2096, -0.3473,  0.1818,  0.0821,\n",
      "        -0.5722, -0.4618,  0.0909, -0.0650, -0.3440])\n"
     ]
    }
   ],
   "source": [
    "encoder = Encoder(input_dim = 29, hidden_dim = 15, latent_dim = 8)\n",
    "\n",
    "x_sample = X_train[0]\n",
    "print(x_sample)"
   ]
  },
  {
   "cell_type": "code",
   "execution_count": 13,
   "metadata": {},
   "outputs": [
    {
     "name": "stdout",
     "output_type": "stream",
     "text": [
      "mean vector:  [-0.2013084441423416, 0.06428743898868561]\n",
      "log variance vector:  [0.7849966883659363, 0.5111600756645203]\n"
     ]
    }
   ],
   "source": [
    "mean, logvar = encoder.forward(x_sample)\n",
    "\n",
    "print(\"mean vector: \", mean.view(-1).tolist())\n",
    "print(\"log variance vector: \", logvar.view(-1).tolist())"
   ]
  },
  {
   "cell_type": "markdown",
   "metadata": {},
   "source": [
    "#### **7. Decoder Class**"
   ]
  },
  {
   "cell_type": "code",
   "execution_count": 14,
   "metadata": {},
   "outputs": [],
   "source": [
    "def reparametrize(mean, var):\n",
    "\n",
    "    epsilon = torch.randn_like(var)\n",
    "    z = mean + torch.sqrt(var) * epsilon\n",
    "    \n",
    "    return z\n",
    "\n",
    "\n",
    "class Decoder(nn.Module):\n",
    "    \n",
    "    def __init__(self, latent_dim = 8, hidden_dim = 15, input_dim = 29):\n",
    "\n",
    "        super().__init__()\n",
    "        \n",
    "        self.fc1 = nn.Linear(2, latent_dim)    \n",
    "        self.fc2 = nn.Linear(latent_dim, hidden_dim)\n",
    "        self.fc3 = nn.Linear(hidden_dim, input_dim)\n",
    "        \n",
    "    def forward(self, u):\n",
    "        \n",
    "        u = self.fc1(u)\n",
    "        u = F.relu(u)  \n",
    "\n",
    "        u = self.fc2(u)\n",
    "        u = F.relu(u)\n",
    "\n",
    "        u = self.fc3(u)\n",
    "        \n",
    "        # z = F.sigmoid(u).to(torch.float)\n",
    "        z = u.to(torch.float)  \n",
    "        \n",
    "        return z"
   ]
  },
  {
   "cell_type": "code",
   "execution_count": 15,
   "metadata": {},
   "outputs": [],
   "source": [
    "z_sample = reparametrize(mean, torch.exp(logvar))\n",
    "\n",
    "decoder = Decoder(input_dim = 29, hidden_dim = 15, latent_dim = 8)\n",
    "x_sample_reconstruct = decoder.forward(z_sample)"
   ]
  },
  {
   "cell_type": "code",
   "execution_count": 16,
   "metadata": {},
   "outputs": [
    {
     "name": "stdout",
     "output_type": "stream",
     "text": [
      "tensor([ 0.0995, -0.2112,  0.0650, -0.0673,  0.0884,  0.2616,  0.3403,  0.0065,\n",
      "         0.3810,  0.2637,  0.0931, -0.0286, -0.0386, -0.1354,  0.0126,  0.0516,\n",
      "         0.0986,  0.3364, -0.3621,  0.3898,  0.3840, -0.0400, -0.0510,  0.2308,\n",
      "         0.0845, -0.1508,  0.1336, -0.0802, -0.1857], grad_fn=<ViewBackward0>)\n"
     ]
    }
   ],
   "source": [
    "print(x_sample_reconstruct)"
   ]
  },
  {
   "cell_type": "markdown",
   "metadata": {},
   "source": [
    "#### **8. VAE Class**"
   ]
  },
  {
   "cell_type": "code",
   "execution_count": 17,
   "metadata": {},
   "outputs": [],
   "source": [
    "class VAE(nn.Module):\n",
    "    \n",
    "    def __init__(self, input_dim = 784, hidden_dim = 400, latent_dim = 200):\n",
    "\n",
    "        super().__init__()\n",
    "        \n",
    "        self.encoder = Encoder(input_dim, hidden_dim, latent_dim)\n",
    "        self.decoder = Decoder(latent_dim, hidden_dim, input_dim)\n",
    "        \n",
    "    def reparametrize(self, mean, var):\n",
    "\n",
    "        epsilon = torch.randn_like(var)\n",
    "        z = mean + torch.sqrt(var) * epsilon\n",
    "\n",
    "        return z\n",
    "    \n",
    "    def forward(self, x):\n",
    "        \n",
    "        mean, logvar = self.encoder(x)\n",
    "        \n",
    "        u = self.reparametrize(mean, torch.exp(logvar))\n",
    "        z = self.decoder(u)\n",
    "        \n",
    "        return z, mean, logvar    \n",
    "\n",
    "\n",
    "def loss_function(x, z, mean, logvar):\n",
    "\n",
    "    # reconstruction_loss = F.binary_cross_entropy(z, x, reduction='sum')\n",
    "    reconstruction_loss = F.mse_loss(z, x, reduction='sum')\n",
    "    KL_div =  - 0.5 * torch.sum(1+ logvar - mean**2 - torch.exp(logvar))\n",
    "    \n",
    "    return reconstruction_loss + KL_div    "
   ]
  },
  {
   "cell_type": "markdown",
   "metadata": {},
   "source": [
    "#### **9. Training**"
   ]
  },
  {
   "cell_type": "code",
   "execution_count": 18,
   "metadata": {},
   "outputs": [],
   "source": [
    "X_train_dataset = TensorDataset(X_train, y_train)\n",
    "X_train_normalized_dataset = TensorDataset(X_train_normalized, y_train)"
   ]
  },
  {
   "cell_type": "code",
   "execution_count": 19,
   "metadata": {},
   "outputs": [],
   "source": [
    "X_train_dataloader = DataLoader(X_train_dataset, batch_size = 64, shuffle = True)\n",
    "X_train_normalized_dataloader = DataLoader(X_train_normalized_dataset, batch_size = 64, shuffle = True)"
   ]
  },
  {
   "cell_type": "code",
   "execution_count": 20,
   "metadata": {},
   "outputs": [],
   "source": [
    "def training(model, train_loader, lr, epochs):\n",
    "\n",
    "    optimizer = Adam(vae.parameters(), lr = lr)\n",
    "    average_loss_list = []\n",
    "\n",
    "    batch_size = 64\n",
    "\n",
    "    for e in tqdm(range(epochs)):\n",
    "\n",
    "        overall_loss = 0.0\n",
    "\n",
    "        for i,x in enumerate(train_loader):\n",
    "            \n",
    "            x = x[0]\n",
    "            \n",
    "            z,mean,logvar = vae(x)\n",
    "            \n",
    "            optimizer.zero_grad()\n",
    "\n",
    "            loss = loss_function(x, z, mean,logvar)\n",
    "            overall_loss += loss.item()\n",
    "            \n",
    "            loss.backward()\n",
    "            optimizer.step()\n",
    "            \n",
    "        # print(\"\\tEpoch\", e + 1, \"\\tAverage Loss: \", overall_loss/(i*batch_size))\n",
    "        average_loss_list.append(overall_loss/(i*batch_size))\n",
    "\n",
    "    return model, average_loss_list"
   ]
  },
  {
   "cell_type": "code",
   "execution_count": 21,
   "metadata": {},
   "outputs": [
    {
     "name": "stderr",
     "output_type": "stream",
     "text": [
      "  0%|          | 0/100 [00:00<?, ?it/s]"
     ]
    },
    {
     "name": "stderr",
     "output_type": "stream",
     "text": [
      "100%|██████████| 100/100 [08:47<00:00,  5.28s/it]\n"
     ]
    }
   ],
   "source": [
    "vae = VAE(input_dim = 29, hidden_dim = 15, latent_dim = 8)\n",
    "vae, average_loss = training(vae, X_train_dataloader, lr = 5e-4, epochs = 100)\n",
    "# vae, average_loss = training(vae, X_train_normalized_dataloader, lr = 1e-3, epochs = 100)"
   ]
  },
  {
   "cell_type": "code",
   "execution_count": 22,
   "metadata": {},
   "outputs": [],
   "source": [
    "def plot_losses(losses):\n",
    "\n",
    "    plt.figure(figsize = (20,6), dpi = 100).set_facecolor('white')\n",
    "    plt.plot(losses)\n",
    "\n",
    "    plt.xlabel('Epoches')\n",
    "    plt.ylabel('Loss')\n",
    "    # plt.yscale('log')\n",
    "\n",
    "    plt.title('Average of Loss for Training VAE')"
   ]
  },
  {
   "cell_type": "code",
   "execution_count": 23,
   "metadata": {},
   "outputs": [
    {
     "data": {
      "image/png": "[encoded data removed]",
      "text/plain": [
       "<Figure size 2000x600 with 1 Axes>"
      ]
     },
     "metadata": {},
     "output_type": "display_data"
    }
   ],
   "source": [
    "plot_losses(average_loss)"
   ]
  },
  {
   "cell_type": "markdown",
   "metadata": {},
   "source": [
    "#### **10. Compute the Reconstruction Probability**"
   ]
  },
  {
   "cell_type": "code",
   "execution_count": 24,
   "metadata": {},
   "outputs": [
    {
     "data": {
      "text/plain": [
       "VAE(\n",
       "  (encoder): Encoder(\n",
       "    (fc1): Linear(in_features=29, out_features=15, bias=True)\n",
       "    (fc2): Linear(in_features=15, out_features=8, bias=True)\n",
       "    (mean_layer): Linear(in_features=8, out_features=2, bias=True)\n",
       "    (logvar_layer): Linear(in_features=8, out_features=2, bias=True)\n",
       "  )\n",
       "  (decoder): Decoder(\n",
       "    (fc1): Linear(in_features=2, out_features=8, bias=True)\n",
       "    (fc2): Linear(in_features=8, out_features=15, bias=True)\n",
       "    (fc3): Linear(in_features=15, out_features=29, bias=True)\n",
       "  )\n",
       ")"
      ]
     },
     "execution_count": 24,
     "metadata": {},
     "output_type": "execute_result"
    }
   ],
   "source": [
    "vae.eval()"
   ]
  },
  {
   "cell_type": "code",
   "execution_count": 25,
   "metadata": {},
   "outputs": [
    {
     "name": "stderr",
     "output_type": "stream",
     "text": [
      "100%|██████████| 71202/71202 [04:53<00:00, 242.32it/s]\n"
     ]
    }
   ],
   "source": [
    "reconstruction_loss_ave = []\n",
    "\n",
    "for x_test in tqdm(X_test):\n",
    "\n",
    "    reconstruction_loss_all = 0\n",
    "\n",
    "    for _ in range(20):\n",
    "        \n",
    "        x_test_reconstruct, mean, logvar = vae.forward(x_test)\n",
    "        reconstruction_loss_all += F.mse_loss(x_test_reconstruct, x_test, reduction='sum')\n",
    "    \n",
    "    reconstruction_loss_ave.append(reconstruction_loss_all/20)"
   ]
  },
  {
   "cell_type": "markdown",
   "metadata": {},
   "source": [
    "#### **11. Make the Dataframe with Recon Errors and True Labels**"
   ]
  },
  {
   "cell_type": "code",
   "execution_count": 26,
   "metadata": {},
   "outputs": [],
   "source": [
    "reconstruction_loss_ave = [tensor.item() for tensor in reconstruction_loss_ave]"
   ]
  },
  {
   "cell_type": "code",
   "execution_count": 27,
   "metadata": {},
   "outputs": [
    {
     "data": {
      "text/html": [
       "<div>\n",
       "<style scoped>\n",
       "    .dataframe tbody tr th:only-of-type {\n",
       "        vertical-align: middle;\n",
       "    }\n",
       "\n",
       "    .dataframe tbody tr th {\n",
       "        vertical-align: top;\n",
       "    }\n",
       "\n",
       "    .dataframe thead th {\n",
       "        text-align: right;\n",
       "    }\n",
       "</style>\n",
       "<table border=\"1\" class=\"dataframe\">\n",
       "  <thead>\n",
       "    <tr style=\"text-align: right;\">\n",
       "      <th></th>\n",
       "      <th>Class</th>\n",
       "      <th>Reconstruction Error</th>\n",
       "    </tr>\n",
       "  </thead>\n",
       "  <tbody>\n",
       "    <tr>\n",
       "      <th>80071</th>\n",
       "      <td>0</td>\n",
       "      <td>8.572254</td>\n",
       "    </tr>\n",
       "    <tr>\n",
       "      <th>263377</th>\n",
       "      <td>0</td>\n",
       "      <td>28.581781</td>\n",
       "    </tr>\n",
       "    <tr>\n",
       "      <th>274895</th>\n",
       "      <td>0</td>\n",
       "      <td>35.684677</td>\n",
       "    </tr>\n",
       "    <tr>\n",
       "      <th>214117</th>\n",
       "      <td>0</td>\n",
       "      <td>13.866316</td>\n",
       "    </tr>\n",
       "    <tr>\n",
       "      <th>169156</th>\n",
       "      <td>0</td>\n",
       "      <td>15.395691</td>\n",
       "    </tr>\n",
       "    <tr>\n",
       "      <th>...</th>\n",
       "      <td>...</td>\n",
       "      <td>...</td>\n",
       "    </tr>\n",
       "    <tr>\n",
       "      <th>68055</th>\n",
       "      <td>0</td>\n",
       "      <td>19.009470</td>\n",
       "    </tr>\n",
       "    <tr>\n",
       "      <th>64709</th>\n",
       "      <td>0</td>\n",
       "      <td>63.569519</td>\n",
       "    </tr>\n",
       "    <tr>\n",
       "      <th>85960</th>\n",
       "      <td>0</td>\n",
       "      <td>8.964423</td>\n",
       "    </tr>\n",
       "    <tr>\n",
       "      <th>167375</th>\n",
       "      <td>0</td>\n",
       "      <td>9.417203</td>\n",
       "    </tr>\n",
       "    <tr>\n",
       "      <th>240232</th>\n",
       "      <td>0</td>\n",
       "      <td>9.431689</td>\n",
       "    </tr>\n",
       "  </tbody>\n",
       "</table>\n",
       "<p>71202 rows × 2 columns</p>\n",
       "</div>"
      ],
      "text/plain": [
       "        Class  Reconstruction Error\n",
       "80071       0              8.572254\n",
       "263377      0             28.581781\n",
       "274895      0             35.684677\n",
       "214117      0             13.866316\n",
       "169156      0             15.395691\n",
       "...       ...                   ...\n",
       "68055       0             19.009470\n",
       "64709       0             63.569519\n",
       "85960       0              8.964423\n",
       "167375      0              9.417203\n",
       "240232      0              9.431689\n",
       "\n",
       "[71202 rows x 2 columns]"
      ]
     },
     "execution_count": 27,
     "metadata": {},
     "output_type": "execute_result"
    }
   ],
   "source": [
    "test_result = y_test.to_frame()\n",
    "test_result['Reconstruction Error'] = reconstruction_loss_ave\n",
    "\n",
    "test_result"
   ]
  },
  {
   "cell_type": "markdown",
   "metadata": {},
   "source": [
    "#### **12. Plot the Histograms of the Recon Errors**"
   ]
  },
  {
   "cell_type": "code",
   "execution_count": 38,
   "metadata": {},
   "outputs": [
    {
     "data": {
      "image/png": "[encoded data removed]",
      "text/plain": [
       "<Figure size 1600x800 with 2 Axes>"
      ]
     },
     "metadata": {},
     "output_type": "display_data"
    }
   ],
   "source": [
    "import matplotlib.pyplot as plt\n",
    "import seaborn as sns\n",
    "\n",
    "legitimate_errors = test_result[test_result['Class'] == 0]['Reconstruction Error']\n",
    "fraudulent_errors = test_result[test_result['Class'] == 1]['Reconstruction Error']\n",
    "\n",
    "plt.figure(figsize=(16, 8))\n",
    "\n",
    "plt.subplot(1, 2, 1)\n",
    "sns.histplot(legitimate_errors, bins = 10000, kde=True, color='blue')\n",
    "plt.title('Reconstruction Error - Legitimate Transactions')\n",
    "plt.xlabel('Reconstruction Error')\n",
    "plt.ylabel('Density')\n",
    "\n",
    "plt.subplot(1, 2, 2)\n",
    "sns.histplot(fraudulent_errors, kde=True, color='red')\n",
    "plt.title('Reconstruction Error - Fraudulent Transactions')\n",
    "plt.xlabel('Reconstruction Error')\n",
    "plt.ylabel('Density')\n",
    "\n",
    "plt.tight_layout()\n",
    "plt.show()"
   ]
  },
  {
   "cell_type": "markdown",
   "metadata": {},
   "source": [
    "According to the above histograms, we could tell that the reconstruction error between samples from legitimate and fraudulent transactions are very different. To make the classification, we set a threshold recon error λ to be 200."
   ]
  },
  {
   "cell_type": "code",
   "execution_count": 39,
   "metadata": {},
   "outputs": [],
   "source": [
    "lambda_ = 200"
   ]
  },
  {
   "cell_type": "markdown",
   "metadata": {},
   "source": [
    "#### **13. Compute the Confusion Matrix**"
   ]
  },
  {
   "cell_type": "markdown",
   "metadata": {},
   "source": [
    "After determining the threshold, we could make predictions by classifying the samples. If recon error < λ, the prediction will be legit (0), else fraud (1).\n",
    "\n",
    "Since it's a binary classification problem, we could compute the **confusion matrix** after prediction. In binary classification problems, there are four combinations of the ground-truth class and the predicted class, namely true positive, false positive, true negative, and false negative, and TP + FP + TN + FN = total number of samples.\n",
    "\n",
    "The following plot is from Machine Learning by Zhi-Hua Zhou, shows a confusion matrix.\n",
    "\n",
    "Based on the confusion matrix, we could compute **precision** and **recall** accordingly:\n",
    "\n",
    "Precision = TP/(TP+FP) &nbsp; Recall = TP/(TP+FN)"
   ]
  },
  {
   "attachments": {
    "image.png": {
     "image/png": "[encoded data removed]"
    }
   },
   "cell_type": "markdown",
   "metadata": {},
   "source": [
    "![image.png](attachment:image.png)"
   ]
  },
  {
   "cell_type": "code",
   "execution_count": 42,
   "metadata": {},
   "outputs": [],
   "source": [
    "def predict_fraud(df, lambda_):\n",
    "\n",
    "    df['Class_predict'] = df['Reconstruction Error'].apply(lambda x: 1 if x >= lambda_ else 0)\n",
    "\n",
    "    return df"
   ]
  },
  {
   "cell_type": "code",
   "execution_count": 47,
   "metadata": {},
   "outputs": [],
   "source": [
    "from sklearn.metrics import confusion_matrix\n",
    "from sklearn.metrics import precision_score, recall_score, accuracy_score\n",
    "\n",
    "def get_confusion_matrix(df_predict):\n",
    "\n",
    "    actual_classes = df_predict['Class']\n",
    "    predicted_classes = df_predict['Class_predict']\n",
    "\n",
    "    conf_matrix = confusion_matrix(actual_classes, predicted_classes)\n",
    "\n",
    "    precision = precision_score(actual_classes, predicted_classes)\n",
    "    recall = recall_score(actual_classes, predicted_classes)\n",
    "    accuracy = accuracy_score(actual_classes, predicted_classes)\n",
    "\n",
    "    return conf_matrix, precision, recall, accuracy"
   ]
  },
  {
   "cell_type": "code",
   "execution_count": 53,
   "metadata": {},
   "outputs": [
    {
     "data": {
      "text/html": [
       "<div>\n",
       "<style scoped>\n",
       "    .dataframe tbody tr th:only-of-type {\n",
       "        vertical-align: middle;\n",
       "    }\n",
       "\n",
       "    .dataframe tbody tr th {\n",
       "        vertical-align: top;\n",
       "    }\n",
       "\n",
       "    .dataframe thead th {\n",
       "        text-align: right;\n",
       "    }\n",
       "</style>\n",
       "<table border=\"1\" class=\"dataframe\">\n",
       "  <thead>\n",
       "    <tr style=\"text-align: right;\">\n",
       "      <th></th>\n",
       "      <th>Class</th>\n",
       "      <th>Reconstruction Error</th>\n",
       "      <th>Class_predict</th>\n",
       "    </tr>\n",
       "  </thead>\n",
       "  <tbody>\n",
       "    <tr>\n",
       "      <th>80071</th>\n",
       "      <td>0</td>\n",
       "      <td>8.572254</td>\n",
       "      <td>0</td>\n",
       "    </tr>\n",
       "    <tr>\n",
       "      <th>263377</th>\n",
       "      <td>0</td>\n",
       "      <td>28.581781</td>\n",
       "      <td>0</td>\n",
       "    </tr>\n",
       "    <tr>\n",
       "      <th>274895</th>\n",
       "      <td>0</td>\n",
       "      <td>35.684677</td>\n",
       "      <td>0</td>\n",
       "    </tr>\n",
       "    <tr>\n",
       "      <th>214117</th>\n",
       "      <td>0</td>\n",
       "      <td>13.866316</td>\n",
       "      <td>0</td>\n",
       "    </tr>\n",
       "    <tr>\n",
       "      <th>169156</th>\n",
       "      <td>0</td>\n",
       "      <td>15.395691</td>\n",
       "      <td>0</td>\n",
       "    </tr>\n",
       "  </tbody>\n",
       "</table>\n",
       "</div>"
      ],
      "text/plain": [
       "        Class  Reconstruction Error  Class_predict\n",
       "80071       0              8.572254              0\n",
       "263377      0             28.581781              0\n",
       "274895      0             35.684677              0\n",
       "214117      0             13.866316              0\n",
       "169156      0             15.395691              0"
      ]
     },
     "execution_count": 53,
     "metadata": {},
     "output_type": "execute_result"
    }
   ],
   "source": [
    "df_predict = predict_fraud(test_result, lambda_ = 200)\n",
    "df_predict.head()"
   ]
  },
  {
   "cell_type": "code",
   "execution_count": 54,
   "metadata": {},
   "outputs": [
    {
     "name": "stdout",
     "output_type": "stream",
     "text": [
      "Confusion Matrix: \n",
      "[[70960   122]\n",
      " [   47    73]]\n",
      " \n",
      "Accuracy: 0.9976\n",
      "Precision: 0.3744\n",
      "Recall: 0.6083\n"
     ]
    }
   ],
   "source": [
    "conf_matrix, precision, recall, accuracy = get_confusion_matrix(df_predict)\n",
    "\n",
    "print(\"Confusion Matrix: \")\n",
    "print(conf_matrix)\n",
    "print(\" \")\n",
    "print(f\"Accuracy: {accuracy:.4f}\")\n",
    "print(f\"Precision: {precision:.4f}\")\n",
    "print(f\"Recall: {recall:.4f}\")"
   ]
  },
  {
   "cell_type": "markdown",
   "metadata": {},
   "source": [
    "According to the above result, when setting recon error threshold λ = 200, among all test samples, there were 70960 samples where the model predicted as the legit class were actually legit (true label = 0, predict label = 0), and there were 73 samples where the model predicted as the fraud class were actually fraud (true label = 1, predict label = 1). However, the model made wrong predictions on 47 fraud cases (true label = 1, predict label = 0) and 122 legit cases (true label = 0, predict label = 1).\n",
    "\n",
    "And we could calculate the metrics, and find precision to be 37.44%, recall to be 60.83%."
   ]
  },
  {
   "cell_type": "markdown",
   "metadata": {},
   "source": [
    "#### **14. Try Different Threshold Values**"
   ]
  },
  {
   "cell_type": "markdown",
   "metadata": {},
   "source": [
    "* **λ = 100**"
   ]
  },
  {
   "cell_type": "code",
   "execution_count": 57,
   "metadata": {},
   "outputs": [
    {
     "name": "stdout",
     "output_type": "stream",
     "text": [
      "Confusion Matrix: \n",
      "[[70705   377]\n",
      " [   26    94]]\n",
      " \n",
      "Accuracy: 0.9943\n",
      "Precision: 0.1996\n",
      "Recall: 0.7833\n"
     ]
    }
   ],
   "source": [
    "df_predict = predict_fraud(test_result, lambda_ = 100)\n",
    "\n",
    "conf_matrix, precision, recall, accuracy = get_confusion_matrix(df_predict)\n",
    "\n",
    "print(\"Confusion Matrix: \")\n",
    "print(conf_matrix)\n",
    "print(\" \")\n",
    "print(f\"Accuracy: {accuracy:.4f}\")\n",
    "print(f\"Precision: {precision:.4f}\")\n",
    "print(f\"Recall: {recall:.4f}\")"
   ]
  },
  {
   "cell_type": "markdown",
   "metadata": {},
   "source": [
    "* **λ = 200**"
   ]
  },
  {
   "cell_type": "code",
   "execution_count": 58,
   "metadata": {},
   "outputs": [
    {
     "name": "stdout",
     "output_type": "stream",
     "text": [
      "Confusion Matrix: \n",
      "[[70960   122]\n",
      " [   47    73]]\n",
      " \n",
      "Accuracy: 0.9976\n",
      "Precision: 0.3744\n",
      "Recall: 0.6083\n"
     ]
    }
   ],
   "source": [
    "df_predict = predict_fraud(test_result, lambda_ = 200)\n",
    "\n",
    "conf_matrix, precision, recall, accuracy = get_confusion_matrix(df_predict)\n",
    "\n",
    "print(\"Confusion Matrix: \")\n",
    "print(conf_matrix)\n",
    "print(\" \")\n",
    "print(f\"Accuracy: {accuracy:.4f}\")\n",
    "print(f\"Precision: {precision:.4f}\")\n",
    "print(f\"Recall: {recall:.4f}\")"
   ]
  },
  {
   "cell_type": "markdown",
   "metadata": {},
   "source": [
    "* **λ = 300**"
   ]
  },
  {
   "cell_type": "code",
   "execution_count": 59,
   "metadata": {},
   "outputs": [
    {
     "name": "stdout",
     "output_type": "stream",
     "text": [
      "Confusion Matrix: \n",
      "[[71025    57]\n",
      " [   62    58]]\n",
      " \n",
      "Accuracy: 0.9983\n",
      "Precision: 0.5043\n",
      "Recall: 0.4833\n"
     ]
    }
   ],
   "source": [
    "df_predict = predict_fraud(test_result, lambda_ = 300)\n",
    "\n",
    "conf_matrix, precision, recall, accuracy = get_confusion_matrix(df_predict)\n",
    "\n",
    "print(\"Confusion Matrix: \")\n",
    "print(conf_matrix)\n",
    "print(\" \")\n",
    "print(f\"Accuracy: {accuracy:.4f}\")\n",
    "print(f\"Precision: {precision:.4f}\")\n",
    "print(f\"Recall: {recall:.4f}\")"
   ]
  },
  {
   "cell_type": "markdown",
   "metadata": {},
   "source": [
    "As recon error threshold gets larger, in the confusion matrix, TP and FP get larger, FN and TN get smaller. Accordingly, precision becomes larger, and recall goes down."
   ]
  },
  {
   "cell_type": "markdown",
   "metadata": {},
   "source": [
    "#### **15. See How the Threshold Divides the Data**"
   ]
  },
  {
   "cell_type": "code",
   "execution_count": 74,
   "metadata": {},
   "outputs": [
    {
     "data": {
      "text/plain": [
       "<Figure size 1600x800 with 0 Axes>"
      ]
     },
     "metadata": {},
     "output_type": "display_data"
    },
    {
     "data": {
      "image/png": "[encoded data removed]",
      "text/plain": [
       "<Figure size 1600x800 with 1 Axes>"
      ]
     },
     "metadata": {},
     "output_type": "display_data"
    }
   ],
   "source": [
    "threshold = 200\n",
    "\n",
    "plt.figure(figsize=(16, 8)) \n",
    "\n",
    "groups = df_predict.groupby('Class')\n",
    "fig, ax = plt.subplots(figsize=(16, 8))  \n",
    "\n",
    "for name, group in groups:\n",
    "    ax.plot(group.index, group['Reconstruction Error'], marker='o', ms=3.5, linestyle='', label='Fraud' if name == 1 else 'Normal')\n",
    "\n",
    "    if name == 0:\n",
    "        ax.hlines(threshold, ax.get_xlim()[0], ax.get_xlim()[1], colors='r', zorder=100, label='Threshold')\n",
    "\n",
    "    ax.legend()\n",
    "\n",
    "plt.show()"
   ]
  }
 ],
 "metadata": {
  "kernelspec": {
   "display_name": "deep",
   "language": "python",
   "name": "python3"
  },
  "language_info": {
   "codemirror_mode": {
    "name": "ipython",
    "version": 3
   },
   "file_extension": ".py",
   "mimetype": "text/x-python",
   "name": "python",
   "nbconvert_exporter": "python",
   "pygments_lexer": "ipython3",
   "version": "3.8.18"
  }
 },
 "nbformat": 4,
 "nbformat_minor": 2
}
